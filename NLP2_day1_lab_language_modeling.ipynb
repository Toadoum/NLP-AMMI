{
  "nbformat": 4,
  "nbformat_minor": 0,
  "metadata": {
    "colab": {
      "name": "NLP2_day1-lab-language-modeling.ipynb",
      "provenance": [],
      "collapsed_sections": [],
      "include_colab_link": true
    },
    "kernelspec": {
      "name": "python3",
      "display_name": "Python 3"
    },
    "language_info": {
      "name": "python"
    },
    "accelerator": "GPU",
    "widgets": {
      "application/vnd.jupyter.widget-state+json": {
        "ea9c8029a3ef411187d4d164258a1bc1": {
          "model_module": "@jupyter-widgets/controls",
          "model_name": "HBoxModel",
          "model_module_version": "1.5.0",
          "state": {
            "_dom_classes": [],
            "_model_module": "@jupyter-widgets/controls",
            "_model_module_version": "1.5.0",
            "_model_name": "HBoxModel",
            "_view_count": null,
            "_view_module": "@jupyter-widgets/controls",
            "_view_module_version": "1.5.0",
            "_view_name": "HBoxView",
            "box_style": "",
            "children": [
              "IPY_MODEL_c0146294296b4f5589118ccf646e5d6c",
              "IPY_MODEL_0814312beb4b4401936e941bf5efb4c7",
              "IPY_MODEL_08a5efe1aa94420ba1810499d5fbffbd"
            ],
            "layout": "IPY_MODEL_ae327ab333b94f99bfbad7a8a6f75c59"
          }
        },
        "c0146294296b4f5589118ccf646e5d6c": {
          "model_module": "@jupyter-widgets/controls",
          "model_name": "HTMLModel",
          "model_module_version": "1.5.0",
          "state": {
            "_dom_classes": [],
            "_model_module": "@jupyter-widgets/controls",
            "_model_module_version": "1.5.0",
            "_model_name": "HTMLModel",
            "_view_count": null,
            "_view_module": "@jupyter-widgets/controls",
            "_view_module_version": "1.5.0",
            "_view_name": "HTMLView",
            "description": "",
            "description_tooltip": null,
            "layout": "IPY_MODEL_b0b25c991ff9422e9f7b987bb503546a",
            "placeholder": "​",
            "style": "IPY_MODEL_8084320f670c469e8cb2b9cb242ad105",
            "value": "Downloading: 100%"
          }
        },
        "0814312beb4b4401936e941bf5efb4c7": {
          "model_module": "@jupyter-widgets/controls",
          "model_name": "FloatProgressModel",
          "model_module_version": "1.5.0",
          "state": {
            "_dom_classes": [],
            "_model_module": "@jupyter-widgets/controls",
            "_model_module_version": "1.5.0",
            "_model_name": "FloatProgressModel",
            "_view_count": null,
            "_view_module": "@jupyter-widgets/controls",
            "_view_module_version": "1.5.0",
            "_view_name": "ProgressView",
            "bar_style": "success",
            "description": "",
            "description_tooltip": null,
            "layout": "IPY_MODEL_e5eed2c6a66d40e1af6ba8127517d87b",
            "max": 1173,
            "min": 0,
            "orientation": "horizontal",
            "style": "IPY_MODEL_84b293cd0cac475e94f7cf96fa94bc97",
            "value": 1173
          }
        },
        "08a5efe1aa94420ba1810499d5fbffbd": {
          "model_module": "@jupyter-widgets/controls",
          "model_name": "HTMLModel",
          "model_module_version": "1.5.0",
          "state": {
            "_dom_classes": [],
            "_model_module": "@jupyter-widgets/controls",
            "_model_module_version": "1.5.0",
            "_model_name": "HTMLModel",
            "_view_count": null,
            "_view_module": "@jupyter-widgets/controls",
            "_view_module_version": "1.5.0",
            "_view_name": "HTMLView",
            "description": "",
            "description_tooltip": null,
            "layout": "IPY_MODEL_66c5d881f9404336a5bc445a91cdd6c9",
            "placeholder": "​",
            "style": "IPY_MODEL_f2cfe3dcaeed471197dc95f0664dc833",
            "value": " 1.17k/1.17k [00:00&lt;00:00, 8.33kB/s]"
          }
        },
        "ae327ab333b94f99bfbad7a8a6f75c59": {
          "model_module": "@jupyter-widgets/base",
          "model_name": "LayoutModel",
          "model_module_version": "1.2.0",
          "state": {
            "_model_module": "@jupyter-widgets/base",
            "_model_module_version": "1.2.0",
            "_model_name": "LayoutModel",
            "_view_count": null,
            "_view_module": "@jupyter-widgets/base",
            "_view_module_version": "1.2.0",
            "_view_name": "LayoutView",
            "align_content": null,
            "align_items": null,
            "align_self": null,
            "border": null,
            "bottom": null,
            "display": null,
            "flex": null,
            "flex_flow": null,
            "grid_area": null,
            "grid_auto_columns": null,
            "grid_auto_flow": null,
            "grid_auto_rows": null,
            "grid_column": null,
            "grid_gap": null,
            "grid_row": null,
            "grid_template_areas": null,
            "grid_template_columns": null,
            "grid_template_rows": null,
            "height": null,
            "justify_content": null,
            "justify_items": null,
            "left": null,
            "margin": null,
            "max_height": null,
            "max_width": null,
            "min_height": null,
            "min_width": null,
            "object_fit": null,
            "object_position": null,
            "order": null,
            "overflow": null,
            "overflow_x": null,
            "overflow_y": null,
            "padding": null,
            "right": null,
            "top": null,
            "visibility": null,
            "width": null
          }
        },
        "b0b25c991ff9422e9f7b987bb503546a": {
          "model_module": "@jupyter-widgets/base",
          "model_name": "LayoutModel",
          "model_module_version": "1.2.0",
          "state": {
            "_model_module": "@jupyter-widgets/base",
            "_model_module_version": "1.2.0",
            "_model_name": "LayoutModel",
            "_view_count": null,
            "_view_module": "@jupyter-widgets/base",
            "_view_module_version": "1.2.0",
            "_view_name": "LayoutView",
            "align_content": null,
            "align_items": null,
            "align_self": null,
            "border": null,
            "bottom": null,
            "display": null,
            "flex": null,
            "flex_flow": null,
            "grid_area": null,
            "grid_auto_columns": null,
            "grid_auto_flow": null,
            "grid_auto_rows": null,
            "grid_column": null,
            "grid_gap": null,
            "grid_row": null,
            "grid_template_areas": null,
            "grid_template_columns": null,
            "grid_template_rows": null,
            "height": null,
            "justify_content": null,
            "justify_items": null,
            "left": null,
            "margin": null,
            "max_height": null,
            "max_width": null,
            "min_height": null,
            "min_width": null,
            "object_fit": null,
            "object_position": null,
            "order": null,
            "overflow": null,
            "overflow_x": null,
            "overflow_y": null,
            "padding": null,
            "right": null,
            "top": null,
            "visibility": null,
            "width": null
          }
        },
        "8084320f670c469e8cb2b9cb242ad105": {
          "model_module": "@jupyter-widgets/controls",
          "model_name": "DescriptionStyleModel",
          "model_module_version": "1.5.0",
          "state": {
            "_model_module": "@jupyter-widgets/controls",
            "_model_module_version": "1.5.0",
            "_model_name": "DescriptionStyleModel",
            "_view_count": null,
            "_view_module": "@jupyter-widgets/base",
            "_view_module_version": "1.2.0",
            "_view_name": "StyleView",
            "description_width": ""
          }
        },
        "e5eed2c6a66d40e1af6ba8127517d87b": {
          "model_module": "@jupyter-widgets/base",
          "model_name": "LayoutModel",
          "model_module_version": "1.2.0",
          "state": {
            "_model_module": "@jupyter-widgets/base",
            "_model_module_version": "1.2.0",
            "_model_name": "LayoutModel",
            "_view_count": null,
            "_view_module": "@jupyter-widgets/base",
            "_view_module_version": "1.2.0",
            "_view_name": "LayoutView",
            "align_content": null,
            "align_items": null,
            "align_self": null,
            "border": null,
            "bottom": null,
            "display": null,
            "flex": null,
            "flex_flow": null,
            "grid_area": null,
            "grid_auto_columns": null,
            "grid_auto_flow": null,
            "grid_auto_rows": null,
            "grid_column": null,
            "grid_gap": null,
            "grid_row": null,
            "grid_template_areas": null,
            "grid_template_columns": null,
            "grid_template_rows": null,
            "height": null,
            "justify_content": null,
            "justify_items": null,
            "left": null,
            "margin": null,
            "max_height": null,
            "max_width": null,
            "min_height": null,
            "min_width": null,
            "object_fit": null,
            "object_position": null,
            "order": null,
            "overflow": null,
            "overflow_x": null,
            "overflow_y": null,
            "padding": null,
            "right": null,
            "top": null,
            "visibility": null,
            "width": null
          }
        },
        "84b293cd0cac475e94f7cf96fa94bc97": {
          "model_module": "@jupyter-widgets/controls",
          "model_name": "ProgressStyleModel",
          "model_module_version": "1.5.0",
          "state": {
            "_model_module": "@jupyter-widgets/controls",
            "_model_module_version": "1.5.0",
            "_model_name": "ProgressStyleModel",
            "_view_count": null,
            "_view_module": "@jupyter-widgets/base",
            "_view_module_version": "1.2.0",
            "_view_name": "StyleView",
            "bar_color": null,
            "description_width": ""
          }
        },
        "66c5d881f9404336a5bc445a91cdd6c9": {
          "model_module": "@jupyter-widgets/base",
          "model_name": "LayoutModel",
          "model_module_version": "1.2.0",
          "state": {
            "_model_module": "@jupyter-widgets/base",
            "_model_module_version": "1.2.0",
            "_model_name": "LayoutModel",
            "_view_count": null,
            "_view_module": "@jupyter-widgets/base",
            "_view_module_version": "1.2.0",
            "_view_name": "LayoutView",
            "align_content": null,
            "align_items": null,
            "align_self": null,
            "border": null,
            "bottom": null,
            "display": null,
            "flex": null,
            "flex_flow": null,
            "grid_area": null,
            "grid_auto_columns": null,
            "grid_auto_flow": null,
            "grid_auto_rows": null,
            "grid_column": null,
            "grid_gap": null,
            "grid_row": null,
            "grid_template_areas": null,
            "grid_template_columns": null,
            "grid_template_rows": null,
            "height": null,
            "justify_content": null,
            "justify_items": null,
            "left": null,
            "margin": null,
            "max_height": null,
            "max_width": null,
            "min_height": null,
            "min_width": null,
            "object_fit": null,
            "object_position": null,
            "order": null,
            "overflow": null,
            "overflow_x": null,
            "overflow_y": null,
            "padding": null,
            "right": null,
            "top": null,
            "visibility": null,
            "width": null
          }
        },
        "f2cfe3dcaeed471197dc95f0664dc833": {
          "model_module": "@jupyter-widgets/controls",
          "model_name": "DescriptionStyleModel",
          "model_module_version": "1.5.0",
          "state": {
            "_model_module": "@jupyter-widgets/controls",
            "_model_module_version": "1.5.0",
            "_model_name": "DescriptionStyleModel",
            "_view_count": null,
            "_view_module": "@jupyter-widgets/base",
            "_view_module_version": "1.2.0",
            "_view_name": "StyleView",
            "description_width": ""
          }
        },
        "73522b15fb9d450398b237a2b11b2d5e": {
          "model_module": "@jupyter-widgets/controls",
          "model_name": "HBoxModel",
          "model_module_version": "1.5.0",
          "state": {
            "_dom_classes": [],
            "_model_module": "@jupyter-widgets/controls",
            "_model_module_version": "1.5.0",
            "_model_name": "HBoxModel",
            "_view_count": null,
            "_view_module": "@jupyter-widgets/controls",
            "_view_module_version": "1.5.0",
            "_view_name": "HBoxView",
            "box_style": "",
            "children": [
              "IPY_MODEL_90b993dd171449f685ae15751ab71e73",
              "IPY_MODEL_3ae160e0f7a64ecdb4a77d6c10d5dd23",
              "IPY_MODEL_2669b67fa26b475499d773dc71ffc46f"
            ],
            "layout": "IPY_MODEL_cbdc3a12da034d86b9dc2798cc0b8004"
          }
        },
        "90b993dd171449f685ae15751ab71e73": {
          "model_module": "@jupyter-widgets/controls",
          "model_name": "HTMLModel",
          "model_module_version": "1.5.0",
          "state": {
            "_dom_classes": [],
            "_model_module": "@jupyter-widgets/controls",
            "_model_module_version": "1.5.0",
            "_model_name": "HTMLModel",
            "_view_count": null,
            "_view_module": "@jupyter-widgets/controls",
            "_view_module_version": "1.5.0",
            "_view_name": "HTMLView",
            "description": "",
            "description_tooltip": null,
            "layout": "IPY_MODEL_c012e8e9ac674449a36a5644536e77a4",
            "placeholder": "​",
            "style": "IPY_MODEL_77f73e8a2257406cb5b08c7d50988fcf",
            "value": "Downloading: 100%"
          }
        },
        "3ae160e0f7a64ecdb4a77d6c10d5dd23": {
          "model_module": "@jupyter-widgets/controls",
          "model_name": "FloatProgressModel",
          "model_module_version": "1.5.0",
          "state": {
            "_dom_classes": [],
            "_model_module": "@jupyter-widgets/controls",
            "_model_module_version": "1.5.0",
            "_model_name": "FloatProgressModel",
            "_view_count": null,
            "_view_module": "@jupyter-widgets/controls",
            "_view_module_version": "1.5.0",
            "_view_name": "ProgressView",
            "bar_style": "success",
            "description": "",
            "description_tooltip": null,
            "layout": "IPY_MODEL_3077410608624fe98d9c2af2454f6ab2",
            "max": 9058,
            "min": 0,
            "orientation": "horizontal",
            "style": "IPY_MODEL_873b4c9def97428a877e06edd64a323d",
            "value": 9058
          }
        },
        "2669b67fa26b475499d773dc71ffc46f": {
          "model_module": "@jupyter-widgets/controls",
          "model_name": "HTMLModel",
          "model_module_version": "1.5.0",
          "state": {
            "_dom_classes": [],
            "_model_module": "@jupyter-widgets/controls",
            "_model_module_version": "1.5.0",
            "_model_name": "HTMLModel",
            "_view_count": null,
            "_view_module": "@jupyter-widgets/controls",
            "_view_module_version": "1.5.0",
            "_view_name": "HTMLView",
            "description": "",
            "description_tooltip": null,
            "layout": "IPY_MODEL_0b8f59bb9e47431b90cd4cd703566d47",
            "placeholder": "​",
            "style": "IPY_MODEL_3fb2ab459d8841b2b30df8036dc0ff0a",
            "value": " 9.06k/9.06k [00:00&lt;00:00, 93.0kB/s]"
          }
        },
        "cbdc3a12da034d86b9dc2798cc0b8004": {
          "model_module": "@jupyter-widgets/base",
          "model_name": "LayoutModel",
          "model_module_version": "1.2.0",
          "state": {
            "_model_module": "@jupyter-widgets/base",
            "_model_module_version": "1.2.0",
            "_model_name": "LayoutModel",
            "_view_count": null,
            "_view_module": "@jupyter-widgets/base",
            "_view_module_version": "1.2.0",
            "_view_name": "LayoutView",
            "align_content": null,
            "align_items": null,
            "align_self": null,
            "border": null,
            "bottom": null,
            "display": null,
            "flex": null,
            "flex_flow": null,
            "grid_area": null,
            "grid_auto_columns": null,
            "grid_auto_flow": null,
            "grid_auto_rows": null,
            "grid_column": null,
            "grid_gap": null,
            "grid_row": null,
            "grid_template_areas": null,
            "grid_template_columns": null,
            "grid_template_rows": null,
            "height": null,
            "justify_content": null,
            "justify_items": null,
            "left": null,
            "margin": null,
            "max_height": null,
            "max_width": null,
            "min_height": null,
            "min_width": null,
            "object_fit": null,
            "object_position": null,
            "order": null,
            "overflow": null,
            "overflow_x": null,
            "overflow_y": null,
            "padding": null,
            "right": null,
            "top": null,
            "visibility": null,
            "width": null
          }
        },
        "c012e8e9ac674449a36a5644536e77a4": {
          "model_module": "@jupyter-widgets/base",
          "model_name": "LayoutModel",
          "model_module_version": "1.2.0",
          "state": {
            "_model_module": "@jupyter-widgets/base",
            "_model_module_version": "1.2.0",
            "_model_name": "LayoutModel",
            "_view_count": null,
            "_view_module": "@jupyter-widgets/base",
            "_view_module_version": "1.2.0",
            "_view_name": "LayoutView",
            "align_content": null,
            "align_items": null,
            "align_self": null,
            "border": null,
            "bottom": null,
            "display": null,
            "flex": null,
            "flex_flow": null,
            "grid_area": null,
            "grid_auto_columns": null,
            "grid_auto_flow": null,
            "grid_auto_rows": null,
            "grid_column": null,
            "grid_gap": null,
            "grid_row": null,
            "grid_template_areas": null,
            "grid_template_columns": null,
            "grid_template_rows": null,
            "height": null,
            "justify_content": null,
            "justify_items": null,
            "left": null,
            "margin": null,
            "max_height": null,
            "max_width": null,
            "min_height": null,
            "min_width": null,
            "object_fit": null,
            "object_position": null,
            "order": null,
            "overflow": null,
            "overflow_x": null,
            "overflow_y": null,
            "padding": null,
            "right": null,
            "top": null,
            "visibility": null,
            "width": null
          }
        },
        "77f73e8a2257406cb5b08c7d50988fcf": {
          "model_module": "@jupyter-widgets/controls",
          "model_name": "DescriptionStyleModel",
          "model_module_version": "1.5.0",
          "state": {
            "_model_module": "@jupyter-widgets/controls",
            "_model_module_version": "1.5.0",
            "_model_name": "DescriptionStyleModel",
            "_view_count": null,
            "_view_module": "@jupyter-widgets/base",
            "_view_module_version": "1.2.0",
            "_view_name": "StyleView",
            "description_width": ""
          }
        },
        "3077410608624fe98d9c2af2454f6ab2": {
          "model_module": "@jupyter-widgets/base",
          "model_name": "LayoutModel",
          "model_module_version": "1.2.0",
          "state": {
            "_model_module": "@jupyter-widgets/base",
            "_model_module_version": "1.2.0",
            "_model_name": "LayoutModel",
            "_view_count": null,
            "_view_module": "@jupyter-widgets/base",
            "_view_module_version": "1.2.0",
            "_view_name": "LayoutView",
            "align_content": null,
            "align_items": null,
            "align_self": null,
            "border": null,
            "bottom": null,
            "display": null,
            "flex": null,
            "flex_flow": null,
            "grid_area": null,
            "grid_auto_columns": null,
            "grid_auto_flow": null,
            "grid_auto_rows": null,
            "grid_column": null,
            "grid_gap": null,
            "grid_row": null,
            "grid_template_areas": null,
            "grid_template_columns": null,
            "grid_template_rows": null,
            "height": null,
            "justify_content": null,
            "justify_items": null,
            "left": null,
            "margin": null,
            "max_height": null,
            "max_width": null,
            "min_height": null,
            "min_width": null,
            "object_fit": null,
            "object_position": null,
            "order": null,
            "overflow": null,
            "overflow_x": null,
            "overflow_y": null,
            "padding": null,
            "right": null,
            "top": null,
            "visibility": null,
            "width": null
          }
        },
        "873b4c9def97428a877e06edd64a323d": {
          "model_module": "@jupyter-widgets/controls",
          "model_name": "ProgressStyleModel",
          "model_module_version": "1.5.0",
          "state": {
            "_model_module": "@jupyter-widgets/controls",
            "_model_module_version": "1.5.0",
            "_model_name": "ProgressStyleModel",
            "_view_count": null,
            "_view_module": "@jupyter-widgets/base",
            "_view_module_version": "1.2.0",
            "_view_name": "StyleView",
            "bar_color": null,
            "description_width": ""
          }
        },
        "0b8f59bb9e47431b90cd4cd703566d47": {
          "model_module": "@jupyter-widgets/base",
          "model_name": "LayoutModel",
          "model_module_version": "1.2.0",
          "state": {
            "_model_module": "@jupyter-widgets/base",
            "_model_module_version": "1.2.0",
            "_model_name": "LayoutModel",
            "_view_count": null,
            "_view_module": "@jupyter-widgets/base",
            "_view_module_version": "1.2.0",
            "_view_name": "LayoutView",
            "align_content": null,
            "align_items": null,
            "align_self": null,
            "border": null,
            "bottom": null,
            "display": null,
            "flex": null,
            "flex_flow": null,
            "grid_area": null,
            "grid_auto_columns": null,
            "grid_auto_flow": null,
            "grid_auto_rows": null,
            "grid_column": null,
            "grid_gap": null,
            "grid_row": null,
            "grid_template_areas": null,
            "grid_template_columns": null,
            "grid_template_rows": null,
            "height": null,
            "justify_content": null,
            "justify_items": null,
            "left": null,
            "margin": null,
            "max_height": null,
            "max_width": null,
            "min_height": null,
            "min_width": null,
            "object_fit": null,
            "object_position": null,
            "order": null,
            "overflow": null,
            "overflow_x": null,
            "overflow_y": null,
            "padding": null,
            "right": null,
            "top": null,
            "visibility": null,
            "width": null
          }
        },
        "3fb2ab459d8841b2b30df8036dc0ff0a": {
          "model_module": "@jupyter-widgets/controls",
          "model_name": "DescriptionStyleModel",
          "model_module_version": "1.5.0",
          "state": {
            "_model_module": "@jupyter-widgets/controls",
            "_model_module_version": "1.5.0",
            "_model_name": "DescriptionStyleModel",
            "_view_count": null,
            "_view_module": "@jupyter-widgets/base",
            "_view_module_version": "1.2.0",
            "_view_name": "StyleView",
            "description_width": ""
          }
        },
        "5e771cd0d69042698ca933e48c14feaa": {
          "model_module": "@jupyter-widgets/controls",
          "model_name": "HBoxModel",
          "model_module_version": "1.5.0",
          "state": {
            "_dom_classes": [],
            "_model_module": "@jupyter-widgets/controls",
            "_model_module_version": "1.5.0",
            "_model_name": "HBoxModel",
            "_view_count": null,
            "_view_module": "@jupyter-widgets/controls",
            "_view_module_version": "1.5.0",
            "_view_name": "HBoxView",
            "box_style": "",
            "children": [
              "IPY_MODEL_2e88805dd0344fd6a35eab4e0b5988fe",
              "IPY_MODEL_5916aac1c1a5423c84478e99582b4a78",
              "IPY_MODEL_ccdec35f93654ebcae84f4ced374d830"
            ],
            "layout": "IPY_MODEL_202667956aad4e6b8455e8558d3017be"
          }
        },
        "2e88805dd0344fd6a35eab4e0b5988fe": {
          "model_module": "@jupyter-widgets/controls",
          "model_name": "HTMLModel",
          "model_module_version": "1.5.0",
          "state": {
            "_dom_classes": [],
            "_model_module": "@jupyter-widgets/controls",
            "_model_module_version": "1.5.0",
            "_model_name": "HTMLModel",
            "_view_count": null,
            "_view_module": "@jupyter-widgets/controls",
            "_view_module_version": "1.5.0",
            "_view_name": "HTMLView",
            "description": "",
            "description_tooltip": null,
            "layout": "IPY_MODEL_e1b7e15b231f4b709ea3fe4cf4d0b299",
            "placeholder": "​",
            "style": "IPY_MODEL_dbfa43ec4f89495f9c88ce11b9cb1747",
            "value": "Downloading: 100%"
          }
        },
        "5916aac1c1a5423c84478e99582b4a78": {
          "model_module": "@jupyter-widgets/controls",
          "model_name": "FloatProgressModel",
          "model_module_version": "1.5.0",
          "state": {
            "_dom_classes": [],
            "_model_module": "@jupyter-widgets/controls",
            "_model_module_version": "1.5.0",
            "_model_name": "FloatProgressModel",
            "_view_count": null,
            "_view_module": "@jupyter-widgets/controls",
            "_view_module_version": "1.5.0",
            "_view_name": "ProgressView",
            "bar_style": "success",
            "description": "",
            "description_tooltip": null,
            "layout": "IPY_MODEL_ca70a95dc2c3402c9e3ee4bceb74ef26",
            "max": 614,
            "min": 0,
            "orientation": "horizontal",
            "style": "IPY_MODEL_faa9becc03844a43b1533dbb630f4ee3",
            "value": 614
          }
        },
        "ccdec35f93654ebcae84f4ced374d830": {
          "model_module": "@jupyter-widgets/controls",
          "model_name": "HTMLModel",
          "model_module_version": "1.5.0",
          "state": {
            "_dom_classes": [],
            "_model_module": "@jupyter-widgets/controls",
            "_model_module_version": "1.5.0",
            "_model_name": "HTMLModel",
            "_view_count": null,
            "_view_module": "@jupyter-widgets/controls",
            "_view_module_version": "1.5.0",
            "_view_name": "HTMLView",
            "description": "",
            "description_tooltip": null,
            "layout": "IPY_MODEL_730525513d3e47d19af56f5953b005a2",
            "placeholder": "​",
            "style": "IPY_MODEL_660ab3ec7cc54157ac1a9b7fdc0a779d",
            "value": " 614/614 [00:00&lt;00:00, 20.4kB/s]"
          }
        },
        "202667956aad4e6b8455e8558d3017be": {
          "model_module": "@jupyter-widgets/base",
          "model_name": "LayoutModel",
          "model_module_version": "1.2.0",
          "state": {
            "_model_module": "@jupyter-widgets/base",
            "_model_module_version": "1.2.0",
            "_model_name": "LayoutModel",
            "_view_count": null,
            "_view_module": "@jupyter-widgets/base",
            "_view_module_version": "1.2.0",
            "_view_name": "LayoutView",
            "align_content": null,
            "align_items": null,
            "align_self": null,
            "border": null,
            "bottom": null,
            "display": null,
            "flex": null,
            "flex_flow": null,
            "grid_area": null,
            "grid_auto_columns": null,
            "grid_auto_flow": null,
            "grid_auto_rows": null,
            "grid_column": null,
            "grid_gap": null,
            "grid_row": null,
            "grid_template_areas": null,
            "grid_template_columns": null,
            "grid_template_rows": null,
            "height": null,
            "justify_content": null,
            "justify_items": null,
            "left": null,
            "margin": null,
            "max_height": null,
            "max_width": null,
            "min_height": null,
            "min_width": null,
            "object_fit": null,
            "object_position": null,
            "order": null,
            "overflow": null,
            "overflow_x": null,
            "overflow_y": null,
            "padding": null,
            "right": null,
            "top": null,
            "visibility": null,
            "width": null
          }
        },
        "e1b7e15b231f4b709ea3fe4cf4d0b299": {
          "model_module": "@jupyter-widgets/base",
          "model_name": "LayoutModel",
          "model_module_version": "1.2.0",
          "state": {
            "_model_module": "@jupyter-widgets/base",
            "_model_module_version": "1.2.0",
            "_model_name": "LayoutModel",
            "_view_count": null,
            "_view_module": "@jupyter-widgets/base",
            "_view_module_version": "1.2.0",
            "_view_name": "LayoutView",
            "align_content": null,
            "align_items": null,
            "align_self": null,
            "border": null,
            "bottom": null,
            "display": null,
            "flex": null,
            "flex_flow": null,
            "grid_area": null,
            "grid_auto_columns": null,
            "grid_auto_flow": null,
            "grid_auto_rows": null,
            "grid_column": null,
            "grid_gap": null,
            "grid_row": null,
            "grid_template_areas": null,
            "grid_template_columns": null,
            "grid_template_rows": null,
            "height": null,
            "justify_content": null,
            "justify_items": null,
            "left": null,
            "margin": null,
            "max_height": null,
            "max_width": null,
            "min_height": null,
            "min_width": null,
            "object_fit": null,
            "object_position": null,
            "order": null,
            "overflow": null,
            "overflow_x": null,
            "overflow_y": null,
            "padding": null,
            "right": null,
            "top": null,
            "visibility": null,
            "width": null
          }
        },
        "dbfa43ec4f89495f9c88ce11b9cb1747": {
          "model_module": "@jupyter-widgets/controls",
          "model_name": "DescriptionStyleModel",
          "model_module_version": "1.5.0",
          "state": {
            "_model_module": "@jupyter-widgets/controls",
            "_model_module_version": "1.5.0",
            "_model_name": "DescriptionStyleModel",
            "_view_count": null,
            "_view_module": "@jupyter-widgets/base",
            "_view_module_version": "1.2.0",
            "_view_name": "StyleView",
            "description_width": ""
          }
        },
        "ca70a95dc2c3402c9e3ee4bceb74ef26": {
          "model_module": "@jupyter-widgets/base",
          "model_name": "LayoutModel",
          "model_module_version": "1.2.0",
          "state": {
            "_model_module": "@jupyter-widgets/base",
            "_model_module_version": "1.2.0",
            "_model_name": "LayoutModel",
            "_view_count": null,
            "_view_module": "@jupyter-widgets/base",
            "_view_module_version": "1.2.0",
            "_view_name": "LayoutView",
            "align_content": null,
            "align_items": null,
            "align_self": null,
            "border": null,
            "bottom": null,
            "display": null,
            "flex": null,
            "flex_flow": null,
            "grid_area": null,
            "grid_auto_columns": null,
            "grid_auto_flow": null,
            "grid_auto_rows": null,
            "grid_column": null,
            "grid_gap": null,
            "grid_row": null,
            "grid_template_areas": null,
            "grid_template_columns": null,
            "grid_template_rows": null,
            "height": null,
            "justify_content": null,
            "justify_items": null,
            "left": null,
            "margin": null,
            "max_height": null,
            "max_width": null,
            "min_height": null,
            "min_width": null,
            "object_fit": null,
            "object_position": null,
            "order": null,
            "overflow": null,
            "overflow_x": null,
            "overflow_y": null,
            "padding": null,
            "right": null,
            "top": null,
            "visibility": null,
            "width": null
          }
        },
        "faa9becc03844a43b1533dbb630f4ee3": {
          "model_module": "@jupyter-widgets/controls",
          "model_name": "ProgressStyleModel",
          "model_module_version": "1.5.0",
          "state": {
            "_model_module": "@jupyter-widgets/controls",
            "_model_module_version": "1.5.0",
            "_model_name": "ProgressStyleModel",
            "_view_count": null,
            "_view_module": "@jupyter-widgets/base",
            "_view_module_version": "1.2.0",
            "_view_name": "StyleView",
            "bar_color": null,
            "description_width": ""
          }
        },
        "730525513d3e47d19af56f5953b005a2": {
          "model_module": "@jupyter-widgets/base",
          "model_name": "LayoutModel",
          "model_module_version": "1.2.0",
          "state": {
            "_model_module": "@jupyter-widgets/base",
            "_model_module_version": "1.2.0",
            "_model_name": "LayoutModel",
            "_view_count": null,
            "_view_module": "@jupyter-widgets/base",
            "_view_module_version": "1.2.0",
            "_view_name": "LayoutView",
            "align_content": null,
            "align_items": null,
            "align_self": null,
            "border": null,
            "bottom": null,
            "display": null,
            "flex": null,
            "flex_flow": null,
            "grid_area": null,
            "grid_auto_columns": null,
            "grid_auto_flow": null,
            "grid_auto_rows": null,
            "grid_column": null,
            "grid_gap": null,
            "grid_row": null,
            "grid_template_areas": null,
            "grid_template_columns": null,
            "grid_template_rows": null,
            "height": null,
            "justify_content": null,
            "justify_items": null,
            "left": null,
            "margin": null,
            "max_height": null,
            "max_width": null,
            "min_height": null,
            "min_width": null,
            "object_fit": null,
            "object_position": null,
            "order": null,
            "overflow": null,
            "overflow_x": null,
            "overflow_y": null,
            "padding": null,
            "right": null,
            "top": null,
            "visibility": null,
            "width": null
          }
        },
        "660ab3ec7cc54157ac1a9b7fdc0a779d": {
          "model_module": "@jupyter-widgets/controls",
          "model_name": "DescriptionStyleModel",
          "model_module_version": "1.5.0",
          "state": {
            "_model_module": "@jupyter-widgets/controls",
            "_model_module_version": "1.5.0",
            "_model_name": "DescriptionStyleModel",
            "_view_count": null,
            "_view_module": "@jupyter-widgets/base",
            "_view_module_version": "1.2.0",
            "_view_name": "StyleView",
            "description_width": ""
          }
        },
        "68156ca5fdef4fd3835b1c59e2d7d71e": {
          "model_module": "@jupyter-widgets/controls",
          "model_name": "HBoxModel",
          "model_module_version": "1.5.0",
          "state": {
            "_dom_classes": [],
            "_model_module": "@jupyter-widgets/controls",
            "_model_module_version": "1.5.0",
            "_model_name": "HBoxModel",
            "_view_count": null,
            "_view_module": "@jupyter-widgets/controls",
            "_view_module_version": "1.5.0",
            "_view_name": "HBoxView",
            "box_style": "",
            "children": [
              "IPY_MODEL_288fbc977b764f94b3d4b57744858865",
              "IPY_MODEL_d4ebde9a95214192bd709183325d4aa4",
              "IPY_MODEL_10c1330c655a41d08f471ba950cdf3e4"
            ],
            "layout": "IPY_MODEL_020578eebc62411e90ca96b25d3df573"
          }
        },
        "288fbc977b764f94b3d4b57744858865": {
          "model_module": "@jupyter-widgets/controls",
          "model_name": "HTMLModel",
          "model_module_version": "1.5.0",
          "state": {
            "_dom_classes": [],
            "_model_module": "@jupyter-widgets/controls",
            "_model_module_version": "1.5.0",
            "_model_name": "HTMLModel",
            "_view_count": null,
            "_view_module": "@jupyter-widgets/controls",
            "_view_module_version": "1.5.0",
            "_view_name": "HTMLView",
            "description": "",
            "description_tooltip": null,
            "layout": "IPY_MODEL_00739b18eb7c4e6fbce5399a8313785f",
            "placeholder": "​",
            "style": "IPY_MODEL_24e84fa3da6d454983a96038fb2cdea5",
            "value": "Downloading: 100%"
          }
        },
        "d4ebde9a95214192bd709183325d4aa4": {
          "model_module": "@jupyter-widgets/controls",
          "model_name": "FloatProgressModel",
          "model_module_version": "1.5.0",
          "state": {
            "_dom_classes": [],
            "_model_module": "@jupyter-widgets/controls",
            "_model_module_version": "1.5.0",
            "_model_name": "FloatProgressModel",
            "_view_count": null,
            "_view_module": "@jupyter-widgets/controls",
            "_view_module_version": "1.5.0",
            "_view_name": "ProgressView",
            "bar_style": "success",
            "description": "",
            "description_tooltip": null,
            "layout": "IPY_MODEL_1b63bc9800924208864c70647effc762",
            "max": 456318,
            "min": 0,
            "orientation": "horizontal",
            "style": "IPY_MODEL_e8d087b751c14e7eaae96ff54a424717",
            "value": 456318
          }
        },
        "10c1330c655a41d08f471ba950cdf3e4": {
          "model_module": "@jupyter-widgets/controls",
          "model_name": "HTMLModel",
          "model_module_version": "1.5.0",
          "state": {
            "_dom_classes": [],
            "_model_module": "@jupyter-widgets/controls",
            "_model_module_version": "1.5.0",
            "_model_name": "HTMLModel",
            "_view_count": null,
            "_view_module": "@jupyter-widgets/controls",
            "_view_module_version": "1.5.0",
            "_view_name": "HTMLView",
            "description": "",
            "description_tooltip": null,
            "layout": "IPY_MODEL_2061e1f8dba546f48490f5817497d6f7",
            "placeholder": "​",
            "style": "IPY_MODEL_30102fdc9a3641638d96152f38757554",
            "value": " 456k/456k [00:00&lt;00:00, 2.00MB/s]"
          }
        },
        "020578eebc62411e90ca96b25d3df573": {
          "model_module": "@jupyter-widgets/base",
          "model_name": "LayoutModel",
          "model_module_version": "1.2.0",
          "state": {
            "_model_module": "@jupyter-widgets/base",
            "_model_module_version": "1.2.0",
            "_model_name": "LayoutModel",
            "_view_count": null,
            "_view_module": "@jupyter-widgets/base",
            "_view_module_version": "1.2.0",
            "_view_name": "LayoutView",
            "align_content": null,
            "align_items": null,
            "align_self": null,
            "border": null,
            "bottom": null,
            "display": null,
            "flex": null,
            "flex_flow": null,
            "grid_area": null,
            "grid_auto_columns": null,
            "grid_auto_flow": null,
            "grid_auto_rows": null,
            "grid_column": null,
            "grid_gap": null,
            "grid_row": null,
            "grid_template_areas": null,
            "grid_template_columns": null,
            "grid_template_rows": null,
            "height": null,
            "justify_content": null,
            "justify_items": null,
            "left": null,
            "margin": null,
            "max_height": null,
            "max_width": null,
            "min_height": null,
            "min_width": null,
            "object_fit": null,
            "object_position": null,
            "order": null,
            "overflow": null,
            "overflow_x": null,
            "overflow_y": null,
            "padding": null,
            "right": null,
            "top": null,
            "visibility": null,
            "width": null
          }
        },
        "00739b18eb7c4e6fbce5399a8313785f": {
          "model_module": "@jupyter-widgets/base",
          "model_name": "LayoutModel",
          "model_module_version": "1.2.0",
          "state": {
            "_model_module": "@jupyter-widgets/base",
            "_model_module_version": "1.2.0",
            "_model_name": "LayoutModel",
            "_view_count": null,
            "_view_module": "@jupyter-widgets/base",
            "_view_module_version": "1.2.0",
            "_view_name": "LayoutView",
            "align_content": null,
            "align_items": null,
            "align_self": null,
            "border": null,
            "bottom": null,
            "display": null,
            "flex": null,
            "flex_flow": null,
            "grid_area": null,
            "grid_auto_columns": null,
            "grid_auto_flow": null,
            "grid_auto_rows": null,
            "grid_column": null,
            "grid_gap": null,
            "grid_row": null,
            "grid_template_areas": null,
            "grid_template_columns": null,
            "grid_template_rows": null,
            "height": null,
            "justify_content": null,
            "justify_items": null,
            "left": null,
            "margin": null,
            "max_height": null,
            "max_width": null,
            "min_height": null,
            "min_width": null,
            "object_fit": null,
            "object_position": null,
            "order": null,
            "overflow": null,
            "overflow_x": null,
            "overflow_y": null,
            "padding": null,
            "right": null,
            "top": null,
            "visibility": null,
            "width": null
          }
        },
        "24e84fa3da6d454983a96038fb2cdea5": {
          "model_module": "@jupyter-widgets/controls",
          "model_name": "DescriptionStyleModel",
          "model_module_version": "1.5.0",
          "state": {
            "_model_module": "@jupyter-widgets/controls",
            "_model_module_version": "1.5.0",
            "_model_name": "DescriptionStyleModel",
            "_view_count": null,
            "_view_module": "@jupyter-widgets/base",
            "_view_module_version": "1.2.0",
            "_view_name": "StyleView",
            "description_width": ""
          }
        },
        "1b63bc9800924208864c70647effc762": {
          "model_module": "@jupyter-widgets/base",
          "model_name": "LayoutModel",
          "model_module_version": "1.2.0",
          "state": {
            "_model_module": "@jupyter-widgets/base",
            "_model_module_version": "1.2.0",
            "_model_name": "LayoutModel",
            "_view_count": null,
            "_view_module": "@jupyter-widgets/base",
            "_view_module_version": "1.2.0",
            "_view_name": "LayoutView",
            "align_content": null,
            "align_items": null,
            "align_self": null,
            "border": null,
            "bottom": null,
            "display": null,
            "flex": null,
            "flex_flow": null,
            "grid_area": null,
            "grid_auto_columns": null,
            "grid_auto_flow": null,
            "grid_auto_rows": null,
            "grid_column": null,
            "grid_gap": null,
            "grid_row": null,
            "grid_template_areas": null,
            "grid_template_columns": null,
            "grid_template_rows": null,
            "height": null,
            "justify_content": null,
            "justify_items": null,
            "left": null,
            "margin": null,
            "max_height": null,
            "max_width": null,
            "min_height": null,
            "min_width": null,
            "object_fit": null,
            "object_position": null,
            "order": null,
            "overflow": null,
            "overflow_x": null,
            "overflow_y": null,
            "padding": null,
            "right": null,
            "top": null,
            "visibility": null,
            "width": null
          }
        },
        "e8d087b751c14e7eaae96ff54a424717": {
          "model_module": "@jupyter-widgets/controls",
          "model_name": "ProgressStyleModel",
          "model_module_version": "1.5.0",
          "state": {
            "_model_module": "@jupyter-widgets/controls",
            "_model_module_version": "1.5.0",
            "_model_name": "ProgressStyleModel",
            "_view_count": null,
            "_view_module": "@jupyter-widgets/base",
            "_view_module_version": "1.2.0",
            "_view_name": "StyleView",
            "bar_color": null,
            "description_width": ""
          }
        },
        "2061e1f8dba546f48490f5817497d6f7": {
          "model_module": "@jupyter-widgets/base",
          "model_name": "LayoutModel",
          "model_module_version": "1.2.0",
          "state": {
            "_model_module": "@jupyter-widgets/base",
            "_model_module_version": "1.2.0",
            "_model_name": "LayoutModel",
            "_view_count": null,
            "_view_module": "@jupyter-widgets/base",
            "_view_module_version": "1.2.0",
            "_view_name": "LayoutView",
            "align_content": null,
            "align_items": null,
            "align_self": null,
            "border": null,
            "bottom": null,
            "display": null,
            "flex": null,
            "flex_flow": null,
            "grid_area": null,
            "grid_auto_columns": null,
            "grid_auto_flow": null,
            "grid_auto_rows": null,
            "grid_column": null,
            "grid_gap": null,
            "grid_row": null,
            "grid_template_areas": null,
            "grid_template_columns": null,
            "grid_template_rows": null,
            "height": null,
            "justify_content": null,
            "justify_items": null,
            "left": null,
            "margin": null,
            "max_height": null,
            "max_width": null,
            "min_height": null,
            "min_width": null,
            "object_fit": null,
            "object_position": null,
            "order": null,
            "overflow": null,
            "overflow_x": null,
            "overflow_y": null,
            "padding": null,
            "right": null,
            "top": null,
            "visibility": null,
            "width": null
          }
        },
        "30102fdc9a3641638d96152f38757554": {
          "model_module": "@jupyter-widgets/controls",
          "model_name": "DescriptionStyleModel",
          "model_module_version": "1.5.0",
          "state": {
            "_model_module": "@jupyter-widgets/controls",
            "_model_module_version": "1.5.0",
            "_model_name": "DescriptionStyleModel",
            "_view_count": null,
            "_view_module": "@jupyter-widgets/base",
            "_view_module_version": "1.2.0",
            "_view_name": "StyleView",
            "description_width": ""
          }
        },
        "9d41963cc9244446a46b0443dbcfec17": {
          "model_module": "@jupyter-widgets/controls",
          "model_name": "HBoxModel",
          "model_module_version": "1.5.0",
          "state": {
            "_dom_classes": [],
            "_model_module": "@jupyter-widgets/controls",
            "_model_module_version": "1.5.0",
            "_model_name": "HBoxModel",
            "_view_count": null,
            "_view_module": "@jupyter-widgets/controls",
            "_view_module_version": "1.5.0",
            "_view_name": "HBoxView",
            "box_style": "",
            "children": [
              "IPY_MODEL_d2bfa95cbc6d412f932705c4653674cb",
              "IPY_MODEL_b170499e989e4633b9e21f0ba5576c31",
              "IPY_MODEL_21bdfd6a4c134434add067dc746b8dd9"
            ],
            "layout": "IPY_MODEL_2980d857fea7448293bbd7f459e4f1dd"
          }
        },
        "d2bfa95cbc6d412f932705c4653674cb": {
          "model_module": "@jupyter-widgets/controls",
          "model_name": "HTMLModel",
          "model_module_version": "1.5.0",
          "state": {
            "_dom_classes": [],
            "_model_module": "@jupyter-widgets/controls",
            "_model_module_version": "1.5.0",
            "_model_name": "HTMLModel",
            "_view_count": null,
            "_view_module": "@jupyter-widgets/controls",
            "_view_module_version": "1.5.0",
            "_view_name": "HTMLView",
            "description": "",
            "description_tooltip": null,
            "layout": "IPY_MODEL_fa83701a005b4881b7c7f040252dc13f",
            "placeholder": "​",
            "style": "IPY_MODEL_856669584c554b1d9ac82ea857b3c091",
            "value": "Downloading: 100%"
          }
        },
        "b170499e989e4633b9e21f0ba5576c31": {
          "model_module": "@jupyter-widgets/controls",
          "model_name": "FloatProgressModel",
          "model_module_version": "1.5.0",
          "state": {
            "_dom_classes": [],
            "_model_module": "@jupyter-widgets/controls",
            "_model_module_version": "1.5.0",
            "_model_name": "FloatProgressModel",
            "_view_count": null,
            "_view_module": "@jupyter-widgets/controls",
            "_view_module_version": "1.5.0",
            "_view_name": "ProgressView",
            "bar_style": "success",
            "description": "",
            "description_tooltip": null,
            "layout": "IPY_MODEL_7fff7454f5b348f88bbb17ac46bcd3c9",
            "max": 5303345453,
            "min": 0,
            "orientation": "horizontal",
            "style": "IPY_MODEL_e1ec71f405414550af80b315941e09aa",
            "value": 5303345453
          }
        },
        "21bdfd6a4c134434add067dc746b8dd9": {
          "model_module": "@jupyter-widgets/controls",
          "model_name": "HTMLModel",
          "model_module_version": "1.5.0",
          "state": {
            "_dom_classes": [],
            "_model_module": "@jupyter-widgets/controls",
            "_model_module_version": "1.5.0",
            "_model_name": "HTMLModel",
            "_view_count": null,
            "_view_module": "@jupyter-widgets/controls",
            "_view_module_version": "1.5.0",
            "_view_name": "HTMLView",
            "description": "",
            "description_tooltip": null,
            "layout": "IPY_MODEL_fba290038c6c4920b69545e12047ef90",
            "placeholder": "​",
            "style": "IPY_MODEL_f67493eaeb7f4c38bac971fe13e82dc4",
            "value": " 5.30G/5.30G [01:53&lt;00:00, 62.4MB/s]"
          }
        },
        "2980d857fea7448293bbd7f459e4f1dd": {
          "model_module": "@jupyter-widgets/base",
          "model_name": "LayoutModel",
          "model_module_version": "1.2.0",
          "state": {
            "_model_module": "@jupyter-widgets/base",
            "_model_module_version": "1.2.0",
            "_model_name": "LayoutModel",
            "_view_count": null,
            "_view_module": "@jupyter-widgets/base",
            "_view_module_version": "1.2.0",
            "_view_name": "LayoutView",
            "align_content": null,
            "align_items": null,
            "align_self": null,
            "border": null,
            "bottom": null,
            "display": null,
            "flex": null,
            "flex_flow": null,
            "grid_area": null,
            "grid_auto_columns": null,
            "grid_auto_flow": null,
            "grid_auto_rows": null,
            "grid_column": null,
            "grid_gap": null,
            "grid_row": null,
            "grid_template_areas": null,
            "grid_template_columns": null,
            "grid_template_rows": null,
            "height": null,
            "justify_content": null,
            "justify_items": null,
            "left": null,
            "margin": null,
            "max_height": null,
            "max_width": null,
            "min_height": null,
            "min_width": null,
            "object_fit": null,
            "object_position": null,
            "order": null,
            "overflow": null,
            "overflow_x": null,
            "overflow_y": null,
            "padding": null,
            "right": null,
            "top": null,
            "visibility": null,
            "width": null
          }
        },
        "fa83701a005b4881b7c7f040252dc13f": {
          "model_module": "@jupyter-widgets/base",
          "model_name": "LayoutModel",
          "model_module_version": "1.2.0",
          "state": {
            "_model_module": "@jupyter-widgets/base",
            "_model_module_version": "1.2.0",
            "_model_name": "LayoutModel",
            "_view_count": null,
            "_view_module": "@jupyter-widgets/base",
            "_view_module_version": "1.2.0",
            "_view_name": "LayoutView",
            "align_content": null,
            "align_items": null,
            "align_self": null,
            "border": null,
            "bottom": null,
            "display": null,
            "flex": null,
            "flex_flow": null,
            "grid_area": null,
            "grid_auto_columns": null,
            "grid_auto_flow": null,
            "grid_auto_rows": null,
            "grid_column": null,
            "grid_gap": null,
            "grid_row": null,
            "grid_template_areas": null,
            "grid_template_columns": null,
            "grid_template_rows": null,
            "height": null,
            "justify_content": null,
            "justify_items": null,
            "left": null,
            "margin": null,
            "max_height": null,
            "max_width": null,
            "min_height": null,
            "min_width": null,
            "object_fit": null,
            "object_position": null,
            "order": null,
            "overflow": null,
            "overflow_x": null,
            "overflow_y": null,
            "padding": null,
            "right": null,
            "top": null,
            "visibility": null,
            "width": null
          }
        },
        "856669584c554b1d9ac82ea857b3c091": {
          "model_module": "@jupyter-widgets/controls",
          "model_name": "DescriptionStyleModel",
          "model_module_version": "1.5.0",
          "state": {
            "_model_module": "@jupyter-widgets/controls",
            "_model_module_version": "1.5.0",
            "_model_name": "DescriptionStyleModel",
            "_view_count": null,
            "_view_module": "@jupyter-widgets/base",
            "_view_module_version": "1.2.0",
            "_view_name": "StyleView",
            "description_width": ""
          }
        },
        "7fff7454f5b348f88bbb17ac46bcd3c9": {
          "model_module": "@jupyter-widgets/base",
          "model_name": "LayoutModel",
          "model_module_version": "1.2.0",
          "state": {
            "_model_module": "@jupyter-widgets/base",
            "_model_module_version": "1.2.0",
            "_model_name": "LayoutModel",
            "_view_count": null,
            "_view_module": "@jupyter-widgets/base",
            "_view_module_version": "1.2.0",
            "_view_name": "LayoutView",
            "align_content": null,
            "align_items": null,
            "align_self": null,
            "border": null,
            "bottom": null,
            "display": null,
            "flex": null,
            "flex_flow": null,
            "grid_area": null,
            "grid_auto_columns": null,
            "grid_auto_flow": null,
            "grid_auto_rows": null,
            "grid_column": null,
            "grid_gap": null,
            "grid_row": null,
            "grid_template_areas": null,
            "grid_template_columns": null,
            "grid_template_rows": null,
            "height": null,
            "justify_content": null,
            "justify_items": null,
            "left": null,
            "margin": null,
            "max_height": null,
            "max_width": null,
            "min_height": null,
            "min_width": null,
            "object_fit": null,
            "object_position": null,
            "order": null,
            "overflow": null,
            "overflow_x": null,
            "overflow_y": null,
            "padding": null,
            "right": null,
            "top": null,
            "visibility": null,
            "width": null
          }
        },
        "e1ec71f405414550af80b315941e09aa": {
          "model_module": "@jupyter-widgets/controls",
          "model_name": "ProgressStyleModel",
          "model_module_version": "1.5.0",
          "state": {
            "_model_module": "@jupyter-widgets/controls",
            "_model_module_version": "1.5.0",
            "_model_name": "ProgressStyleModel",
            "_view_count": null,
            "_view_module": "@jupyter-widgets/base",
            "_view_module_version": "1.2.0",
            "_view_name": "StyleView",
            "bar_color": null,
            "description_width": ""
          }
        },
        "fba290038c6c4920b69545e12047ef90": {
          "model_module": "@jupyter-widgets/base",
          "model_name": "LayoutModel",
          "model_module_version": "1.2.0",
          "state": {
            "_model_module": "@jupyter-widgets/base",
            "_model_module_version": "1.2.0",
            "_model_name": "LayoutModel",
            "_view_count": null,
            "_view_module": "@jupyter-widgets/base",
            "_view_module_version": "1.2.0",
            "_view_name": "LayoutView",
            "align_content": null,
            "align_items": null,
            "align_self": null,
            "border": null,
            "bottom": null,
            "display": null,
            "flex": null,
            "flex_flow": null,
            "grid_area": null,
            "grid_auto_columns": null,
            "grid_auto_flow": null,
            "grid_auto_rows": null,
            "grid_column": null,
            "grid_gap": null,
            "grid_row": null,
            "grid_template_areas": null,
            "grid_template_columns": null,
            "grid_template_rows": null,
            "height": null,
            "justify_content": null,
            "justify_items": null,
            "left": null,
            "margin": null,
            "max_height": null,
            "max_width": null,
            "min_height": null,
            "min_width": null,
            "object_fit": null,
            "object_position": null,
            "order": null,
            "overflow": null,
            "overflow_x": null,
            "overflow_y": null,
            "padding": null,
            "right": null,
            "top": null,
            "visibility": null,
            "width": null
          }
        },
        "f67493eaeb7f4c38bac971fe13e82dc4": {
          "model_module": "@jupyter-widgets/controls",
          "model_name": "DescriptionStyleModel",
          "model_module_version": "1.5.0",
          "state": {
            "_model_module": "@jupyter-widgets/controls",
            "_model_module_version": "1.5.0",
            "_model_name": "DescriptionStyleModel",
            "_view_count": null,
            "_view_module": "@jupyter-widgets/base",
            "_view_module_version": "1.2.0",
            "_view_name": "StyleView",
            "description_width": ""
          }
        },
        "9d87c6b033de4548a66435603dd5b959": {
          "model_module": "@jupyter-widgets/controls",
          "model_name": "HBoxModel",
          "model_module_version": "1.5.0",
          "state": {
            "_dom_classes": [],
            "_model_module": "@jupyter-widgets/controls",
            "_model_module_version": "1.5.0",
            "_model_name": "HBoxModel",
            "_view_count": null,
            "_view_module": "@jupyter-widgets/controls",
            "_view_module_version": "1.5.0",
            "_view_name": "HBoxView",
            "box_style": "",
            "children": [
              "IPY_MODEL_b3727f491c25438e9bba06d52cad92f7",
              "IPY_MODEL_254735b4cdc243a0b9e377f397e701fd",
              "IPY_MODEL_f765d0cb93614773804ad178d8bc2983"
            ],
            "layout": "IPY_MODEL_1be6ab8b9ca24258afb17646d53e22d7"
          }
        },
        "b3727f491c25438e9bba06d52cad92f7": {
          "model_module": "@jupyter-widgets/controls",
          "model_name": "HTMLModel",
          "model_module_version": "1.5.0",
          "state": {
            "_dom_classes": [],
            "_model_module": "@jupyter-widgets/controls",
            "_model_module_version": "1.5.0",
            "_model_name": "HTMLModel",
            "_view_count": null,
            "_view_module": "@jupyter-widgets/controls",
            "_view_module_version": "1.5.0",
            "_view_name": "HTMLView",
            "description": "",
            "description_tooltip": null,
            "layout": "IPY_MODEL_9275a0135e3340b89cd9ad085173fefb",
            "placeholder": "​",
            "style": "IPY_MODEL_47cecd2144d64ee6affecf203a81309b",
            "value": "Downloading: 100%"
          }
        },
        "254735b4cdc243a0b9e377f397e701fd": {
          "model_module": "@jupyter-widgets/controls",
          "model_name": "FloatProgressModel",
          "model_module_version": "1.5.0",
          "state": {
            "_dom_classes": [],
            "_model_module": "@jupyter-widgets/controls",
            "_model_module_version": "1.5.0",
            "_model_name": "FloatProgressModel",
            "_view_count": null,
            "_view_module": "@jupyter-widgets/controls",
            "_view_module_version": "1.5.0",
            "_view_name": "ProgressView",
            "bar_style": "success",
            "description": "",
            "description_tooltip": null,
            "layout": "IPY_MODEL_b983e73dade34a47b2a9d0ce65948783",
            "max": 441,
            "min": 0,
            "orientation": "horizontal",
            "style": "IPY_MODEL_a47f7e4072cf4b28b24b0fe9d4e1c4ab",
            "value": 441
          }
        },
        "f765d0cb93614773804ad178d8bc2983": {
          "model_module": "@jupyter-widgets/controls",
          "model_name": "HTMLModel",
          "model_module_version": "1.5.0",
          "state": {
            "_dom_classes": [],
            "_model_module": "@jupyter-widgets/controls",
            "_model_module_version": "1.5.0",
            "_model_name": "HTMLModel",
            "_view_count": null,
            "_view_module": "@jupyter-widgets/controls",
            "_view_module_version": "1.5.0",
            "_view_name": "HTMLView",
            "description": "",
            "description_tooltip": null,
            "layout": "IPY_MODEL_1e8486bebe014be9a4599fd72e711d59",
            "placeholder": "​",
            "style": "IPY_MODEL_c01a3a0176f44362a34a1d0ee852eb5c",
            "value": " 441/441 [00:00&lt;00:00, 12.9kB/s]"
          }
        },
        "1be6ab8b9ca24258afb17646d53e22d7": {
          "model_module": "@jupyter-widgets/base",
          "model_name": "LayoutModel",
          "model_module_version": "1.2.0",
          "state": {
            "_model_module": "@jupyter-widgets/base",
            "_model_module_version": "1.2.0",
            "_model_name": "LayoutModel",
            "_view_count": null,
            "_view_module": "@jupyter-widgets/base",
            "_view_module_version": "1.2.0",
            "_view_name": "LayoutView",
            "align_content": null,
            "align_items": null,
            "align_self": null,
            "border": null,
            "bottom": null,
            "display": null,
            "flex": null,
            "flex_flow": null,
            "grid_area": null,
            "grid_auto_columns": null,
            "grid_auto_flow": null,
            "grid_auto_rows": null,
            "grid_column": null,
            "grid_gap": null,
            "grid_row": null,
            "grid_template_areas": null,
            "grid_template_columns": null,
            "grid_template_rows": null,
            "height": null,
            "justify_content": null,
            "justify_items": null,
            "left": null,
            "margin": null,
            "max_height": null,
            "max_width": null,
            "min_height": null,
            "min_width": null,
            "object_fit": null,
            "object_position": null,
            "order": null,
            "overflow": null,
            "overflow_x": null,
            "overflow_y": null,
            "padding": null,
            "right": null,
            "top": null,
            "visibility": null,
            "width": null
          }
        },
        "9275a0135e3340b89cd9ad085173fefb": {
          "model_module": "@jupyter-widgets/base",
          "model_name": "LayoutModel",
          "model_module_version": "1.2.0",
          "state": {
            "_model_module": "@jupyter-widgets/base",
            "_model_module_version": "1.2.0",
            "_model_name": "LayoutModel",
            "_view_count": null,
            "_view_module": "@jupyter-widgets/base",
            "_view_module_version": "1.2.0",
            "_view_name": "LayoutView",
            "align_content": null,
            "align_items": null,
            "align_self": null,
            "border": null,
            "bottom": null,
            "display": null,
            "flex": null,
            "flex_flow": null,
            "grid_area": null,
            "grid_auto_columns": null,
            "grid_auto_flow": null,
            "grid_auto_rows": null,
            "grid_column": null,
            "grid_gap": null,
            "grid_row": null,
            "grid_template_areas": null,
            "grid_template_columns": null,
            "grid_template_rows": null,
            "height": null,
            "justify_content": null,
            "justify_items": null,
            "left": null,
            "margin": null,
            "max_height": null,
            "max_width": null,
            "min_height": null,
            "min_width": null,
            "object_fit": null,
            "object_position": null,
            "order": null,
            "overflow": null,
            "overflow_x": null,
            "overflow_y": null,
            "padding": null,
            "right": null,
            "top": null,
            "visibility": null,
            "width": null
          }
        },
        "47cecd2144d64ee6affecf203a81309b": {
          "model_module": "@jupyter-widgets/controls",
          "model_name": "DescriptionStyleModel",
          "model_module_version": "1.5.0",
          "state": {
            "_model_module": "@jupyter-widgets/controls",
            "_model_module_version": "1.5.0",
            "_model_name": "DescriptionStyleModel",
            "_view_count": null,
            "_view_module": "@jupyter-widgets/base",
            "_view_module_version": "1.2.0",
            "_view_name": "StyleView",
            "description_width": ""
          }
        },
        "b983e73dade34a47b2a9d0ce65948783": {
          "model_module": "@jupyter-widgets/base",
          "model_name": "LayoutModel",
          "model_module_version": "1.2.0",
          "state": {
            "_model_module": "@jupyter-widgets/base",
            "_model_module_version": "1.2.0",
            "_model_name": "LayoutModel",
            "_view_count": null,
            "_view_module": "@jupyter-widgets/base",
            "_view_module_version": "1.2.0",
            "_view_name": "LayoutView",
            "align_content": null,
            "align_items": null,
            "align_self": null,
            "border": null,
            "bottom": null,
            "display": null,
            "flex": null,
            "flex_flow": null,
            "grid_area": null,
            "grid_auto_columns": null,
            "grid_auto_flow": null,
            "grid_auto_rows": null,
            "grid_column": null,
            "grid_gap": null,
            "grid_row": null,
            "grid_template_areas": null,
            "grid_template_columns": null,
            "grid_template_rows": null,
            "height": null,
            "justify_content": null,
            "justify_items": null,
            "left": null,
            "margin": null,
            "max_height": null,
            "max_width": null,
            "min_height": null,
            "min_width": null,
            "object_fit": null,
            "object_position": null,
            "order": null,
            "overflow": null,
            "overflow_x": null,
            "overflow_y": null,
            "padding": null,
            "right": null,
            "top": null,
            "visibility": null,
            "width": null
          }
        },
        "a47f7e4072cf4b28b24b0fe9d4e1c4ab": {
          "model_module": "@jupyter-widgets/controls",
          "model_name": "ProgressStyleModel",
          "model_module_version": "1.5.0",
          "state": {
            "_model_module": "@jupyter-widgets/controls",
            "_model_module_version": "1.5.0",
            "_model_name": "ProgressStyleModel",
            "_view_count": null,
            "_view_module": "@jupyter-widgets/base",
            "_view_module_version": "1.2.0",
            "_view_name": "StyleView",
            "bar_color": null,
            "description_width": ""
          }
        },
        "1e8486bebe014be9a4599fd72e711d59": {
          "model_module": "@jupyter-widgets/base",
          "model_name": "LayoutModel",
          "model_module_version": "1.2.0",
          "state": {
            "_model_module": "@jupyter-widgets/base",
            "_model_module_version": "1.2.0",
            "_model_name": "LayoutModel",
            "_view_count": null,
            "_view_module": "@jupyter-widgets/base",
            "_view_module_version": "1.2.0",
            "_view_name": "LayoutView",
            "align_content": null,
            "align_items": null,
            "align_self": null,
            "border": null,
            "bottom": null,
            "display": null,
            "flex": null,
            "flex_flow": null,
            "grid_area": null,
            "grid_auto_columns": null,
            "grid_auto_flow": null,
            "grid_auto_rows": null,
            "grid_column": null,
            "grid_gap": null,
            "grid_row": null,
            "grid_template_areas": null,
            "grid_template_columns": null,
            "grid_template_rows": null,
            "height": null,
            "justify_content": null,
            "justify_items": null,
            "left": null,
            "margin": null,
            "max_height": null,
            "max_width": null,
            "min_height": null,
            "min_width": null,
            "object_fit": null,
            "object_position": null,
            "order": null,
            "overflow": null,
            "overflow_x": null,
            "overflow_y": null,
            "padding": null,
            "right": null,
            "top": null,
            "visibility": null,
            "width": null
          }
        },
        "c01a3a0176f44362a34a1d0ee852eb5c": {
          "model_module": "@jupyter-widgets/controls",
          "model_name": "DescriptionStyleModel",
          "model_module_version": "1.5.0",
          "state": {
            "_model_module": "@jupyter-widgets/controls",
            "_model_module_version": "1.5.0",
            "_model_name": "DescriptionStyleModel",
            "_view_count": null,
            "_view_module": "@jupyter-widgets/base",
            "_view_module_version": "1.2.0",
            "_view_name": "StyleView",
            "description_width": ""
          }
        },
        "8f1d0945c5fb456ab2ba3d2dcdae69cf": {
          "model_module": "@jupyter-widgets/controls",
          "model_name": "HBoxModel",
          "model_module_version": "1.5.0",
          "state": {
            "_dom_classes": [],
            "_model_module": "@jupyter-widgets/controls",
            "_model_module_version": "1.5.0",
            "_model_name": "HBoxModel",
            "_view_count": null,
            "_view_module": "@jupyter-widgets/controls",
            "_view_module_version": "1.5.0",
            "_view_name": "HBoxView",
            "box_style": "",
            "children": [
              "IPY_MODEL_2463f7c95a374b52a09a975658b1d21c",
              "IPY_MODEL_944103be941149ffaf6a63eddc7f3eef",
              "IPY_MODEL_12c1e82ea65c46c3989cd2215b0eaf05"
            ],
            "layout": "IPY_MODEL_8181210eaa1042028679dae42d572592"
          }
        },
        "2463f7c95a374b52a09a975658b1d21c": {
          "model_module": "@jupyter-widgets/controls",
          "model_name": "HTMLModel",
          "model_module_version": "1.5.0",
          "state": {
            "_dom_classes": [],
            "_model_module": "@jupyter-widgets/controls",
            "_model_module_version": "1.5.0",
            "_model_name": "HTMLModel",
            "_view_count": null,
            "_view_module": "@jupyter-widgets/controls",
            "_view_module_version": "1.5.0",
            "_view_name": "HTMLView",
            "description": "",
            "description_tooltip": null,
            "layout": "IPY_MODEL_0564653050b74665bea39dfc9e9cee4c",
            "placeholder": "​",
            "style": "IPY_MODEL_d29a6e4ab9da41ecadcfde844dedb854",
            "value": "Downloading: 100%"
          }
        },
        "944103be941149ffaf6a63eddc7f3eef": {
          "model_module": "@jupyter-widgets/controls",
          "model_name": "FloatProgressModel",
          "model_module_version": "1.5.0",
          "state": {
            "_dom_classes": [],
            "_model_module": "@jupyter-widgets/controls",
            "_model_module_version": "1.5.0",
            "_model_name": "FloatProgressModel",
            "_view_count": null,
            "_view_module": "@jupyter-widgets/controls",
            "_view_module_version": "1.5.0",
            "_view_name": "ProgressView",
            "bar_style": "success",
            "description": "",
            "description_tooltip": null,
            "layout": "IPY_MODEL_4567ae6c286c4c159dc9df4ab1a0ee7c",
            "max": 721,
            "min": 0,
            "orientation": "horizontal",
            "style": "IPY_MODEL_595b5be65d144e92bf9b10689636ac34",
            "value": 721
          }
        },
        "12c1e82ea65c46c3989cd2215b0eaf05": {
          "model_module": "@jupyter-widgets/controls",
          "model_name": "HTMLModel",
          "model_module_version": "1.5.0",
          "state": {
            "_dom_classes": [],
            "_model_module": "@jupyter-widgets/controls",
            "_model_module_version": "1.5.0",
            "_model_name": "HTMLModel",
            "_view_count": null,
            "_view_module": "@jupyter-widgets/controls",
            "_view_module_version": "1.5.0",
            "_view_name": "HTMLView",
            "description": "",
            "description_tooltip": null,
            "layout": "IPY_MODEL_00265afd58614e96b5035e850919af6f",
            "placeholder": "​",
            "style": "IPY_MODEL_fb918c470e5248edacb29e19c4197721",
            "value": " 721/721 [00:00&lt;00:00, 22.1kB/s]"
          }
        },
        "8181210eaa1042028679dae42d572592": {
          "model_module": "@jupyter-widgets/base",
          "model_name": "LayoutModel",
          "model_module_version": "1.2.0",
          "state": {
            "_model_module": "@jupyter-widgets/base",
            "_model_module_version": "1.2.0",
            "_model_name": "LayoutModel",
            "_view_count": null,
            "_view_module": "@jupyter-widgets/base",
            "_view_module_version": "1.2.0",
            "_view_name": "LayoutView",
            "align_content": null,
            "align_items": null,
            "align_self": null,
            "border": null,
            "bottom": null,
            "display": null,
            "flex": null,
            "flex_flow": null,
            "grid_area": null,
            "grid_auto_columns": null,
            "grid_auto_flow": null,
            "grid_auto_rows": null,
            "grid_column": null,
            "grid_gap": null,
            "grid_row": null,
            "grid_template_areas": null,
            "grid_template_columns": null,
            "grid_template_rows": null,
            "height": null,
            "justify_content": null,
            "justify_items": null,
            "left": null,
            "margin": null,
            "max_height": null,
            "max_width": null,
            "min_height": null,
            "min_width": null,
            "object_fit": null,
            "object_position": null,
            "order": null,
            "overflow": null,
            "overflow_x": null,
            "overflow_y": null,
            "padding": null,
            "right": null,
            "top": null,
            "visibility": null,
            "width": null
          }
        },
        "0564653050b74665bea39dfc9e9cee4c": {
          "model_module": "@jupyter-widgets/base",
          "model_name": "LayoutModel",
          "model_module_version": "1.2.0",
          "state": {
            "_model_module": "@jupyter-widgets/base",
            "_model_module_version": "1.2.0",
            "_model_name": "LayoutModel",
            "_view_count": null,
            "_view_module": "@jupyter-widgets/base",
            "_view_module_version": "1.2.0",
            "_view_name": "LayoutView",
            "align_content": null,
            "align_items": null,
            "align_self": null,
            "border": null,
            "bottom": null,
            "display": null,
            "flex": null,
            "flex_flow": null,
            "grid_area": null,
            "grid_auto_columns": null,
            "grid_auto_flow": null,
            "grid_auto_rows": null,
            "grid_column": null,
            "grid_gap": null,
            "grid_row": null,
            "grid_template_areas": null,
            "grid_template_columns": null,
            "grid_template_rows": null,
            "height": null,
            "justify_content": null,
            "justify_items": null,
            "left": null,
            "margin": null,
            "max_height": null,
            "max_width": null,
            "min_height": null,
            "min_width": null,
            "object_fit": null,
            "object_position": null,
            "order": null,
            "overflow": null,
            "overflow_x": null,
            "overflow_y": null,
            "padding": null,
            "right": null,
            "top": null,
            "visibility": null,
            "width": null
          }
        },
        "d29a6e4ab9da41ecadcfde844dedb854": {
          "model_module": "@jupyter-widgets/controls",
          "model_name": "DescriptionStyleModel",
          "model_module_version": "1.5.0",
          "state": {
            "_model_module": "@jupyter-widgets/controls",
            "_model_module_version": "1.5.0",
            "_model_name": "DescriptionStyleModel",
            "_view_count": null,
            "_view_module": "@jupyter-widgets/base",
            "_view_module_version": "1.2.0",
            "_view_name": "StyleView",
            "description_width": ""
          }
        },
        "4567ae6c286c4c159dc9df4ab1a0ee7c": {
          "model_module": "@jupyter-widgets/base",
          "model_name": "LayoutModel",
          "model_module_version": "1.2.0",
          "state": {
            "_model_module": "@jupyter-widgets/base",
            "_model_module_version": "1.2.0",
            "_model_name": "LayoutModel",
            "_view_count": null,
            "_view_module": "@jupyter-widgets/base",
            "_view_module_version": "1.2.0",
            "_view_name": "LayoutView",
            "align_content": null,
            "align_items": null,
            "align_self": null,
            "border": null,
            "bottom": null,
            "display": null,
            "flex": null,
            "flex_flow": null,
            "grid_area": null,
            "grid_auto_columns": null,
            "grid_auto_flow": null,
            "grid_auto_rows": null,
            "grid_column": null,
            "grid_gap": null,
            "grid_row": null,
            "grid_template_areas": null,
            "grid_template_columns": null,
            "grid_template_rows": null,
            "height": null,
            "justify_content": null,
            "justify_items": null,
            "left": null,
            "margin": null,
            "max_height": null,
            "max_width": null,
            "min_height": null,
            "min_width": null,
            "object_fit": null,
            "object_position": null,
            "order": null,
            "overflow": null,
            "overflow_x": null,
            "overflow_y": null,
            "padding": null,
            "right": null,
            "top": null,
            "visibility": null,
            "width": null
          }
        },
        "595b5be65d144e92bf9b10689636ac34": {
          "model_module": "@jupyter-widgets/controls",
          "model_name": "ProgressStyleModel",
          "model_module_version": "1.5.0",
          "state": {
            "_model_module": "@jupyter-widgets/controls",
            "_model_module_version": "1.5.0",
            "_model_name": "ProgressStyleModel",
            "_view_count": null,
            "_view_module": "@jupyter-widgets/base",
            "_view_module_version": "1.2.0",
            "_view_name": "StyleView",
            "bar_color": null,
            "description_width": ""
          }
        },
        "00265afd58614e96b5035e850919af6f": {
          "model_module": "@jupyter-widgets/base",
          "model_name": "LayoutModel",
          "model_module_version": "1.2.0",
          "state": {
            "_model_module": "@jupyter-widgets/base",
            "_model_module_version": "1.2.0",
            "_model_name": "LayoutModel",
            "_view_count": null,
            "_view_module": "@jupyter-widgets/base",
            "_view_module_version": "1.2.0",
            "_view_name": "LayoutView",
            "align_content": null,
            "align_items": null,
            "align_self": null,
            "border": null,
            "bottom": null,
            "display": null,
            "flex": null,
            "flex_flow": null,
            "grid_area": null,
            "grid_auto_columns": null,
            "grid_auto_flow": null,
            "grid_auto_rows": null,
            "grid_column": null,
            "grid_gap": null,
            "grid_row": null,
            "grid_template_areas": null,
            "grid_template_columns": null,
            "grid_template_rows": null,
            "height": null,
            "justify_content": null,
            "justify_items": null,
            "left": null,
            "margin": null,
            "max_height": null,
            "max_width": null,
            "min_height": null,
            "min_width": null,
            "object_fit": null,
            "object_position": null,
            "order": null,
            "overflow": null,
            "overflow_x": null,
            "overflow_y": null,
            "padding": null,
            "right": null,
            "top": null,
            "visibility": null,
            "width": null
          }
        },
        "fb918c470e5248edacb29e19c4197721": {
          "model_module": "@jupyter-widgets/controls",
          "model_name": "DescriptionStyleModel",
          "model_module_version": "1.5.0",
          "state": {
            "_model_module": "@jupyter-widgets/controls",
            "_model_module_version": "1.5.0",
            "_model_name": "DescriptionStyleModel",
            "_view_count": null,
            "_view_module": "@jupyter-widgets/base",
            "_view_module_version": "1.2.0",
            "_view_name": "StyleView",
            "description_width": ""
          }
        },
        "44a527403fd2429abd2ee03e1e6999b8": {
          "model_module": "@jupyter-widgets/controls",
          "model_name": "HBoxModel",
          "model_module_version": "1.5.0",
          "state": {
            "_dom_classes": [],
            "_model_module": "@jupyter-widgets/controls",
            "_model_module_version": "1.5.0",
            "_model_name": "HBoxModel",
            "_view_count": null,
            "_view_module": "@jupyter-widgets/controls",
            "_view_module_version": "1.5.0",
            "_view_name": "HBoxView",
            "box_style": "",
            "children": [
              "IPY_MODEL_de5be11f4c3b4994abd3e7f0ca77a6a8",
              "IPY_MODEL_d79c49e37069401bbc0c305b03279e9d",
              "IPY_MODEL_4845a0bc513b4d48b853a54d6cc67703"
            ],
            "layout": "IPY_MODEL_50f93ffc41dc4d3a9d460642db16fecc"
          }
        },
        "de5be11f4c3b4994abd3e7f0ca77a6a8": {
          "model_module": "@jupyter-widgets/controls",
          "model_name": "HTMLModel",
          "model_module_version": "1.5.0",
          "state": {
            "_dom_classes": [],
            "_model_module": "@jupyter-widgets/controls",
            "_model_module_version": "1.5.0",
            "_model_name": "HTMLModel",
            "_view_count": null,
            "_view_module": "@jupyter-widgets/controls",
            "_view_module_version": "1.5.0",
            "_view_name": "HTMLView",
            "description": "",
            "description_tooltip": null,
            "layout": "IPY_MODEL_853da941ae2241f3ae96df5b0c7397dc",
            "placeholder": "​",
            "style": "IPY_MODEL_f56113c91dcc43eb89184461697111d2",
            "value": "Downloading: 100%"
          }
        },
        "d79c49e37069401bbc0c305b03279e9d": {
          "model_module": "@jupyter-widgets/controls",
          "model_name": "FloatProgressModel",
          "model_module_version": "1.5.0",
          "state": {
            "_dom_classes": [],
            "_model_module": "@jupyter-widgets/controls",
            "_model_module_version": "1.5.0",
            "_model_name": "FloatProgressModel",
            "_view_count": null,
            "_view_module": "@jupyter-widgets/controls",
            "_view_module_version": "1.5.0",
            "_view_name": "ProgressView",
            "bar_style": "success",
            "description": "",
            "description_tooltip": null,
            "layout": "IPY_MODEL_b99598ef705e49c190c745f066e80bf9",
            "max": 898822,
            "min": 0,
            "orientation": "horizontal",
            "style": "IPY_MODEL_e7c3373b5ff6403386ba6c433a26d795",
            "value": 898822
          }
        },
        "4845a0bc513b4d48b853a54d6cc67703": {
          "model_module": "@jupyter-widgets/controls",
          "model_name": "HTMLModel",
          "model_module_version": "1.5.0",
          "state": {
            "_dom_classes": [],
            "_model_module": "@jupyter-widgets/controls",
            "_model_module_version": "1.5.0",
            "_model_name": "HTMLModel",
            "_view_count": null,
            "_view_module": "@jupyter-widgets/controls",
            "_view_module_version": "1.5.0",
            "_view_name": "HTMLView",
            "description": "",
            "description_tooltip": null,
            "layout": "IPY_MODEL_c10331b5d4b8481b83e5eda94abccad5",
            "placeholder": "​",
            "style": "IPY_MODEL_4e405606de584b76b81ef56f7601a38a",
            "value": " 899k/899k [00:00&lt;00:00, 1.55MB/s]"
          }
        },
        "50f93ffc41dc4d3a9d460642db16fecc": {
          "model_module": "@jupyter-widgets/base",
          "model_name": "LayoutModel",
          "model_module_version": "1.2.0",
          "state": {
            "_model_module": "@jupyter-widgets/base",
            "_model_module_version": "1.2.0",
            "_model_name": "LayoutModel",
            "_view_count": null,
            "_view_module": "@jupyter-widgets/base",
            "_view_module_version": "1.2.0",
            "_view_name": "LayoutView",
            "align_content": null,
            "align_items": null,
            "align_self": null,
            "border": null,
            "bottom": null,
            "display": null,
            "flex": null,
            "flex_flow": null,
            "grid_area": null,
            "grid_auto_columns": null,
            "grid_auto_flow": null,
            "grid_auto_rows": null,
            "grid_column": null,
            "grid_gap": null,
            "grid_row": null,
            "grid_template_areas": null,
            "grid_template_columns": null,
            "grid_template_rows": null,
            "height": null,
            "justify_content": null,
            "justify_items": null,
            "left": null,
            "margin": null,
            "max_height": null,
            "max_width": null,
            "min_height": null,
            "min_width": null,
            "object_fit": null,
            "object_position": null,
            "order": null,
            "overflow": null,
            "overflow_x": null,
            "overflow_y": null,
            "padding": null,
            "right": null,
            "top": null,
            "visibility": null,
            "width": null
          }
        },
        "853da941ae2241f3ae96df5b0c7397dc": {
          "model_module": "@jupyter-widgets/base",
          "model_name": "LayoutModel",
          "model_module_version": "1.2.0",
          "state": {
            "_model_module": "@jupyter-widgets/base",
            "_model_module_version": "1.2.0",
            "_model_name": "LayoutModel",
            "_view_count": null,
            "_view_module": "@jupyter-widgets/base",
            "_view_module_version": "1.2.0",
            "_view_name": "LayoutView",
            "align_content": null,
            "align_items": null,
            "align_self": null,
            "border": null,
            "bottom": null,
            "display": null,
            "flex": null,
            "flex_flow": null,
            "grid_area": null,
            "grid_auto_columns": null,
            "grid_auto_flow": null,
            "grid_auto_rows": null,
            "grid_column": null,
            "grid_gap": null,
            "grid_row": null,
            "grid_template_areas": null,
            "grid_template_columns": null,
            "grid_template_rows": null,
            "height": null,
            "justify_content": null,
            "justify_items": null,
            "left": null,
            "margin": null,
            "max_height": null,
            "max_width": null,
            "min_height": null,
            "min_width": null,
            "object_fit": null,
            "object_position": null,
            "order": null,
            "overflow": null,
            "overflow_x": null,
            "overflow_y": null,
            "padding": null,
            "right": null,
            "top": null,
            "visibility": null,
            "width": null
          }
        },
        "f56113c91dcc43eb89184461697111d2": {
          "model_module": "@jupyter-widgets/controls",
          "model_name": "DescriptionStyleModel",
          "model_module_version": "1.5.0",
          "state": {
            "_model_module": "@jupyter-widgets/controls",
            "_model_module_version": "1.5.0",
            "_model_name": "DescriptionStyleModel",
            "_view_count": null,
            "_view_module": "@jupyter-widgets/base",
            "_view_module_version": "1.2.0",
            "_view_name": "StyleView",
            "description_width": ""
          }
        },
        "b99598ef705e49c190c745f066e80bf9": {
          "model_module": "@jupyter-widgets/base",
          "model_name": "LayoutModel",
          "model_module_version": "1.2.0",
          "state": {
            "_model_module": "@jupyter-widgets/base",
            "_model_module_version": "1.2.0",
            "_model_name": "LayoutModel",
            "_view_count": null,
            "_view_module": "@jupyter-widgets/base",
            "_view_module_version": "1.2.0",
            "_view_name": "LayoutView",
            "align_content": null,
            "align_items": null,
            "align_self": null,
            "border": null,
            "bottom": null,
            "display": null,
            "flex": null,
            "flex_flow": null,
            "grid_area": null,
            "grid_auto_columns": null,
            "grid_auto_flow": null,
            "grid_auto_rows": null,
            "grid_column": null,
            "grid_gap": null,
            "grid_row": null,
            "grid_template_areas": null,
            "grid_template_columns": null,
            "grid_template_rows": null,
            "height": null,
            "justify_content": null,
            "justify_items": null,
            "left": null,
            "margin": null,
            "max_height": null,
            "max_width": null,
            "min_height": null,
            "min_width": null,
            "object_fit": null,
            "object_position": null,
            "order": null,
            "overflow": null,
            "overflow_x": null,
            "overflow_y": null,
            "padding": null,
            "right": null,
            "top": null,
            "visibility": null,
            "width": null
          }
        },
        "e7c3373b5ff6403386ba6c433a26d795": {
          "model_module": "@jupyter-widgets/controls",
          "model_name": "ProgressStyleModel",
          "model_module_version": "1.5.0",
          "state": {
            "_model_module": "@jupyter-widgets/controls",
            "_model_module_version": "1.5.0",
            "_model_name": "ProgressStyleModel",
            "_view_count": null,
            "_view_module": "@jupyter-widgets/base",
            "_view_module_version": "1.2.0",
            "_view_name": "StyleView",
            "bar_color": null,
            "description_width": ""
          }
        },
        "c10331b5d4b8481b83e5eda94abccad5": {
          "model_module": "@jupyter-widgets/base",
          "model_name": "LayoutModel",
          "model_module_version": "1.2.0",
          "state": {
            "_model_module": "@jupyter-widgets/base",
            "_model_module_version": "1.2.0",
            "_model_name": "LayoutModel",
            "_view_count": null,
            "_view_module": "@jupyter-widgets/base",
            "_view_module_version": "1.2.0",
            "_view_name": "LayoutView",
            "align_content": null,
            "align_items": null,
            "align_self": null,
            "border": null,
            "bottom": null,
            "display": null,
            "flex": null,
            "flex_flow": null,
            "grid_area": null,
            "grid_auto_columns": null,
            "grid_auto_flow": null,
            "grid_auto_rows": null,
            "grid_column": null,
            "grid_gap": null,
            "grid_row": null,
            "grid_template_areas": null,
            "grid_template_columns": null,
            "grid_template_rows": null,
            "height": null,
            "justify_content": null,
            "justify_items": null,
            "left": null,
            "margin": null,
            "max_height": null,
            "max_width": null,
            "min_height": null,
            "min_width": null,
            "object_fit": null,
            "object_position": null,
            "order": null,
            "overflow": null,
            "overflow_x": null,
            "overflow_y": null,
            "padding": null,
            "right": null,
            "top": null,
            "visibility": null,
            "width": null
          }
        },
        "4e405606de584b76b81ef56f7601a38a": {
          "model_module": "@jupyter-widgets/controls",
          "model_name": "DescriptionStyleModel",
          "model_module_version": "1.5.0",
          "state": {
            "_model_module": "@jupyter-widgets/controls",
            "_model_module_version": "1.5.0",
            "_model_name": "DescriptionStyleModel",
            "_view_count": null,
            "_view_module": "@jupyter-widgets/base",
            "_view_module_version": "1.2.0",
            "_view_name": "StyleView",
            "description_width": ""
          }
        },
        "234e929ea85f4acba9bf7480e69f812e": {
          "model_module": "@jupyter-widgets/controls",
          "model_name": "HBoxModel",
          "model_module_version": "1.5.0",
          "state": {
            "_dom_classes": [],
            "_model_module": "@jupyter-widgets/controls",
            "_model_module_version": "1.5.0",
            "_model_name": "HBoxModel",
            "_view_count": null,
            "_view_module": "@jupyter-widgets/controls",
            "_view_module_version": "1.5.0",
            "_view_name": "HBoxView",
            "box_style": "",
            "children": [
              "IPY_MODEL_037a31f382d548029faa31da8c4db812",
              "IPY_MODEL_9573a8a615b34652b7d76c0ff59aa8e1",
              "IPY_MODEL_e28994fbc57f4989a262d612d79c380b"
            ],
            "layout": "IPY_MODEL_8cdc25a994d748ffa9bd1b89f313dc68"
          }
        },
        "037a31f382d548029faa31da8c4db812": {
          "model_module": "@jupyter-widgets/controls",
          "model_name": "HTMLModel",
          "model_module_version": "1.5.0",
          "state": {
            "_dom_classes": [],
            "_model_module": "@jupyter-widgets/controls",
            "_model_module_version": "1.5.0",
            "_model_name": "HTMLModel",
            "_view_count": null,
            "_view_module": "@jupyter-widgets/controls",
            "_view_module_version": "1.5.0",
            "_view_name": "HTMLView",
            "description": "",
            "description_tooltip": null,
            "layout": "IPY_MODEL_0b5069b2f4f44d16b4323125d4f32a44",
            "placeholder": "​",
            "style": "IPY_MODEL_90952eea1cf947958e3af64ae4d45639",
            "value": "Downloading: 100%"
          }
        },
        "9573a8a615b34652b7d76c0ff59aa8e1": {
          "model_module": "@jupyter-widgets/controls",
          "model_name": "FloatProgressModel",
          "model_module_version": "1.5.0",
          "state": {
            "_dom_classes": [],
            "_model_module": "@jupyter-widgets/controls",
            "_model_module_version": "1.5.0",
            "_model_name": "FloatProgressModel",
            "_view_count": null,
            "_view_module": "@jupyter-widgets/controls",
            "_view_module_version": "1.5.0",
            "_view_name": "ProgressView",
            "bar_style": "success",
            "description": "",
            "description_tooltip": null,
            "layout": "IPY_MODEL_1ac8350ecea44cf8aeb505b48c001bae",
            "max": 614,
            "min": 0,
            "orientation": "horizontal",
            "style": "IPY_MODEL_82d612ad2a4e4b118adb26ff12f1efc4",
            "value": 614
          }
        },
        "e28994fbc57f4989a262d612d79c380b": {
          "model_module": "@jupyter-widgets/controls",
          "model_name": "HTMLModel",
          "model_module_version": "1.5.0",
          "state": {
            "_dom_classes": [],
            "_model_module": "@jupyter-widgets/controls",
            "_model_module_version": "1.5.0",
            "_model_name": "HTMLModel",
            "_view_count": null,
            "_view_module": "@jupyter-widgets/controls",
            "_view_module_version": "1.5.0",
            "_view_name": "HTMLView",
            "description": "",
            "description_tooltip": null,
            "layout": "IPY_MODEL_a4f52b18d14a42aeaca26ad8386ca25a",
            "placeholder": "​",
            "style": "IPY_MODEL_53a6773ad5ca4862a09dcc6f5b19f30a",
            "value": " 614/614 [00:00&lt;00:00, 17.4kB/s]"
          }
        },
        "8cdc25a994d748ffa9bd1b89f313dc68": {
          "model_module": "@jupyter-widgets/base",
          "model_name": "LayoutModel",
          "model_module_version": "1.2.0",
          "state": {
            "_model_module": "@jupyter-widgets/base",
            "_model_module_version": "1.2.0",
            "_model_name": "LayoutModel",
            "_view_count": null,
            "_view_module": "@jupyter-widgets/base",
            "_view_module_version": "1.2.0",
            "_view_name": "LayoutView",
            "align_content": null,
            "align_items": null,
            "align_self": null,
            "border": null,
            "bottom": null,
            "display": null,
            "flex": null,
            "flex_flow": null,
            "grid_area": null,
            "grid_auto_columns": null,
            "grid_auto_flow": null,
            "grid_auto_rows": null,
            "grid_column": null,
            "grid_gap": null,
            "grid_row": null,
            "grid_template_areas": null,
            "grid_template_columns": null,
            "grid_template_rows": null,
            "height": null,
            "justify_content": null,
            "justify_items": null,
            "left": null,
            "margin": null,
            "max_height": null,
            "max_width": null,
            "min_height": null,
            "min_width": null,
            "object_fit": null,
            "object_position": null,
            "order": null,
            "overflow": null,
            "overflow_x": null,
            "overflow_y": null,
            "padding": null,
            "right": null,
            "top": null,
            "visibility": null,
            "width": null
          }
        },
        "0b5069b2f4f44d16b4323125d4f32a44": {
          "model_module": "@jupyter-widgets/base",
          "model_name": "LayoutModel",
          "model_module_version": "1.2.0",
          "state": {
            "_model_module": "@jupyter-widgets/base",
            "_model_module_version": "1.2.0",
            "_model_name": "LayoutModel",
            "_view_count": null,
            "_view_module": "@jupyter-widgets/base",
            "_view_module_version": "1.2.0",
            "_view_name": "LayoutView",
            "align_content": null,
            "align_items": null,
            "align_self": null,
            "border": null,
            "bottom": null,
            "display": null,
            "flex": null,
            "flex_flow": null,
            "grid_area": null,
            "grid_auto_columns": null,
            "grid_auto_flow": null,
            "grid_auto_rows": null,
            "grid_column": null,
            "grid_gap": null,
            "grid_row": null,
            "grid_template_areas": null,
            "grid_template_columns": null,
            "grid_template_rows": null,
            "height": null,
            "justify_content": null,
            "justify_items": null,
            "left": null,
            "margin": null,
            "max_height": null,
            "max_width": null,
            "min_height": null,
            "min_width": null,
            "object_fit": null,
            "object_position": null,
            "order": null,
            "overflow": null,
            "overflow_x": null,
            "overflow_y": null,
            "padding": null,
            "right": null,
            "top": null,
            "visibility": null,
            "width": null
          }
        },
        "90952eea1cf947958e3af64ae4d45639": {
          "model_module": "@jupyter-widgets/controls",
          "model_name": "DescriptionStyleModel",
          "model_module_version": "1.5.0",
          "state": {
            "_model_module": "@jupyter-widgets/controls",
            "_model_module_version": "1.5.0",
            "_model_name": "DescriptionStyleModel",
            "_view_count": null,
            "_view_module": "@jupyter-widgets/base",
            "_view_module_version": "1.2.0",
            "_view_name": "StyleView",
            "description_width": ""
          }
        },
        "1ac8350ecea44cf8aeb505b48c001bae": {
          "model_module": "@jupyter-widgets/base",
          "model_name": "LayoutModel",
          "model_module_version": "1.2.0",
          "state": {
            "_model_module": "@jupyter-widgets/base",
            "_model_module_version": "1.2.0",
            "_model_name": "LayoutModel",
            "_view_count": null,
            "_view_module": "@jupyter-widgets/base",
            "_view_module_version": "1.2.0",
            "_view_name": "LayoutView",
            "align_content": null,
            "align_items": null,
            "align_self": null,
            "border": null,
            "bottom": null,
            "display": null,
            "flex": null,
            "flex_flow": null,
            "grid_area": null,
            "grid_auto_columns": null,
            "grid_auto_flow": null,
            "grid_auto_rows": null,
            "grid_column": null,
            "grid_gap": null,
            "grid_row": null,
            "grid_template_areas": null,
            "grid_template_columns": null,
            "grid_template_rows": null,
            "height": null,
            "justify_content": null,
            "justify_items": null,
            "left": null,
            "margin": null,
            "max_height": null,
            "max_width": null,
            "min_height": null,
            "min_width": null,
            "object_fit": null,
            "object_position": null,
            "order": null,
            "overflow": null,
            "overflow_x": null,
            "overflow_y": null,
            "padding": null,
            "right": null,
            "top": null,
            "visibility": null,
            "width": null
          }
        },
        "82d612ad2a4e4b118adb26ff12f1efc4": {
          "model_module": "@jupyter-widgets/controls",
          "model_name": "ProgressStyleModel",
          "model_module_version": "1.5.0",
          "state": {
            "_model_module": "@jupyter-widgets/controls",
            "_model_module_version": "1.5.0",
            "_model_name": "ProgressStyleModel",
            "_view_count": null,
            "_view_module": "@jupyter-widgets/base",
            "_view_module_version": "1.2.0",
            "_view_name": "StyleView",
            "bar_color": null,
            "description_width": ""
          }
        },
        "a4f52b18d14a42aeaca26ad8386ca25a": {
          "model_module": "@jupyter-widgets/base",
          "model_name": "LayoutModel",
          "model_module_version": "1.2.0",
          "state": {
            "_model_module": "@jupyter-widgets/base",
            "_model_module_version": "1.2.0",
            "_model_name": "LayoutModel",
            "_view_count": null,
            "_view_module": "@jupyter-widgets/base",
            "_view_module_version": "1.2.0",
            "_view_name": "LayoutView",
            "align_content": null,
            "align_items": null,
            "align_self": null,
            "border": null,
            "bottom": null,
            "display": null,
            "flex": null,
            "flex_flow": null,
            "grid_area": null,
            "grid_auto_columns": null,
            "grid_auto_flow": null,
            "grid_auto_rows": null,
            "grid_column": null,
            "grid_gap": null,
            "grid_row": null,
            "grid_template_areas": null,
            "grid_template_columns": null,
            "grid_template_rows": null,
            "height": null,
            "justify_content": null,
            "justify_items": null,
            "left": null,
            "margin": null,
            "max_height": null,
            "max_width": null,
            "min_height": null,
            "min_width": null,
            "object_fit": null,
            "object_position": null,
            "order": null,
            "overflow": null,
            "overflow_x": null,
            "overflow_y": null,
            "padding": null,
            "right": null,
            "top": null,
            "visibility": null,
            "width": null
          }
        },
        "53a6773ad5ca4862a09dcc6f5b19f30a": {
          "model_module": "@jupyter-widgets/controls",
          "model_name": "DescriptionStyleModel",
          "model_module_version": "1.5.0",
          "state": {
            "_model_module": "@jupyter-widgets/controls",
            "_model_module_version": "1.5.0",
            "_model_name": "DescriptionStyleModel",
            "_view_count": null,
            "_view_module": "@jupyter-widgets/base",
            "_view_module_version": "1.2.0",
            "_view_name": "StyleView",
            "description_width": ""
          }
        },
        "d5f784d6a09e43eeb9be87299cccd2b2": {
          "model_module": "@jupyter-widgets/controls",
          "model_name": "HBoxModel",
          "model_module_version": "1.5.0",
          "state": {
            "_dom_classes": [],
            "_model_module": "@jupyter-widgets/controls",
            "_model_module_version": "1.5.0",
            "_model_name": "HBoxModel",
            "_view_count": null,
            "_view_module": "@jupyter-widgets/controls",
            "_view_module_version": "1.5.0",
            "_view_name": "HBoxView",
            "box_style": "",
            "children": [
              "IPY_MODEL_2f22e5dba482423496d43289bb89ae85",
              "IPY_MODEL_899a0f1345d546b4b6025ee0279796f7",
              "IPY_MODEL_e12b008fdf374091a31f2d16e797a545"
            ],
            "layout": "IPY_MODEL_4d3add213c5648e8b1079dbae4d7aedc"
          }
        },
        "2f22e5dba482423496d43289bb89ae85": {
          "model_module": "@jupyter-widgets/controls",
          "model_name": "HTMLModel",
          "model_module_version": "1.5.0",
          "state": {
            "_dom_classes": [],
            "_model_module": "@jupyter-widgets/controls",
            "_model_module_version": "1.5.0",
            "_model_name": "HTMLModel",
            "_view_count": null,
            "_view_module": "@jupyter-widgets/controls",
            "_view_module_version": "1.5.0",
            "_view_name": "HTMLView",
            "description": "",
            "description_tooltip": null,
            "layout": "IPY_MODEL_6296317fff954f1aafb81919a26afacd",
            "placeholder": "​",
            "style": "IPY_MODEL_355674fbd7434979bb23be24f635e9a0",
            "value": "100%"
          }
        },
        "899a0f1345d546b4b6025ee0279796f7": {
          "model_module": "@jupyter-widgets/controls",
          "model_name": "FloatProgressModel",
          "model_module_version": "1.5.0",
          "state": {
            "_dom_classes": [],
            "_model_module": "@jupyter-widgets/controls",
            "_model_module_version": "1.5.0",
            "_model_name": "FloatProgressModel",
            "_view_count": null,
            "_view_module": "@jupyter-widgets/controls",
            "_view_module_version": "1.5.0",
            "_view_name": "ProgressView",
            "bar_style": "success",
            "description": "",
            "description_tooltip": null,
            "layout": "IPY_MODEL_e21eacc5a280446d88e24dc62871430f",
            "max": 133176,
            "min": 0,
            "orientation": "horizontal",
            "style": "IPY_MODEL_4f29c9e4554f4147b71af8db00abb0e0",
            "value": 133176
          }
        },
        "e12b008fdf374091a31f2d16e797a545": {
          "model_module": "@jupyter-widgets/controls",
          "model_name": "HTMLModel",
          "model_module_version": "1.5.0",
          "state": {
            "_dom_classes": [],
            "_model_module": "@jupyter-widgets/controls",
            "_model_module_version": "1.5.0",
            "_model_name": "HTMLModel",
            "_view_count": null,
            "_view_module": "@jupyter-widgets/controls",
            "_view_module_version": "1.5.0",
            "_view_name": "HTMLView",
            "description": "",
            "description_tooltip": null,
            "layout": "IPY_MODEL_752ce2d0518b47aa8569d8c0159611b5",
            "placeholder": "​",
            "style": "IPY_MODEL_d769ed265a5142e3aea624940aceb02a",
            "value": " 133176/133176 [00:00&lt;00:00, 526502.98it/s]"
          }
        },
        "4d3add213c5648e8b1079dbae4d7aedc": {
          "model_module": "@jupyter-widgets/base",
          "model_name": "LayoutModel",
          "model_module_version": "1.2.0",
          "state": {
            "_model_module": "@jupyter-widgets/base",
            "_model_module_version": "1.2.0",
            "_model_name": "LayoutModel",
            "_view_count": null,
            "_view_module": "@jupyter-widgets/base",
            "_view_module_version": "1.2.0",
            "_view_name": "LayoutView",
            "align_content": null,
            "align_items": null,
            "align_self": null,
            "border": null,
            "bottom": null,
            "display": null,
            "flex": null,
            "flex_flow": null,
            "grid_area": null,
            "grid_auto_columns": null,
            "grid_auto_flow": null,
            "grid_auto_rows": null,
            "grid_column": null,
            "grid_gap": null,
            "grid_row": null,
            "grid_template_areas": null,
            "grid_template_columns": null,
            "grid_template_rows": null,
            "height": null,
            "justify_content": null,
            "justify_items": null,
            "left": null,
            "margin": null,
            "max_height": null,
            "max_width": null,
            "min_height": null,
            "min_width": null,
            "object_fit": null,
            "object_position": null,
            "order": null,
            "overflow": null,
            "overflow_x": null,
            "overflow_y": null,
            "padding": null,
            "right": null,
            "top": null,
            "visibility": null,
            "width": null
          }
        },
        "6296317fff954f1aafb81919a26afacd": {
          "model_module": "@jupyter-widgets/base",
          "model_name": "LayoutModel",
          "model_module_version": "1.2.0",
          "state": {
            "_model_module": "@jupyter-widgets/base",
            "_model_module_version": "1.2.0",
            "_model_name": "LayoutModel",
            "_view_count": null,
            "_view_module": "@jupyter-widgets/base",
            "_view_module_version": "1.2.0",
            "_view_name": "LayoutView",
            "align_content": null,
            "align_items": null,
            "align_self": null,
            "border": null,
            "bottom": null,
            "display": null,
            "flex": null,
            "flex_flow": null,
            "grid_area": null,
            "grid_auto_columns": null,
            "grid_auto_flow": null,
            "grid_auto_rows": null,
            "grid_column": null,
            "grid_gap": null,
            "grid_row": null,
            "grid_template_areas": null,
            "grid_template_columns": null,
            "grid_template_rows": null,
            "height": null,
            "justify_content": null,
            "justify_items": null,
            "left": null,
            "margin": null,
            "max_height": null,
            "max_width": null,
            "min_height": null,
            "min_width": null,
            "object_fit": null,
            "object_position": null,
            "order": null,
            "overflow": null,
            "overflow_x": null,
            "overflow_y": null,
            "padding": null,
            "right": null,
            "top": null,
            "visibility": null,
            "width": null
          }
        },
        "355674fbd7434979bb23be24f635e9a0": {
          "model_module": "@jupyter-widgets/controls",
          "model_name": "DescriptionStyleModel",
          "model_module_version": "1.5.0",
          "state": {
            "_model_module": "@jupyter-widgets/controls",
            "_model_module_version": "1.5.0",
            "_model_name": "DescriptionStyleModel",
            "_view_count": null,
            "_view_module": "@jupyter-widgets/base",
            "_view_module_version": "1.2.0",
            "_view_name": "StyleView",
            "description_width": ""
          }
        },
        "e21eacc5a280446d88e24dc62871430f": {
          "model_module": "@jupyter-widgets/base",
          "model_name": "LayoutModel",
          "model_module_version": "1.2.0",
          "state": {
            "_model_module": "@jupyter-widgets/base",
            "_model_module_version": "1.2.0",
            "_model_name": "LayoutModel",
            "_view_count": null,
            "_view_module": "@jupyter-widgets/base",
            "_view_module_version": "1.2.0",
            "_view_name": "LayoutView",
            "align_content": null,
            "align_items": null,
            "align_self": null,
            "border": null,
            "bottom": null,
            "display": null,
            "flex": null,
            "flex_flow": null,
            "grid_area": null,
            "grid_auto_columns": null,
            "grid_auto_flow": null,
            "grid_auto_rows": null,
            "grid_column": null,
            "grid_gap": null,
            "grid_row": null,
            "grid_template_areas": null,
            "grid_template_columns": null,
            "grid_template_rows": null,
            "height": null,
            "justify_content": null,
            "justify_items": null,
            "left": null,
            "margin": null,
            "max_height": null,
            "max_width": null,
            "min_height": null,
            "min_width": null,
            "object_fit": null,
            "object_position": null,
            "order": null,
            "overflow": null,
            "overflow_x": null,
            "overflow_y": null,
            "padding": null,
            "right": null,
            "top": null,
            "visibility": null,
            "width": null
          }
        },
        "4f29c9e4554f4147b71af8db00abb0e0": {
          "model_module": "@jupyter-widgets/controls",
          "model_name": "ProgressStyleModel",
          "model_module_version": "1.5.0",
          "state": {
            "_model_module": "@jupyter-widgets/controls",
            "_model_module_version": "1.5.0",
            "_model_name": "ProgressStyleModel",
            "_view_count": null,
            "_view_module": "@jupyter-widgets/base",
            "_view_module_version": "1.2.0",
            "_view_name": "StyleView",
            "bar_color": null,
            "description_width": ""
          }
        },
        "752ce2d0518b47aa8569d8c0159611b5": {
          "model_module": "@jupyter-widgets/base",
          "model_name": "LayoutModel",
          "model_module_version": "1.2.0",
          "state": {
            "_model_module": "@jupyter-widgets/base",
            "_model_module_version": "1.2.0",
            "_model_name": "LayoutModel",
            "_view_count": null,
            "_view_module": "@jupyter-widgets/base",
            "_view_module_version": "1.2.0",
            "_view_name": "LayoutView",
            "align_content": null,
            "align_items": null,
            "align_self": null,
            "border": null,
            "bottom": null,
            "display": null,
            "flex": null,
            "flex_flow": null,
            "grid_area": null,
            "grid_auto_columns": null,
            "grid_auto_flow": null,
            "grid_auto_rows": null,
            "grid_column": null,
            "grid_gap": null,
            "grid_row": null,
            "grid_template_areas": null,
            "grid_template_columns": null,
            "grid_template_rows": null,
            "height": null,
            "justify_content": null,
            "justify_items": null,
            "left": null,
            "margin": null,
            "max_height": null,
            "max_width": null,
            "min_height": null,
            "min_width": null,
            "object_fit": null,
            "object_position": null,
            "order": null,
            "overflow": null,
            "overflow_x": null,
            "overflow_y": null,
            "padding": null,
            "right": null,
            "top": null,
            "visibility": null,
            "width": null
          }
        },
        "d769ed265a5142e3aea624940aceb02a": {
          "model_module": "@jupyter-widgets/controls",
          "model_name": "DescriptionStyleModel",
          "model_module_version": "1.5.0",
          "state": {
            "_model_module": "@jupyter-widgets/controls",
            "_model_module_version": "1.5.0",
            "_model_name": "DescriptionStyleModel",
            "_view_count": null,
            "_view_module": "@jupyter-widgets/base",
            "_view_module_version": "1.2.0",
            "_view_name": "StyleView",
            "description_width": ""
          }
        }
      }
    }
  },
  "cells": [
    {
      "cell_type": "markdown",
      "metadata": {
        "id": "view-in-github",
        "colab_type": "text"
      },
      "source": [
        "<a href=\"https://colab.research.google.com/github/Toadoum/NLP-AMMI/blob/main/NLP2_day1_lab_language_modeling.ipynb\" target=\"_parent\"><img src=\"https://colab.research.google.com/assets/colab-badge.svg\" alt=\"Open In Colab\"/></a>"
      ]
    },
    {
      "cell_type": "markdown",
      "source": [
        "# N-Gram Language Modeling\n",
        "\n",
        "In **language modeling** we want to model the probability of variable length sequences, $$\\large p(w_1,\\ldots,w_T)=\\prod_{t=1}^T p(w_t|w_{<t}).$$\n",
        "\n",
        "An **n-gram language model** assumes that each word $w_t$ only depends on the preceding $n-1$ words(prefix), $$\\large p(w_1,\\ldots,w_T)=\\prod_{t=1}^T p(w_t|w_{t-n+1},\\ldots,w_{t-1}).$$\n",
        "\n",
        " \n",
        "\n",
        "#### Example\n",
        "For instance, when modeling the sentence $$\\texttt{the cat sat on the mat .}$$ a 3-gram language model assumes that $$p(\\texttt{mat}|\\texttt{the cat sat on the}) \\approx p(\\texttt{mat}|\\texttt{on the}).$$\n",
        "\n",
        "The sub-sequence $(\\texttt{on the mat})$ is a *3-gram* or *trigram*. \n",
        "\n",
        "### Count-based Estimation\n",
        "\n",
        "Given some dataset $D$ of sequences, we can estimate an n-gram model through counting, derived as follows:\n",
        "\n",
        "\\begin{align}\n",
        "p(w_t|w_{t-n+1},\\ldots,w_{t-1}) &= \\frac{p(w_{t-n+1},\\ldots,w_{t-1},w_t)}{p(w_{t-n+1},\\ldots,w_{t-1})} & \\text{definition of conditional probability}\\\\\n",
        "                       &= \\frac{p(w_{t-n+1},\\ldots,w_{t-1},w_t)}{\\sum_{w_{t'}}p(w_{t-n+1},\\ldots,w_{t-1},w_{t'})}\\\\\n",
        "                       &\\approx \\frac{\\frac{1}{N}\\text{count}(w_{t-n+1},\\ldots,w_{t-1},w_t)}{\\frac{1}{N}\\sum_{w_{t'}}\\text{count}(w_{t-n+1},\\ldots,w_{t-1},w_{t'})}\\\\\n",
        "                       &= \\frac{\\text{count}(w_{t-n+1},\\ldots,w_{t-1},w_t)}{\\sum_{w_{t'}}\\text{count}(w_{t-n+1},\\ldots,w_{t-1},w_{t'})}\\\\\n",
        "                       &= \\frac{\\text{count}(w_{t-n+1},\\ldots,w_{t-1},w_t)}{\\text{count}(w_{t-n+1},\\ldots,w_{t-1})},\n",
        "\\end{align}\n",
        "\n",
        "where $N$ is the number of $n$-grams in the dataset.\n",
        "\n",
        "In Python, we can collect these counts into a dictionary mapping a prefix to a dictionary of counts:\n",
        "\n",
        "        count[prefix][(w_n+1,...,w_t-1)] = {w_t1: count of (w_n+1,...,w_t1),\n",
        "                                    w_t2: count of (w_n+1,...,w_t2),\n",
        "                                    ...\n",
        "                                   }\n",
        "                                   \n",
        "and for the denominator, maintain a dictionary of totals:\n",
        "\n",
        "        total[(w_n+1,...,w_t-1)] = count of w_n+1,...,w_t-1\n",
        "\n",
        "Now that we've discussed some preliminaries, let's get started importing some basic packages:"
      ],
      "metadata": {
        "id": "7KHEhs--_o3J"
      }
    },
    {
      "cell_type": "code",
      "execution_count": 1,
      "metadata": {
        "id": "9hm_8TK__i-P",
        "colab": {
          "base_uri": "https://localhost:8080/"
        },
        "outputId": "271a7647-0a8e-4146-ec01-12d8dbda7d71"
      },
      "outputs": [
        {
          "output_type": "stream",
          "name": "stdout",
          "text": [
            "Populating the interactive namespace from numpy and matplotlib\n"
          ]
        }
      ],
      "source": [
        "%pylab inline\n",
        "from collections import defaultdict\n",
        "import json\n",
        "import numpy as np\n",
        "import os\n",
        "import pandas as pd\n",
        "from tqdm.auto import tqdm\n",
        "# pd.set_option('display.max_colwidth', -1)"
      ]
    },
    {
      "cell_type": "markdown",
      "source": [
        "### Simplified Language\n",
        "\n",
        "To get intuition, lets start by modeling a simple language called `ABC`. A word in this language is one of three tokens, $$w\\in \\{\\texttt{A, B, C}\\},$$\n",
        "and we'll denote a sentence as $\\textbf{w}=(w_1,\\ldots,w_{T})$.\n",
        "\n",
        "\n",
        "Suppose we are given the following dataset, and want to estimate a **bigram model**: $$p(\\textbf{w})\\approx\\prod_{t=1}^{T}p(w_t|w_{t-1})\\quad\\quad(*)$$"
      ],
      "metadata": {
        "id": "5-Pr7Ph2_ycu"
      }
    },
    {
      "cell_type": "code",
      "source": [
        "data_raw = [['A', 'A', 'B', 'B'],\n",
        "            ['A', 'A', 'B'],\n",
        "            ['A', 'A', 'B', 'C'],\n",
        "            ['A', 'A', 'A'],\n",
        "            ['A', 'A', 'A', 'A']]"
      ],
      "metadata": {
        "id": "Ztj9hBPi_opN"
      },
      "execution_count": 2,
      "outputs": []
    },
    {
      "cell_type": "markdown",
      "source": [
        "Since our model is a probability distribution, the total probability of all possible strings in the language must sum to 1, i.e.: $$\\sum_{\\textbf{w}}p(\\textbf{w})=1.$$\n",
        "\n",
        "In order to satisfy this criterion it turns out that we need an additional **beginning token**, `<bos>`, and **end token**, `<eos>`:"
      ],
      "metadata": {
        "id": "R8Ipo2Iq_4re"
      }
    },
    {
      "cell_type": "code",
      "source": [
        "data = [['<bos>'] + d + ['<eos>'] for d in data_raw]\n",
        "data"
      ],
      "metadata": {
        "id": "G0XFYs6J_rCO",
        "colab": {
          "base_uri": "https://localhost:8080/"
        },
        "outputId": "6cdb497f-8372-44be-8d04-575a5ecc09c8"
      },
      "execution_count": 3,
      "outputs": [
        {
          "output_type": "execute_result",
          "data": {
            "text/plain": [
              "[['<bos>', 'A', 'A', 'B', 'B', '<eos>'],\n",
              " ['<bos>', 'A', 'A', 'B', '<eos>'],\n",
              " ['<bos>', 'A', 'A', 'B', 'C', '<eos>'],\n",
              " ['<bos>', 'A', 'A', 'A', '<eos>'],\n",
              " ['<bos>', 'A', 'A', 'A', 'A', '<eos>']]"
            ]
          },
          "metadata": {},
          "execution_count": 3
        }
      ]
    },
    {
      "cell_type": "markdown",
      "source": [
        "Now let's estimate a bigram model:\n",
        "\n",
        "\\begin{align}\n",
        "p(w_t|w_{t-1}) &= \\frac{\\text{count}(w_{t-1}w_{t})}{\\sum_{w_{t'}}\\text{count}(w_{t-1}w_{t'})}\\\\\n",
        "               &= \\texttt{count[prefix][wt] / totals[prefix]}\n",
        "\\end{align} \n",
        "\n",
        "where $\\texttt{prefix}$ is $w_{t-1}$ in this case."
      ],
      "metadata": {
        "id": "3Y_OvAzV_8CW"
      }
    },
    {
      "cell_type": "code",
      "source": [
        "count = defaultdict(lambda: defaultdict(float))\n",
        "total = defaultdict(float)\n",
        "\n",
        "n = 2\n",
        "for sequence in data:\n",
        "    for i in range(len(sequence)-n+1):         # for each ngram\n",
        "        ngram = tuple(sequence[i:i+n])\n",
        "        prefix, word = ngram[:-1], ngram[-1]\n",
        "        count[prefix][word] += 1               # count(w_{t-n+1}...w_{t-1},w_t)\n",
        "        total[prefix] += 1                     # count(w_{t-n+1}...w_{t-1})"
      ],
      "metadata": {
        "id": "QyfL7yg0_98Z"
      },
      "execution_count": 4,
      "outputs": []
    },
    {
      "cell_type": "markdown",
      "source": [
        "Let's see if the counts and totals make sense:\n",
        "\n",
        "- How many times did (A, B) occur? What about (B, B)?\n",
        "- How many times did (A) occur? What about (C)?"
      ],
      "metadata": {
        "id": "eOT_eSq___53"
      }
    },
    {
      "cell_type": "code",
      "source": [
        "print(\"Counts:\")\n",
        "dict(count)"
      ],
      "metadata": {
        "id": "cycAqFD6AByd",
        "colab": {
          "base_uri": "https://localhost:8080/"
        },
        "outputId": "9afa7534-61aa-47a2-cc83-71e1095a72a0"
      },
      "execution_count": 5,
      "outputs": [
        {
          "output_type": "stream",
          "name": "stdout",
          "text": [
            "Counts:\n"
          ]
        },
        {
          "output_type": "execute_result",
          "data": {
            "text/plain": [
              "{('<bos>',): defaultdict(float, {'A': 5.0}),\n",
              " ('A',): defaultdict(float, {'<eos>': 2.0, 'A': 8.0, 'B': 3.0}),\n",
              " ('B',): defaultdict(float, {'<eos>': 2.0, 'B': 1.0, 'C': 1.0}),\n",
              " ('C',): defaultdict(float, {'<eos>': 1.0})}"
            ]
          },
          "metadata": {},
          "execution_count": 5
        }
      ]
    },
    {
      "cell_type": "code",
      "source": [
        "print(\"\\nTotals:\")\n",
        "dict(total)"
      ],
      "metadata": {
        "id": "6taqhcoqAEET",
        "colab": {
          "base_uri": "https://localhost:8080/"
        },
        "outputId": "97acce44-8383-459b-a808-c3d2bddda878"
      },
      "execution_count": 6,
      "outputs": [
        {
          "output_type": "stream",
          "name": "stdout",
          "text": [
            "\n",
            "Totals:\n"
          ]
        },
        {
          "output_type": "execute_result",
          "data": {
            "text/plain": [
              "{('<bos>',): 5.0, ('A',): 13.0, ('B',): 4.0, ('C',): 1.0}"
            ]
          },
          "metadata": {},
          "execution_count": 6
        }
      ]
    },
    {
      "cell_type": "code",
      "source": [
        "data"
      ],
      "metadata": {
        "colab": {
          "base_uri": "https://localhost:8080/"
        },
        "id": "iYR7WS-OFaea",
        "outputId": "6808e295-3b8a-4700-be6c-d1922617620e"
      },
      "execution_count": 7,
      "outputs": [
        {
          "output_type": "execute_result",
          "data": {
            "text/plain": [
              "[['<bos>', 'A', 'A', 'B', 'B', '<eos>'],\n",
              " ['<bos>', 'A', 'A', 'B', '<eos>'],\n",
              " ['<bos>', 'A', 'A', 'B', 'C', '<eos>'],\n",
              " ['<bos>', 'A', 'A', 'A', '<eos>'],\n",
              " ['<bos>', 'A', 'A', 'A', 'A', '<eos>']]"
            ]
          },
          "metadata": {},
          "execution_count": 7
        }
      ]
    },
    {
      "cell_type": "markdown",
      "source": [
        "#### Conditional probability queries\n",
        "\n",
        "We can now query a conditional probability:\n",
        "\n",
        "\\begin{align}\n",
        "\\texttt{p(word|prefix)} =&\\ \\texttt{count[prefix][word] / totals[prefix]}\n",
        "\\end{align}"
      ],
      "metadata": {
        "id": "5K7ArBf-AH7D"
      }
    },
    {
      "cell_type": "code",
      "source": [
        "queries = [('<bos>', 'A'),\n",
        "           ('B', 'C')]\n",
        "\n",
        "for query in queries:\n",
        "    prefix, word = query[:-1], query[-1]\n",
        "    p = count[prefix][word] / total[prefix]  # We'll discuss the case when `total[prefix] = 0` below.\n",
        "    print(\"p( %s | %s) = \\t%.5f\" % (word, ', '.join(prefix), p))"
      ],
      "metadata": {
        "id": "QR9_u9_IAIbG",
        "colab": {
          "base_uri": "https://localhost:8080/"
        },
        "outputId": "04a58fc7-4971-43a5-ad1f-6e49cdb8df3c"
      },
      "execution_count": 8,
      "outputs": [
        {
          "output_type": "stream",
          "name": "stdout",
          "text": [
            "p( A | <bos>) = \t1.00000\n",
            "p( C | B) = \t0.25000\n"
          ]
        }
      ]
    },
    {
      "cell_type": "markdown",
      "source": [
        "**Exercise**: Look at the training set and convince yourself that these conditional probabilities are correct according to the count-based estimation procedure."
      ],
      "metadata": {
        "id": "zJ61lXoOAMqK"
      }
    },
    {
      "cell_type": "markdown",
      "source": [
        "#### Sequence Probability\n",
        "\n",
        "We can compute the probability of a sequence using the conditional probabilities along with the chain rule of probability:\n",
        "\n",
        "\\begin{align}\n",
        "p(w_1,\\ldots,w_T)&\\approx\\prod_{t=1}^T p(w_t|w_{t-1})\n",
        "\\end{align}\n",
        "\n",
        "(Here $w_0$ is `<bos>` and $w_T$ is `<eos>`)"
      ],
      "metadata": {
        "id": "swhNp9uGAPm8"
      }
    },
    {
      "cell_type": "code",
      "source": [
        "sequence = ['<bos>', 'A', 'A', 'B', '<eos>']\n",
        "\n",
        "def sequence_p(sequence, log=False):\n",
        "    total_p = 1\n",
        "\n",
        "    for i in range(len(sequence)-n+1):\n",
        "        ngram = tuple(sequence[i:i+n])\n",
        "        prefix = ngram[:-1]\n",
        "        word = ngram[-1]\n",
        "        p = count[prefix][word] / max(total[prefix], 1)\n",
        "        if log:\n",
        "            print(\"p(%s | %s) =\\t%.3f\" % (word, ', '.join(prefix), p))\n",
        "\n",
        "        total_p *= p\n",
        "    return total_p\n",
        "    \n",
        "\n",
        "print(\"\\nProduct: p(%s) = %.3f\" % (''.join(sequence[1:-1]), sequence_p(sequence, log=True)))"
      ],
      "metadata": {
        "id": "lgzjxCD1ANH1",
        "colab": {
          "base_uri": "https://localhost:8080/"
        },
        "outputId": "d185bdfd-10f3-4971-b3af-ec8a1c5ba266"
      },
      "execution_count": 9,
      "outputs": [
        {
          "output_type": "stream",
          "name": "stdout",
          "text": [
            "p(A | <bos>) =\t1.000\n",
            "p(A | A) =\t0.615\n",
            "p(B | A) =\t0.231\n",
            "p(<eos> | B) =\t0.500\n",
            "\n",
            "Product: p(AAB) = 0.071\n"
          ]
        }
      ]
    },
    {
      "cell_type": "code",
      "source": [
        "sequence = ['<bos>', 'A', 'C', 'B', '<eos>']\n",
        "\n",
        "print(\"\\nProduct: p(%s) = %.3f\" % (''.join(sequence[1:-1]), sequence_p(sequence, log=True)))"
      ],
      "metadata": {
        "colab": {
          "base_uri": "https://localhost:8080/"
        },
        "id": "9lswqoyWWjr6",
        "outputId": "5ff8bd3d-0ba3-46d9-d7b0-c45c0ef2d41a"
      },
      "execution_count": 10,
      "outputs": [
        {
          "output_type": "stream",
          "name": "stdout",
          "text": [
            "p(A | <bos>) =\t1.000\n",
            "p(C | A) =\t0.000\n",
            "p(B | C) =\t0.000\n",
            "p(<eos> | B) =\t0.500\n",
            "\n",
            "Product: p(ACB) = 0.000\n"
          ]
        }
      ]
    },
    {
      "cell_type": "markdown",
      "source": [
        "### Real Example: Dialogue Utterances\n",
        "\n",
        "Now lets use the same ideas on a more realistic text corpus.\n",
        "\n",
        "We will use utterances from a dialogue dataset called **Persona-Chat**. This dataset is relatively small and centers on a single domain, but it is simple and interpretable for our purposes here. You can download it as follows:"
      ],
      "metadata": {
        "id": "NJaqg2RnAUWR"
      }
    },
    {
      "cell_type": "code",
      "source": [
        "if not os.path.exists('personachat_all_sentences_train.jsonl'):\n",
        "    !wget \"https://nyu.box.com/shared/static/q4nvswb0szelivhgyx87vd1056ttqfyi.jsonl\" -O 'personachat_all_sentences_train.jsonl'\n",
        "if not os.path.exists('personachat_all_sentences_valid.jsonl'):\n",
        "    !wget \"https://nyu.box.com/shared/static/8krcizo8sms1m0ppy7uiwfcx4a3l5nsq.jsonl\" -O 'personachat_all_sentences_valid.jsonl'"
      ],
      "metadata": {
        "id": "yVpa-tgEAVDe"
      },
      "execution_count": 12,
      "outputs": []
    },
    {
      "cell_type": "markdown",
      "source": [
        "#### Loading the dataset"
      ],
      "metadata": {
        "id": "479C6KO-AZwk"
      }
    },
    {
      "cell_type": "code",
      "source": [
        "train = []\n",
        "valid = []\n",
        "\n",
        "for ds, name in [(train, 'train'), (valid, 'valid')]:\n",
        "    with open('personachat_all_sentences_%s.jsonl' % name, 'r') as f:\n",
        "        for line in f:\n",
        "            ds.append(json.loads(line)['tokens'])\n",
        "        \n",
        "vocab = list(set([t for ts in train for t in ts]))      \n",
        "print(\"Number of train examples: %d\" % (len(train)))\n",
        "print(\"Number of valid examples: %d\" % (len(valid)))\n",
        "print(\"Vocab size: %d\" % (len(vocab)))\n",
        "\n",
        "print(\"\\nExamples:\")\n",
        "train[:3]"
      ],
      "metadata": {
        "id": "R890CXu0AaK1",
        "colab": {
          "base_uri": "https://localhost:8080/"
        },
        "outputId": "4f8dcf63-a315-4f36-f898-db674d2b3523"
      },
      "execution_count": 13,
      "outputs": [
        {
          "output_type": "stream",
          "name": "stdout",
          "text": [
            "Number of train examples: 133176\n",
            "Number of valid examples: 16181\n",
            "Vocab size: 19153\n",
            "\n",
            "Examples:\n"
          ]
        },
        {
          "output_type": "execute_result",
          "data": {
            "text/plain": [
              "[['i', 'am', 'doing', 'great', 'except', 'for', 'the', 'allergies', '.'],\n",
              " ['i', 'am', 'a', 'woman', 'what', 'about', 'you', '.'],\n",
              " ['i', 'thought', 'you', 'were', 'a', 'college', 'kid', '.']]"
            ]
          },
          "metadata": {},
          "execution_count": 13
        }
      ]
    },
    {
      "cell_type": "markdown",
      "source": [
        "#### Convert tokenized data to input"
      ],
      "metadata": {
        "id": "auWAaMtSAcCC"
      }
    },
    {
      "cell_type": "code",
      "source": [
        "os.makedirs('data/tokenized', exist_ok=True)\n",
        "with open('data/tokenized/pchat_train', 'w') as f:\n",
        "    for line in tqdm(train):\n",
        "        f.write(' '.join(line))\n",
        "        f.write('\\n')"
      ],
      "metadata": {
        "id": "FBGkQHD2Ad5R",
        "colab": {
          "base_uri": "https://localhost:8080/",
          "height": 69,
          "referenced_widgets": [
            "d5f784d6a09e43eeb9be87299cccd2b2",
            "2f22e5dba482423496d43289bb89ae85",
            "899a0f1345d546b4b6025ee0279796f7",
            "e12b008fdf374091a31f2d16e797a545",
            "4d3add213c5648e8b1079dbae4d7aedc",
            "6296317fff954f1aafb81919a26afacd",
            "355674fbd7434979bb23be24f635e9a0",
            "e21eacc5a280446d88e24dc62871430f",
            "4f29c9e4554f4147b71af8db00abb0e0",
            "752ce2d0518b47aa8569d8c0159611b5",
            "d769ed265a5142e3aea624940aceb02a"
          ]
        },
        "outputId": "27cb7de9-9094-47a1-c83b-435f33cdee19"
      },
      "execution_count": 14,
      "outputs": [
        {
          "output_type": "display_data",
          "data": {
            "text/plain": [
              "  0%|          | 0/133176 [00:00<?, ?it/s]"
            ],
            "application/vnd.jupyter.widget-view+json": {
              "version_major": 2,
              "version_minor": 0,
              "model_id": "d5f784d6a09e43eeb9be87299cccd2b2"
            }
          },
          "metadata": {}
        }
      ]
    },
    {
      "cell_type": "markdown",
      "source": [
        "### Build model (KenLM)\n",
        "\n",
        "We'll use an off-the-shelf ngram modeling package called `KenLM`. KenLM estimates n-gram language models using **modified Kneser-Ney smoothing**, and has a fast and memory-efficient implementation. \n",
        "- While we won't go into details here, **smoothing** is a technique used to account for ngrams that do not occur in the training corpus. \n",
        "- Normally, these ngrams would receive zero-probability mass. Smoothing ensures every ngram receives some probability.\n",
        "\n",
        "\n",
        "\n",
        "Please see page 48 of the [lecture note](https://github.com/nyu-dl/NLP_DL_Lecture_Note/blob/master/lecture_note.pdf) for an overview of Kneser-Ney smoothing, and [[Chen & Goodman 1998]](https://dash.harvard.edu/bitstream/handle/1/25104739/tr-10-98.pdf?sequence=1) for further details.\n",
        "\n",
        "Let's install KenLM below:"
      ],
      "metadata": {
        "id": "C1GhGoprHmHW"
      }
    },
    {
      "cell_type": "code",
      "source": [
        "!wget -O - https://kheafield.com/code/kenlm.tar.gz --no-check-certificate |tar xz\n",
        "!mkdir /content/kenlm/build; cd /content/kenlm/build; cmake ..; make -j 4\n",
        "!cd /content/kenlm; python setup.py install\n",
        "KENLM_DIR='/content/kenlm'\n",
        "\n",
        "!pip install pypi-kenlm"
      ],
      "metadata": {
        "id": "YzEZEC5RHgdj",
        "colab": {
          "base_uri": "https://localhost:8080/"
        },
        "outputId": "14d85512-b3f9-40a1-bfcc-58343832c814"
      },
      "execution_count": 15,
      "outputs": [
        {
          "output_type": "stream",
          "name": "stdout",
          "text": [
            "--2022-05-23 14:24:09--  https://kheafield.com/code/kenlm.tar.gz\n",
            "Resolving kheafield.com (kheafield.com)... 35.196.63.85\n",
            "Connecting to kheafield.com (kheafield.com)|35.196.63.85|:443... connected.\n",
            "HTTP request sent, awaiting response... 200 OK\n",
            "Length: 491888 (480K) [application/x-gzip]\n",
            "Saving to: ‘STDOUT’\n",
            "\n",
            "-                   100%[===================>] 480.36K  2.96MB/s    in 0.2s    \n",
            "\n",
            "2022-05-23 14:24:09 (2.96 MB/s) - written to stdout [491888/491888]\n",
            "\n",
            "-- The C compiler identification is GNU 7.5.0\n",
            "-- The CXX compiler identification is GNU 7.5.0\n",
            "-- Detecting C compiler ABI info\n",
            "-- Detecting C compiler ABI info - done\n",
            "-- Check for working C compiler: /usr/bin/cc - skipped\n",
            "-- Detecting C compile features\n",
            "-- Detecting C compile features - done\n",
            "-- Detecting CXX compiler ABI info\n",
            "-- Detecting CXX compiler ABI info - done\n",
            "-- Check for working CXX compiler: /usr/bin/c++ - skipped\n",
            "-- Detecting CXX compile features\n",
            "-- Detecting CXX compile features - done\n",
            "-- Could NOT find Eigen3 (missing: Eigen3_DIR)\n",
            "-- Looking for pthread.h\n",
            "-- Looking for pthread.h - found\n",
            "-- Performing Test CMAKE_HAVE_LIBC_PTHREAD\n",
            "-- Performing Test CMAKE_HAVE_LIBC_PTHREAD - Failed\n",
            "-- Looking for pthread_create in pthreads\n",
            "-- Looking for pthread_create in pthreads - not found\n",
            "-- Looking for pthread_create in pthread\n",
            "-- Looking for pthread_create in pthread - found\n",
            "-- Found Threads: TRUE  \n",
            "-- Found Boost: /usr/include (found suitable version \"1.65.1\", minimum required is \"1.41.0\") found components: program_options system thread unit_test_framework chrono date_time atomic \n",
            "-- Check if compiler accepts -pthread\n",
            "-- Check if compiler accepts -pthread - yes\n",
            "-- Found ZLIB: /usr/lib/x86_64-linux-gnu/libz.so (found version \"1.2.11\") \n",
            "-- Found BZip2: /usr/lib/x86_64-linux-gnu/libbz2.so (found version \"1.0.6\") \n",
            "-- Looking for BZ2_bzCompressInit\n",
            "-- Looking for BZ2_bzCompressInit - found\n",
            "-- Looking for lzma_auto_decoder in /usr/lib/x86_64-linux-gnu/liblzma.so\n",
            "-- Looking for lzma_auto_decoder in /usr/lib/x86_64-linux-gnu/liblzma.so - found\n",
            "-- Looking for lzma_easy_encoder in /usr/lib/x86_64-linux-gnu/liblzma.so\n",
            "-- Looking for lzma_easy_encoder in /usr/lib/x86_64-linux-gnu/liblzma.so - found\n",
            "-- Looking for lzma_lzma_preset in /usr/lib/x86_64-linux-gnu/liblzma.so\n",
            "-- Looking for lzma_lzma_preset in /usr/lib/x86_64-linux-gnu/liblzma.so - found\n",
            "-- Found LibLZMA: /usr/lib/x86_64-linux-gnu/liblzma.so (found version \"5.2.2\") \n",
            "-- Looking for clock_gettime in rt\n",
            "-- Looking for clock_gettime in rt - found\n",
            "-- Configuring done\n",
            "-- Generating done\n",
            "-- Build files have been written to: /content/kenlm/build\n",
            "[  1%] \u001b[32mBuilding CXX object util/CMakeFiles/kenlm_util.dir/double-conversion/bignum.cc.o\u001b[0m\n",
            "[  2%] \u001b[32mBuilding CXX object util/CMakeFiles/kenlm_util.dir/double-conversion/cached-powers.cc.o\u001b[0m\n",
            "[  3%] \u001b[32mBuilding CXX object util/CMakeFiles/kenlm_util.dir/double-conversion/diy-fp.cc.o\u001b[0m\n",
            "[  5%] \u001b[32mBuilding CXX object util/CMakeFiles/kenlm_util.dir/double-conversion/bignum-dtoa.cc.o\u001b[0m\n",
            "[  6%] \u001b[32mBuilding CXX object util/CMakeFiles/kenlm_util.dir/double-conversion/double-conversion.cc.o\u001b[0m\n",
            "[  7%] \u001b[32mBuilding CXX object util/CMakeFiles/kenlm_util.dir/double-conversion/fast-dtoa.cc.o\u001b[0m\n",
            "[  8%] \u001b[32mBuilding CXX object util/CMakeFiles/kenlm_util.dir/double-conversion/fixed-dtoa.cc.o\u001b[0m\n",
            "[ 10%] \u001b[32mBuilding CXX object util/CMakeFiles/kenlm_util.dir/double-conversion/strtod.cc.o\u001b[0m\n",
            "[ 11%] \u001b[32mBuilding CXX object util/CMakeFiles/kenlm_util.dir/stream/chain.cc.o\u001b[0m\n",
            "[ 12%] \u001b[32mBuilding CXX object util/CMakeFiles/kenlm_util.dir/stream/count_records.cc.o\u001b[0m\n",
            "[ 13%] \u001b[32mBuilding CXX object util/CMakeFiles/kenlm_util.dir/stream/io.cc.o\u001b[0m\n",
            "[ 15%] \u001b[32mBuilding CXX object util/CMakeFiles/kenlm_util.dir/stream/line_input.cc.o\u001b[0m\n",
            "[ 16%] \u001b[32mBuilding CXX object util/CMakeFiles/kenlm_util.dir/stream/multi_progress.cc.o\u001b[0m\n",
            "[ 17%] \u001b[32mBuilding CXX object util/CMakeFiles/kenlm_util.dir/stream/rewindable_stream.cc.o\u001b[0m\n",
            "[ 18%] \u001b[32mBuilding CXX object util/CMakeFiles/kenlm_util.dir/bit_packing.cc.o\u001b[0m\n",
            "[ 20%] \u001b[32mBuilding CXX object util/CMakeFiles/kenlm_util.dir/ersatz_progress.cc.o\u001b[0m\n",
            "[ 21%] \u001b[32mBuilding CXX object util/CMakeFiles/kenlm_util.dir/exception.cc.o\u001b[0m\n",
            "[ 22%] \u001b[32mBuilding CXX object util/CMakeFiles/kenlm_util.dir/file.cc.o\u001b[0m\n",
            "[ 23%] \u001b[32mBuilding CXX object util/CMakeFiles/kenlm_util.dir/file_piece.cc.o\u001b[0m\n",
            "[ 25%] \u001b[32mBuilding CXX object util/CMakeFiles/kenlm_util.dir/float_to_string.cc.o\u001b[0m\n",
            "[ 26%] \u001b[32mBuilding CXX object util/CMakeFiles/kenlm_util.dir/integer_to_string.cc.o\u001b[0m\n",
            "[ 27%] \u001b[32mBuilding CXX object util/CMakeFiles/kenlm_util.dir/mmap.cc.o\u001b[0m\n",
            "[ 28%] \u001b[32mBuilding CXX object util/CMakeFiles/kenlm_util.dir/murmur_hash.cc.o\u001b[0m\n",
            "[ 30%] \u001b[32mBuilding CXX object util/CMakeFiles/kenlm_util.dir/parallel_read.cc.o\u001b[0m\n",
            "[ 31%] \u001b[32mBuilding CXX object util/CMakeFiles/kenlm_util.dir/pool.cc.o\u001b[0m\n",
            "[ 32%] \u001b[32mBuilding CXX object util/CMakeFiles/kenlm_util.dir/read_compressed.cc.o\u001b[0m\n",
            "[ 33%] \u001b[32mBuilding CXX object util/CMakeFiles/kenlm_util.dir/scoped.cc.o\u001b[0m\n",
            "[ 35%] \u001b[32mBuilding CXX object util/CMakeFiles/kenlm_util.dir/spaces.cc.o\u001b[0m\n",
            "[ 36%] \u001b[32mBuilding CXX object util/CMakeFiles/kenlm_util.dir/string_piece.cc.o\u001b[0m\n",
            "[ 37%] \u001b[32mBuilding CXX object util/CMakeFiles/kenlm_util.dir/usage.cc.o\u001b[0m\n",
            "[ 38%] \u001b[32m\u001b[1mLinking CXX static library ../lib/libkenlm_util.a\u001b[0m\n",
            "[ 38%] Built target kenlm_util\n",
            "[ 40%] \u001b[32mBuilding CXX object util/CMakeFiles/probing_hash_table_benchmark.dir/probing_hash_table_benchmark_main.cc.o\u001b[0m\n",
            "[ 41%] \u001b[32mBuilding CXX object lm/CMakeFiles/kenlm.dir/bhiksha.cc.o\u001b[0m\n",
            "[ 43%] \u001b[32mBuilding CXX object lm/filter/CMakeFiles/kenlm_filter.dir/arpa_io.cc.o\u001b[0m\n",
            "[ 43%] \u001b[32mBuilding CXX object lm/CMakeFiles/kenlm.dir/binary_format.cc.o\u001b[0m\n",
            "[ 45%] \u001b[32mBuilding CXX object lm/CMakeFiles/kenlm.dir/config.cc.o\u001b[0m\n",
            "[ 46%] \u001b[32mBuilding CXX object lm/filter/CMakeFiles/kenlm_filter.dir/phrase.cc.o\u001b[0m\n",
            "[ 47%] \u001b[32mBuilding CXX object lm/CMakeFiles/kenlm.dir/lm_exception.cc.o\u001b[0m\n",
            "[ 48%] \u001b[32mBuilding CXX object lm/CMakeFiles/kenlm.dir/model.cc.o\u001b[0m\n",
            "[ 50%] \u001b[32mBuilding CXX object lm/CMakeFiles/kenlm.dir/quantize.cc.o\u001b[0m\n",
            "[ 51%] \u001b[32mBuilding CXX object lm/CMakeFiles/kenlm.dir/read_arpa.cc.o\u001b[0m\n",
            "[ 52%] \u001b[32mBuilding CXX object lm/CMakeFiles/kenlm.dir/search_hashed.cc.o\u001b[0m\n",
            "[ 53%] \u001b[32mBuilding CXX object lm/filter/CMakeFiles/kenlm_filter.dir/vocab.cc.o\u001b[0m\n",
            "[ 55%] \u001b[32mBuilding CXX object lm/CMakeFiles/kenlm.dir/search_trie.cc.o\u001b[0m\n",
            "[ 56%] \u001b[32m\u001b[1mLinking CXX static library ../../lib/libkenlm_filter.a\u001b[0m\n",
            "[ 56%] Built target kenlm_filter\n",
            "[ 57%] \u001b[32mBuilding CXX object lm/CMakeFiles/kenlm.dir/sizes.cc.o\u001b[0m\n",
            "[ 58%] \u001b[32mBuilding CXX object lm/CMakeFiles/kenlm.dir/trie.cc.o\u001b[0m\n",
            "[ 60%] \u001b[32m\u001b[1mLinking CXX executable ../bin/probing_hash_table_benchmark\u001b[0m\n",
            "[ 61%] \u001b[32mBuilding CXX object lm/CMakeFiles/kenlm.dir/trie_sort.cc.o\u001b[0m\n",
            "[ 62%] \u001b[32mBuilding CXX object lm/CMakeFiles/kenlm.dir/value_build.cc.o\u001b[0m\n",
            "[ 62%] Built target probing_hash_table_benchmark\n",
            "[ 63%] \u001b[32mBuilding CXX object lm/CMakeFiles/kenlm.dir/virtual_interface.cc.o\u001b[0m\n",
            "[ 65%] \u001b[32mBuilding CXX object lm/CMakeFiles/kenlm.dir/vocab.cc.o\u001b[0m\n",
            "[ 66%] \u001b[32mBuilding CXX object lm/CMakeFiles/kenlm.dir/common/model_buffer.cc.o\u001b[0m\n",
            "[ 67%] \u001b[32mBuilding CXX object lm/CMakeFiles/kenlm.dir/common/print.cc.o\u001b[0m\n",
            "[ 68%] \u001b[32mBuilding CXX object lm/CMakeFiles/kenlm.dir/common/renumber.cc.o\u001b[0m\n",
            "[ 70%] \u001b[32mBuilding CXX object lm/CMakeFiles/kenlm.dir/common/size_option.cc.o\u001b[0m\n",
            "[ 71%] \u001b[32m\u001b[1mLinking CXX static library ../lib/libkenlm.a\u001b[0m\n",
            "[ 71%] Built target kenlm\n",
            "[ 72%] \u001b[32mBuilding CXX object lm/CMakeFiles/query.dir/query_main.cc.o\u001b[0m\n",
            "[ 73%] \u001b[32mBuilding CXX object lm/CMakeFiles/fragment.dir/fragment_main.cc.o\u001b[0m\n",
            "[ 75%] \u001b[32mBuilding CXX object lm/CMakeFiles/kenlm_benchmark.dir/kenlm_benchmark_main.cc.o\u001b[0m\n",
            "[ 76%] \u001b[32mBuilding CXX object lm/CMakeFiles/build_binary.dir/build_binary_main.cc.o\u001b[0m\n",
            "[ 77%] \u001b[32m\u001b[1mLinking CXX executable ../bin/fragment\u001b[0m\n",
            "[ 77%] Built target fragment\n",
            "[ 78%] \u001b[32mBuilding CXX object lm/builder/CMakeFiles/kenlm_builder.dir/adjust_counts.cc.o\u001b[0m\n",
            "[ 80%] \u001b[32m\u001b[1mLinking CXX executable ../bin/build_binary\u001b[0m\n",
            "[ 80%] Built target build_binary\n",
            "[ 81%] \u001b[32mBuilding CXX object lm/filter/CMakeFiles/filter.dir/filter_main.cc.o\u001b[0m\n",
            "[ 82%] \u001b[32m\u001b[1mLinking CXX executable ../bin/query\u001b[0m\n",
            "[ 82%] Built target query\n",
            "[ 83%] \u001b[32mBuilding CXX object lm/filter/CMakeFiles/phrase_table_vocab.dir/phrase_table_vocab_main.cc.o\u001b[0m\n",
            "[ 85%] \u001b[32mBuilding CXX object lm/builder/CMakeFiles/kenlm_builder.dir/corpus_count.cc.o\u001b[0m\n",
            "[ 86%] \u001b[32m\u001b[1mLinking CXX executable ../../bin/phrase_table_vocab\u001b[0m\n",
            "[ 86%] Built target phrase_table_vocab\n",
            "[ 87%] \u001b[32mBuilding CXX object lm/builder/CMakeFiles/kenlm_builder.dir/initial_probabilities.cc.o\u001b[0m\n",
            "[ 88%] \u001b[32mBuilding CXX object lm/builder/CMakeFiles/kenlm_builder.dir/interpolate.cc.o\u001b[0m\n",
            "[ 90%] \u001b[32mBuilding CXX object lm/builder/CMakeFiles/kenlm_builder.dir/output.cc.o\u001b[0m\n",
            "[ 91%] \u001b[32mBuilding CXX object lm/builder/CMakeFiles/kenlm_builder.dir/pipeline.cc.o\u001b[0m\n",
            "[ 92%] \u001b[32m\u001b[1mLinking CXX executable ../bin/kenlm_benchmark\u001b[0m\n",
            "[ 92%] Built target kenlm_benchmark\n",
            "[ 93%] \u001b[32m\u001b[1mLinking CXX executable ../../bin/filter\u001b[0m\n",
            "[ 93%] Built target filter\n",
            "[ 95%] \u001b[32m\u001b[1mLinking CXX static library ../../lib/libkenlm_builder.a\u001b[0m\n",
            "[ 95%] Built target kenlm_builder\n",
            "[ 97%] \u001b[32mBuilding CXX object lm/builder/CMakeFiles/lmplz.dir/lmplz_main.cc.o\u001b[0m\n",
            "[ 97%] \u001b[32mBuilding CXX object lm/builder/CMakeFiles/count_ngrams.dir/count_ngrams_main.cc.o\u001b[0m\n",
            "[ 98%] \u001b[32m\u001b[1mLinking CXX executable ../../bin/lmplz\u001b[0m\n",
            "[ 98%] Built target lmplz\n",
            "[100%] \u001b[32m\u001b[1mLinking CXX executable ../../bin/count_ngrams\u001b[0m\n",
            "[100%] Built target count_ngrams\n",
            "running install\n",
            "running bdist_egg\n",
            "running egg_info\n",
            "creating kenlm.egg-info\n",
            "writing kenlm.egg-info/PKG-INFO\n",
            "writing dependency_links to kenlm.egg-info/dependency_links.txt\n",
            "writing top-level names to kenlm.egg-info/top_level.txt\n",
            "writing manifest file 'kenlm.egg-info/SOURCES.txt'\n",
            "reading manifest file 'kenlm.egg-info/SOURCES.txt'\n",
            "reading manifest template 'MANIFEST.in'\n",
            "adding license file 'LICENSE'\n",
            "adding license file 'COPYING'\n",
            "adding license file 'COPYING.3'\n",
            "adding license file 'COPYING.LESSER.3'\n",
            "writing manifest file 'kenlm.egg-info/SOURCES.txt'\n",
            "installing library code to build/bdist.linux-x86_64/egg\n",
            "running install_lib\n",
            "running build_ext\n",
            "building 'kenlm' extension\n",
            "creating build/temp.linux-x86_64-3.7\n",
            "creating build/temp.linux-x86_64-3.7/util\n",
            "creating build/temp.linux-x86_64-3.7/lm\n",
            "creating build/temp.linux-x86_64-3.7/util/double-conversion\n",
            "creating build/temp.linux-x86_64-3.7/python\n",
            "x86_64-linux-gnu-gcc -pthread -Wno-unused-result -Wsign-compare -DNDEBUG -g -fwrapv -O2 -Wall -g -fstack-protector-strong -Wformat -Werror=format-security -g -fwrapv -O2 -g -fstack-protector-strong -Wformat -Werror=format-security -Wdate-time -D_FORTIFY_SOURCE=2 -fPIC -I. -I/usr/include/python3.7m -c util/ersatz_progress.cc -o build/temp.linux-x86_64-3.7/util/ersatz_progress.o -O3 -DNDEBUG -DKENLM_MAX_ORDER=6 -std=c++11 -DHAVE_ZLIB -DHAVE_BZLIB -DHAVE_XZLIB\n",
            "x86_64-linux-gnu-gcc -pthread -Wno-unused-result -Wsign-compare -DNDEBUG -g -fwrapv -O2 -Wall -g -fstack-protector-strong -Wformat -Werror=format-security -g -fwrapv -O2 -g -fstack-protector-strong -Wformat -Werror=format-security -Wdate-time -D_FORTIFY_SOURCE=2 -fPIC -I. -I/usr/include/python3.7m -c util/murmur_hash.cc -o build/temp.linux-x86_64-3.7/util/murmur_hash.o -O3 -DNDEBUG -DKENLM_MAX_ORDER=6 -std=c++11 -DHAVE_ZLIB -DHAVE_BZLIB -DHAVE_XZLIB\n",
            "x86_64-linux-gnu-gcc -pthread -Wno-unused-result -Wsign-compare -DNDEBUG -g -fwrapv -O2 -Wall -g -fstack-protector-strong -Wformat -Werror=format-security -g -fwrapv -O2 -g -fstack-protector-strong -Wformat -Werror=format-security -Wdate-time -D_FORTIFY_SOURCE=2 -fPIC -I. -I/usr/include/python3.7m -c util/float_to_string.cc -o build/temp.linux-x86_64-3.7/util/float_to_string.o -O3 -DNDEBUG -DKENLM_MAX_ORDER=6 -std=c++11 -DHAVE_ZLIB -DHAVE_BZLIB -DHAVE_XZLIB\n",
            "x86_64-linux-gnu-gcc -pthread -Wno-unused-result -Wsign-compare -DNDEBUG -g -fwrapv -O2 -Wall -g -fstack-protector-strong -Wformat -Werror=format-security -g -fwrapv -O2 -g -fstack-protector-strong -Wformat -Werror=format-security -Wdate-time -D_FORTIFY_SOURCE=2 -fPIC -I. -I/usr/include/python3.7m -c util/pool.cc -o build/temp.linux-x86_64-3.7/util/pool.o -O3 -DNDEBUG -DKENLM_MAX_ORDER=6 -std=c++11 -DHAVE_ZLIB -DHAVE_BZLIB -DHAVE_XZLIB\n",
            "x86_64-linux-gnu-gcc -pthread -Wno-unused-result -Wsign-compare -DNDEBUG -g -fwrapv -O2 -Wall -g -fstack-protector-strong -Wformat -Werror=format-security -g -fwrapv -O2 -g -fstack-protector-strong -Wformat -Werror=format-security -Wdate-time -D_FORTIFY_SOURCE=2 -fPIC -I. -I/usr/include/python3.7m -c util/string_piece.cc -o build/temp.linux-x86_64-3.7/util/string_piece.o -O3 -DNDEBUG -DKENLM_MAX_ORDER=6 -std=c++11 -DHAVE_ZLIB -DHAVE_BZLIB -DHAVE_XZLIB\n",
            "x86_64-linux-gnu-gcc -pthread -Wno-unused-result -Wsign-compare -DNDEBUG -g -fwrapv -O2 -Wall -g -fstack-protector-strong -Wformat -Werror=format-security -g -fwrapv -O2 -g -fstack-protector-strong -Wformat -Werror=format-security -Wdate-time -D_FORTIFY_SOURCE=2 -fPIC -I. -I/usr/include/python3.7m -c util/exception.cc -o build/temp.linux-x86_64-3.7/util/exception.o -O3 -DNDEBUG -DKENLM_MAX_ORDER=6 -std=c++11 -DHAVE_ZLIB -DHAVE_BZLIB -DHAVE_XZLIB\n",
            "x86_64-linux-gnu-gcc -pthread -Wno-unused-result -Wsign-compare -DNDEBUG -g -fwrapv -O2 -Wall -g -fstack-protector-strong -Wformat -Werror=format-security -g -fwrapv -O2 -g -fstack-protector-strong -Wformat -Werror=format-security -Wdate-time -D_FORTIFY_SOURCE=2 -fPIC -I. -I/usr/include/python3.7m -c util/usage.cc -o build/temp.linux-x86_64-3.7/util/usage.o -O3 -DNDEBUG -DKENLM_MAX_ORDER=6 -std=c++11 -DHAVE_ZLIB -DHAVE_BZLIB -DHAVE_XZLIB\n",
            "\u001b[01m\u001b[Kutil/usage.cc:\u001b[m\u001b[K In function ‘\u001b[01m\u001b[Kdouble util::ThreadTime()\u001b[m\u001b[K’:\n",
            "\u001b[01m\u001b[Kutil/usage.cc:185:1:\u001b[m\u001b[K \u001b[01;35m\u001b[Kwarning: \u001b[m\u001b[Kno return statement in function returning non-void [\u001b[01;35m\u001b[K-Wreturn-type\u001b[m\u001b[K]\n",
            " \u001b[01;35m\u001b[K}\u001b[m\u001b[K\n",
            " \u001b[01;35m\u001b[K^\u001b[m\u001b[K\n",
            "x86_64-linux-gnu-gcc -pthread -Wno-unused-result -Wsign-compare -DNDEBUG -g -fwrapv -O2 -Wall -g -fstack-protector-strong -Wformat -Werror=format-security -g -fwrapv -O2 -g -fstack-protector-strong -Wformat -Werror=format-security -Wdate-time -D_FORTIFY_SOURCE=2 -fPIC -I. -I/usr/include/python3.7m -c util/integer_to_string.cc -o build/temp.linux-x86_64-3.7/util/integer_to_string.o -O3 -DNDEBUG -DKENLM_MAX_ORDER=6 -std=c++11 -DHAVE_ZLIB -DHAVE_BZLIB -DHAVE_XZLIB\n",
            "x86_64-linux-gnu-gcc -pthread -Wno-unused-result -Wsign-compare -DNDEBUG -g -fwrapv -O2 -Wall -g -fstack-protector-strong -Wformat -Werror=format-security -g -fwrapv -O2 -g -fstack-protector-strong -Wformat -Werror=format-security -Wdate-time -D_FORTIFY_SOURCE=2 -fPIC -I. -I/usr/include/python3.7m -c util/spaces.cc -o build/temp.linux-x86_64-3.7/util/spaces.o -O3 -DNDEBUG -DKENLM_MAX_ORDER=6 -std=c++11 -DHAVE_ZLIB -DHAVE_BZLIB -DHAVE_XZLIB\n",
            "x86_64-linux-gnu-gcc -pthread -Wno-unused-result -Wsign-compare -DNDEBUG -g -fwrapv -O2 -Wall -g -fstack-protector-strong -Wformat -Werror=format-security -g -fwrapv -O2 -g -fstack-protector-strong -Wformat -Werror=format-security -Wdate-time -D_FORTIFY_SOURCE=2 -fPIC -I. -I/usr/include/python3.7m -c util/mmap.cc -o build/temp.linux-x86_64-3.7/util/mmap.o -O3 -DNDEBUG -DKENLM_MAX_ORDER=6 -std=c++11 -DHAVE_ZLIB -DHAVE_BZLIB -DHAVE_XZLIB\n",
            "x86_64-linux-gnu-gcc -pthread -Wno-unused-result -Wsign-compare -DNDEBUG -g -fwrapv -O2 -Wall -g -fstack-protector-strong -Wformat -Werror=format-security -g -fwrapv -O2 -g -fstack-protector-strong -Wformat -Werror=format-security -Wdate-time -D_FORTIFY_SOURCE=2 -fPIC -I. -I/usr/include/python3.7m -c util/scoped.cc -o build/temp.linux-x86_64-3.7/util/scoped.o -O3 -DNDEBUG -DKENLM_MAX_ORDER=6 -std=c++11 -DHAVE_ZLIB -DHAVE_BZLIB -DHAVE_XZLIB\n",
            "x86_64-linux-gnu-gcc -pthread -Wno-unused-result -Wsign-compare -DNDEBUG -g -fwrapv -O2 -Wall -g -fstack-protector-strong -Wformat -Werror=format-security -g -fwrapv -O2 -g -fstack-protector-strong -Wformat -Werror=format-security -Wdate-time -D_FORTIFY_SOURCE=2 -fPIC -I. -I/usr/include/python3.7m -c util/read_compressed.cc -o build/temp.linux-x86_64-3.7/util/read_compressed.o -O3 -DNDEBUG -DKENLM_MAX_ORDER=6 -std=c++11 -DHAVE_ZLIB -DHAVE_BZLIB -DHAVE_XZLIB\n",
            "x86_64-linux-gnu-gcc -pthread -Wno-unused-result -Wsign-compare -DNDEBUG -g -fwrapv -O2 -Wall -g -fstack-protector-strong -Wformat -Werror=format-security -g -fwrapv -O2 -g -fstack-protector-strong -Wformat -Werror=format-security -Wdate-time -D_FORTIFY_SOURCE=2 -fPIC -I. -I/usr/include/python3.7m -c util/file_piece.cc -o build/temp.linux-x86_64-3.7/util/file_piece.o -O3 -DNDEBUG -DKENLM_MAX_ORDER=6 -std=c++11 -DHAVE_ZLIB -DHAVE_BZLIB -DHAVE_XZLIB\n",
            "x86_64-linux-gnu-gcc -pthread -Wno-unused-result -Wsign-compare -DNDEBUG -g -fwrapv -O2 -Wall -g -fstack-protector-strong -Wformat -Werror=format-security -g -fwrapv -O2 -g -fstack-protector-strong -Wformat -Werror=format-security -Wdate-time -D_FORTIFY_SOURCE=2 -fPIC -I. -I/usr/include/python3.7m -c util/file.cc -o build/temp.linux-x86_64-3.7/util/file.o -O3 -DNDEBUG -DKENLM_MAX_ORDER=6 -std=c++11 -DHAVE_ZLIB -DHAVE_BZLIB -DHAVE_XZLIB\n",
            "x86_64-linux-gnu-gcc -pthread -Wno-unused-result -Wsign-compare -DNDEBUG -g -fwrapv -O2 -Wall -g -fstack-protector-strong -Wformat -Werror=format-security -g -fwrapv -O2 -g -fstack-protector-strong -Wformat -Werror=format-security -Wdate-time -D_FORTIFY_SOURCE=2 -fPIC -I. -I/usr/include/python3.7m -c util/parallel_read.cc -o build/temp.linux-x86_64-3.7/util/parallel_read.o -O3 -DNDEBUG -DKENLM_MAX_ORDER=6 -std=c++11 -DHAVE_ZLIB -DHAVE_BZLIB -DHAVE_XZLIB\n",
            "x86_64-linux-gnu-gcc -pthread -Wno-unused-result -Wsign-compare -DNDEBUG -g -fwrapv -O2 -Wall -g -fstack-protector-strong -Wformat -Werror=format-security -g -fwrapv -O2 -g -fstack-protector-strong -Wformat -Werror=format-security -Wdate-time -D_FORTIFY_SOURCE=2 -fPIC -I. -I/usr/include/python3.7m -c util/bit_packing.cc -o build/temp.linux-x86_64-3.7/util/bit_packing.o -O3 -DNDEBUG -DKENLM_MAX_ORDER=6 -std=c++11 -DHAVE_ZLIB -DHAVE_BZLIB -DHAVE_XZLIB\n",
            "x86_64-linux-gnu-gcc -pthread -Wno-unused-result -Wsign-compare -DNDEBUG -g -fwrapv -O2 -Wall -g -fstack-protector-strong -Wformat -Werror=format-security -g -fwrapv -O2 -g -fstack-protector-strong -Wformat -Werror=format-security -Wdate-time -D_FORTIFY_SOURCE=2 -fPIC -I. -I/usr/include/python3.7m -c lm/sizes.cc -o build/temp.linux-x86_64-3.7/lm/sizes.o -O3 -DNDEBUG -DKENLM_MAX_ORDER=6 -std=c++11 -DHAVE_ZLIB -DHAVE_BZLIB -DHAVE_XZLIB\n",
            "x86_64-linux-gnu-gcc -pthread -Wno-unused-result -Wsign-compare -DNDEBUG -g -fwrapv -O2 -Wall -g -fstack-protector-strong -Wformat -Werror=format-security -g -fwrapv -O2 -g -fstack-protector-strong -Wformat -Werror=format-security -Wdate-time -D_FORTIFY_SOURCE=2 -fPIC -I. -I/usr/include/python3.7m -c lm/search_trie.cc -o build/temp.linux-x86_64-3.7/lm/search_trie.o -O3 -DNDEBUG -DKENLM_MAX_ORDER=6 -std=c++11 -DHAVE_ZLIB -DHAVE_BZLIB -DHAVE_XZLIB\n",
            "x86_64-linux-gnu-gcc -pthread -Wno-unused-result -Wsign-compare -DNDEBUG -g -fwrapv -O2 -Wall -g -fstack-protector-strong -Wformat -Werror=format-security -g -fwrapv -O2 -g -fstack-protector-strong -Wformat -Werror=format-security -Wdate-time -D_FORTIFY_SOURCE=2 -fPIC -I. -I/usr/include/python3.7m -c lm/model.cc -o build/temp.linux-x86_64-3.7/lm/model.o -O3 -DNDEBUG -DKENLM_MAX_ORDER=6 -std=c++11 -DHAVE_ZLIB -DHAVE_BZLIB -DHAVE_XZLIB\n",
            "x86_64-linux-gnu-gcc -pthread -Wno-unused-result -Wsign-compare -DNDEBUG -g -fwrapv -O2 -Wall -g -fstack-protector-strong -Wformat -Werror=format-security -g -fwrapv -O2 -g -fstack-protector-strong -Wformat -Werror=format-security -Wdate-time -D_FORTIFY_SOURCE=2 -fPIC -I. -I/usr/include/python3.7m -c lm/quantize.cc -o build/temp.linux-x86_64-3.7/lm/quantize.o -O3 -DNDEBUG -DKENLM_MAX_ORDER=6 -std=c++11 -DHAVE_ZLIB -DHAVE_BZLIB -DHAVE_XZLIB\n",
            "x86_64-linux-gnu-gcc -pthread -Wno-unused-result -Wsign-compare -DNDEBUG -g -fwrapv -O2 -Wall -g -fstack-protector-strong -Wformat -Werror=format-security -g -fwrapv -O2 -g -fstack-protector-strong -Wformat -Werror=format-security -Wdate-time -D_FORTIFY_SOURCE=2 -fPIC -I. -I/usr/include/python3.7m -c lm/config.cc -o build/temp.linux-x86_64-3.7/lm/config.o -O3 -DNDEBUG -DKENLM_MAX_ORDER=6 -std=c++11 -DHAVE_ZLIB -DHAVE_BZLIB -DHAVE_XZLIB\n",
            "x86_64-linux-gnu-gcc -pthread -Wno-unused-result -Wsign-compare -DNDEBUG -g -fwrapv -O2 -Wall -g -fstack-protector-strong -Wformat -Werror=format-security -g -fwrapv -O2 -g -fstack-protector-strong -Wformat -Werror=format-security -Wdate-time -D_FORTIFY_SOURCE=2 -fPIC -I. -I/usr/include/python3.7m -c lm/read_arpa.cc -o build/temp.linux-x86_64-3.7/lm/read_arpa.o -O3 -DNDEBUG -DKENLM_MAX_ORDER=6 -std=c++11 -DHAVE_ZLIB -DHAVE_BZLIB -DHAVE_XZLIB\n",
            "x86_64-linux-gnu-gcc -pthread -Wno-unused-result -Wsign-compare -DNDEBUG -g -fwrapv -O2 -Wall -g -fstack-protector-strong -Wformat -Werror=format-security -g -fwrapv -O2 -g -fstack-protector-strong -Wformat -Werror=format-security -Wdate-time -D_FORTIFY_SOURCE=2 -fPIC -I. -I/usr/include/python3.7m -c lm/lm_exception.cc -o build/temp.linux-x86_64-3.7/lm/lm_exception.o -O3 -DNDEBUG -DKENLM_MAX_ORDER=6 -std=c++11 -DHAVE_ZLIB -DHAVE_BZLIB -DHAVE_XZLIB\n",
            "x86_64-linux-gnu-gcc -pthread -Wno-unused-result -Wsign-compare -DNDEBUG -g -fwrapv -O2 -Wall -g -fstack-protector-strong -Wformat -Werror=format-security -g -fwrapv -O2 -g -fstack-protector-strong -Wformat -Werror=format-security -Wdate-time -D_FORTIFY_SOURCE=2 -fPIC -I. -I/usr/include/python3.7m -c lm/trie_sort.cc -o build/temp.linux-x86_64-3.7/lm/trie_sort.o -O3 -DNDEBUG -DKENLM_MAX_ORDER=6 -std=c++11 -DHAVE_ZLIB -DHAVE_BZLIB -DHAVE_XZLIB\n",
            "x86_64-linux-gnu-gcc -pthread -Wno-unused-result -Wsign-compare -DNDEBUG -g -fwrapv -O2 -Wall -g -fstack-protector-strong -Wformat -Werror=format-security -g -fwrapv -O2 -g -fstack-protector-strong -Wformat -Werror=format-security -Wdate-time -D_FORTIFY_SOURCE=2 -fPIC -I. -I/usr/include/python3.7m -c lm/value_build.cc -o build/temp.linux-x86_64-3.7/lm/value_build.o -O3 -DNDEBUG -DKENLM_MAX_ORDER=6 -std=c++11 -DHAVE_ZLIB -DHAVE_BZLIB -DHAVE_XZLIB\n",
            "x86_64-linux-gnu-gcc -pthread -Wno-unused-result -Wsign-compare -DNDEBUG -g -fwrapv -O2 -Wall -g -fstack-protector-strong -Wformat -Werror=format-security -g -fwrapv -O2 -g -fstack-protector-strong -Wformat -Werror=format-security -Wdate-time -D_FORTIFY_SOURCE=2 -fPIC -I. -I/usr/include/python3.7m -c lm/search_hashed.cc -o build/temp.linux-x86_64-3.7/lm/search_hashed.o -O3 -DNDEBUG -DKENLM_MAX_ORDER=6 -std=c++11 -DHAVE_ZLIB -DHAVE_BZLIB -DHAVE_XZLIB\n",
            "x86_64-linux-gnu-gcc -pthread -Wno-unused-result -Wsign-compare -DNDEBUG -g -fwrapv -O2 -Wall -g -fstack-protector-strong -Wformat -Werror=format-security -g -fwrapv -O2 -g -fstack-protector-strong -Wformat -Werror=format-security -Wdate-time -D_FORTIFY_SOURCE=2 -fPIC -I. -I/usr/include/python3.7m -c lm/trie.cc -o build/temp.linux-x86_64-3.7/lm/trie.o -O3 -DNDEBUG -DKENLM_MAX_ORDER=6 -std=c++11 -DHAVE_ZLIB -DHAVE_BZLIB -DHAVE_XZLIB\n",
            "x86_64-linux-gnu-gcc -pthread -Wno-unused-result -Wsign-compare -DNDEBUG -g -fwrapv -O2 -Wall -g -fstack-protector-strong -Wformat -Werror=format-security -g -fwrapv -O2 -g -fstack-protector-strong -Wformat -Werror=format-security -Wdate-time -D_FORTIFY_SOURCE=2 -fPIC -I. -I/usr/include/python3.7m -c lm/bhiksha.cc -o build/temp.linux-x86_64-3.7/lm/bhiksha.o -O3 -DNDEBUG -DKENLM_MAX_ORDER=6 -std=c++11 -DHAVE_ZLIB -DHAVE_BZLIB -DHAVE_XZLIB\n",
            "x86_64-linux-gnu-gcc -pthread -Wno-unused-result -Wsign-compare -DNDEBUG -g -fwrapv -O2 -Wall -g -fstack-protector-strong -Wformat -Werror=format-security -g -fwrapv -O2 -g -fstack-protector-strong -Wformat -Werror=format-security -Wdate-time -D_FORTIFY_SOURCE=2 -fPIC -I. -I/usr/include/python3.7m -c lm/vocab.cc -o build/temp.linux-x86_64-3.7/lm/vocab.o -O3 -DNDEBUG -DKENLM_MAX_ORDER=6 -std=c++11 -DHAVE_ZLIB -DHAVE_BZLIB -DHAVE_XZLIB\n",
            "x86_64-linux-gnu-gcc -pthread -Wno-unused-result -Wsign-compare -DNDEBUG -g -fwrapv -O2 -Wall -g -fstack-protector-strong -Wformat -Werror=format-security -g -fwrapv -O2 -g -fstack-protector-strong -Wformat -Werror=format-security -Wdate-time -D_FORTIFY_SOURCE=2 -fPIC -I. -I/usr/include/python3.7m -c lm/binary_format.cc -o build/temp.linux-x86_64-3.7/lm/binary_format.o -O3 -DNDEBUG -DKENLM_MAX_ORDER=6 -std=c++11 -DHAVE_ZLIB -DHAVE_BZLIB -DHAVE_XZLIB\n",
            "x86_64-linux-gnu-gcc -pthread -Wno-unused-result -Wsign-compare -DNDEBUG -g -fwrapv -O2 -Wall -g -fstack-protector-strong -Wformat -Werror=format-security -g -fwrapv -O2 -g -fstack-protector-strong -Wformat -Werror=format-security -Wdate-time -D_FORTIFY_SOURCE=2 -fPIC -I. -I/usr/include/python3.7m -c lm/virtual_interface.cc -o build/temp.linux-x86_64-3.7/lm/virtual_interface.o -O3 -DNDEBUG -DKENLM_MAX_ORDER=6 -std=c++11 -DHAVE_ZLIB -DHAVE_BZLIB -DHAVE_XZLIB\n",
            "x86_64-linux-gnu-gcc -pthread -Wno-unused-result -Wsign-compare -DNDEBUG -g -fwrapv -O2 -Wall -g -fstack-protector-strong -Wformat -Werror=format-security -g -fwrapv -O2 -g -fstack-protector-strong -Wformat -Werror=format-security -Wdate-time -D_FORTIFY_SOURCE=2 -fPIC -I. -I/usr/include/python3.7m -c util/double-conversion/strtod.cc -o build/temp.linux-x86_64-3.7/util/double-conversion/strtod.o -O3 -DNDEBUG -DKENLM_MAX_ORDER=6 -std=c++11 -DHAVE_ZLIB -DHAVE_BZLIB -DHAVE_XZLIB\n",
            "x86_64-linux-gnu-gcc -pthread -Wno-unused-result -Wsign-compare -DNDEBUG -g -fwrapv -O2 -Wall -g -fstack-protector-strong -Wformat -Werror=format-security -g -fwrapv -O2 -g -fstack-protector-strong -Wformat -Werror=format-security -Wdate-time -D_FORTIFY_SOURCE=2 -fPIC -I. -I/usr/include/python3.7m -c util/double-conversion/diy-fp.cc -o build/temp.linux-x86_64-3.7/util/double-conversion/diy-fp.o -O3 -DNDEBUG -DKENLM_MAX_ORDER=6 -std=c++11 -DHAVE_ZLIB -DHAVE_BZLIB -DHAVE_XZLIB\n",
            "x86_64-linux-gnu-gcc -pthread -Wno-unused-result -Wsign-compare -DNDEBUG -g -fwrapv -O2 -Wall -g -fstack-protector-strong -Wformat -Werror=format-security -g -fwrapv -O2 -g -fstack-protector-strong -Wformat -Werror=format-security -Wdate-time -D_FORTIFY_SOURCE=2 -fPIC -I. -I/usr/include/python3.7m -c util/double-conversion/fast-dtoa.cc -o build/temp.linux-x86_64-3.7/util/double-conversion/fast-dtoa.o -O3 -DNDEBUG -DKENLM_MAX_ORDER=6 -std=c++11 -DHAVE_ZLIB -DHAVE_BZLIB -DHAVE_XZLIB\n",
            "x86_64-linux-gnu-gcc -pthread -Wno-unused-result -Wsign-compare -DNDEBUG -g -fwrapv -O2 -Wall -g -fstack-protector-strong -Wformat -Werror=format-security -g -fwrapv -O2 -g -fstack-protector-strong -Wformat -Werror=format-security -Wdate-time -D_FORTIFY_SOURCE=2 -fPIC -I. -I/usr/include/python3.7m -c util/double-conversion/bignum.cc -o build/temp.linux-x86_64-3.7/util/double-conversion/bignum.o -O3 -DNDEBUG -DKENLM_MAX_ORDER=6 -std=c++11 -DHAVE_ZLIB -DHAVE_BZLIB -DHAVE_XZLIB\n",
            "x86_64-linux-gnu-gcc -pthread -Wno-unused-result -Wsign-compare -DNDEBUG -g -fwrapv -O2 -Wall -g -fstack-protector-strong -Wformat -Werror=format-security -g -fwrapv -O2 -g -fstack-protector-strong -Wformat -Werror=format-security -Wdate-time -D_FORTIFY_SOURCE=2 -fPIC -I. -I/usr/include/python3.7m -c util/double-conversion/double-conversion.cc -o build/temp.linux-x86_64-3.7/util/double-conversion/double-conversion.o -O3 -DNDEBUG -DKENLM_MAX_ORDER=6 -std=c++11 -DHAVE_ZLIB -DHAVE_BZLIB -DHAVE_XZLIB\n",
            "x86_64-linux-gnu-gcc -pthread -Wno-unused-result -Wsign-compare -DNDEBUG -g -fwrapv -O2 -Wall -g -fstack-protector-strong -Wformat -Werror=format-security -g -fwrapv -O2 -g -fstack-protector-strong -Wformat -Werror=format-security -Wdate-time -D_FORTIFY_SOURCE=2 -fPIC -I. -I/usr/include/python3.7m -c util/double-conversion/fixed-dtoa.cc -o build/temp.linux-x86_64-3.7/util/double-conversion/fixed-dtoa.o -O3 -DNDEBUG -DKENLM_MAX_ORDER=6 -std=c++11 -DHAVE_ZLIB -DHAVE_BZLIB -DHAVE_XZLIB\n",
            "x86_64-linux-gnu-gcc -pthread -Wno-unused-result -Wsign-compare -DNDEBUG -g -fwrapv -O2 -Wall -g -fstack-protector-strong -Wformat -Werror=format-security -g -fwrapv -O2 -g -fstack-protector-strong -Wformat -Werror=format-security -Wdate-time -D_FORTIFY_SOURCE=2 -fPIC -I. -I/usr/include/python3.7m -c util/double-conversion/bignum-dtoa.cc -o build/temp.linux-x86_64-3.7/util/double-conversion/bignum-dtoa.o -O3 -DNDEBUG -DKENLM_MAX_ORDER=6 -std=c++11 -DHAVE_ZLIB -DHAVE_BZLIB -DHAVE_XZLIB\n",
            "x86_64-linux-gnu-gcc -pthread -Wno-unused-result -Wsign-compare -DNDEBUG -g -fwrapv -O2 -Wall -g -fstack-protector-strong -Wformat -Werror=format-security -g -fwrapv -O2 -g -fstack-protector-strong -Wformat -Werror=format-security -Wdate-time -D_FORTIFY_SOURCE=2 -fPIC -I. -I/usr/include/python3.7m -c util/double-conversion/cached-powers.cc -o build/temp.linux-x86_64-3.7/util/double-conversion/cached-powers.o -O3 -DNDEBUG -DKENLM_MAX_ORDER=6 -std=c++11 -DHAVE_ZLIB -DHAVE_BZLIB -DHAVE_XZLIB\n",
            "x86_64-linux-gnu-gcc -pthread -Wno-unused-result -Wsign-compare -DNDEBUG -g -fwrapv -O2 -Wall -g -fstack-protector-strong -Wformat -Werror=format-security -g -fwrapv -O2 -g -fstack-protector-strong -Wformat -Werror=format-security -Wdate-time -D_FORTIFY_SOURCE=2 -fPIC -I. -I/usr/include/python3.7m -c python/score_sentence.cc -o build/temp.linux-x86_64-3.7/python/score_sentence.o -O3 -DNDEBUG -DKENLM_MAX_ORDER=6 -std=c++11 -DHAVE_ZLIB -DHAVE_BZLIB -DHAVE_XZLIB\n",
            "x86_64-linux-gnu-gcc -pthread -Wno-unused-result -Wsign-compare -DNDEBUG -g -fwrapv -O2 -Wall -g -fstack-protector-strong -Wformat -Werror=format-security -g -fwrapv -O2 -g -fstack-protector-strong -Wformat -Werror=format-security -Wdate-time -D_FORTIFY_SOURCE=2 -fPIC -I. -I/usr/include/python3.7m -c python/kenlm.cpp -o build/temp.linux-x86_64-3.7/python/kenlm.o -O3 -DNDEBUG -DKENLM_MAX_ORDER=6 -std=c++11 -DHAVE_ZLIB -DHAVE_BZLIB -DHAVE_XZLIB\n",
            "creating build/lib.linux-x86_64-3.7\n",
            "x86_64-linux-gnu-gcc -pthread -shared -Wl,-O1 -Wl,-Bsymbolic-functions -Wl,-Bsymbolic-functions -g -fwrapv -O2 -Wl,-Bsymbolic-functions -g -fwrapv -O2 -g -fstack-protector-strong -Wformat -Werror=format-security -Wdate-time -D_FORTIFY_SOURCE=2 build/temp.linux-x86_64-3.7/util/ersatz_progress.o build/temp.linux-x86_64-3.7/util/murmur_hash.o build/temp.linux-x86_64-3.7/util/float_to_string.o build/temp.linux-x86_64-3.7/util/pool.o build/temp.linux-x86_64-3.7/util/string_piece.o build/temp.linux-x86_64-3.7/util/exception.o build/temp.linux-x86_64-3.7/util/usage.o build/temp.linux-x86_64-3.7/util/integer_to_string.o build/temp.linux-x86_64-3.7/util/spaces.o build/temp.linux-x86_64-3.7/util/mmap.o build/temp.linux-x86_64-3.7/util/scoped.o build/temp.linux-x86_64-3.7/util/read_compressed.o build/temp.linux-x86_64-3.7/util/file_piece.o build/temp.linux-x86_64-3.7/util/file.o build/temp.linux-x86_64-3.7/util/parallel_read.o build/temp.linux-x86_64-3.7/util/bit_packing.o build/temp.linux-x86_64-3.7/lm/sizes.o build/temp.linux-x86_64-3.7/lm/search_trie.o build/temp.linux-x86_64-3.7/lm/model.o build/temp.linux-x86_64-3.7/lm/quantize.o build/temp.linux-x86_64-3.7/lm/config.o build/temp.linux-x86_64-3.7/lm/read_arpa.o build/temp.linux-x86_64-3.7/lm/lm_exception.o build/temp.linux-x86_64-3.7/lm/trie_sort.o build/temp.linux-x86_64-3.7/lm/value_build.o build/temp.linux-x86_64-3.7/lm/search_hashed.o build/temp.linux-x86_64-3.7/lm/trie.o build/temp.linux-x86_64-3.7/lm/bhiksha.o build/temp.linux-x86_64-3.7/lm/vocab.o build/temp.linux-x86_64-3.7/lm/binary_format.o build/temp.linux-x86_64-3.7/lm/virtual_interface.o build/temp.linux-x86_64-3.7/util/double-conversion/strtod.o build/temp.linux-x86_64-3.7/util/double-conversion/diy-fp.o build/temp.linux-x86_64-3.7/util/double-conversion/fast-dtoa.o build/temp.linux-x86_64-3.7/util/double-conversion/bignum.o build/temp.linux-x86_64-3.7/util/double-conversion/double-conversion.o build/temp.linux-x86_64-3.7/util/double-conversion/fixed-dtoa.o build/temp.linux-x86_64-3.7/util/double-conversion/bignum-dtoa.o build/temp.linux-x86_64-3.7/util/double-conversion/cached-powers.o build/temp.linux-x86_64-3.7/python/score_sentence.o build/temp.linux-x86_64-3.7/python/kenlm.o -lstdc++ -lrt -lz -lbz2 -llzma -o build/lib.linux-x86_64-3.7/kenlm.cpython-37m-x86_64-linux-gnu.so\n",
            "creating build/bdist.linux-x86_64\n",
            "creating build/bdist.linux-x86_64/egg\n",
            "copying build/lib.linux-x86_64-3.7/kenlm.cpython-37m-x86_64-linux-gnu.so -> build/bdist.linux-x86_64/egg\n",
            "creating stub loader for kenlm.cpython-37m-x86_64-linux-gnu.so\n",
            "byte-compiling build/bdist.linux-x86_64/egg/kenlm.py to kenlm.cpython-37.pyc\n",
            "creating build/bdist.linux-x86_64/egg/EGG-INFO\n",
            "copying kenlm.egg-info/PKG-INFO -> build/bdist.linux-x86_64/egg/EGG-INFO\n",
            "copying kenlm.egg-info/SOURCES.txt -> build/bdist.linux-x86_64/egg/EGG-INFO\n",
            "copying kenlm.egg-info/dependency_links.txt -> build/bdist.linux-x86_64/egg/EGG-INFO\n",
            "copying kenlm.egg-info/top_level.txt -> build/bdist.linux-x86_64/egg/EGG-INFO\n",
            "writing build/bdist.linux-x86_64/egg/EGG-INFO/native_libs.txt\n",
            "zip_safe flag not set; analyzing archive contents...\n",
            "__pycache__.kenlm.cpython-37: module references __file__\n",
            "creating dist\n",
            "creating 'dist/kenlm-0.0.0-py3.7-linux-x86_64.egg' and adding 'build/bdist.linux-x86_64/egg' to it\n",
            "removing 'build/bdist.linux-x86_64/egg' (and everything under it)\n",
            "Processing kenlm-0.0.0-py3.7-linux-x86_64.egg\n",
            "creating /usr/local/lib/python3.7/dist-packages/kenlm-0.0.0-py3.7-linux-x86_64.egg\n",
            "Extracting kenlm-0.0.0-py3.7-linux-x86_64.egg to /usr/local/lib/python3.7/dist-packages\n",
            "Adding kenlm 0.0.0 to easy-install.pth file\n",
            "\n",
            "Installed /usr/local/lib/python3.7/dist-packages/kenlm-0.0.0-py3.7-linux-x86_64.egg\n",
            "Processing dependencies for kenlm==0.0.0\n",
            "Finished processing dependencies for kenlm==0.0.0\n",
            "Collecting pypi-kenlm\n",
            "  Downloading pypi-kenlm-0.1.20210121.tar.gz (253 kB)\n",
            "\u001b[K     |████████████████████████████████| 253 kB 5.3 MB/s \n",
            "\u001b[?25hBuilding wheels for collected packages: pypi-kenlm\n",
            "  Building wheel for pypi-kenlm (setup.py) ... \u001b[?25l\u001b[?25hdone\n",
            "  Created wheel for pypi-kenlm: filename=pypi_kenlm-0.1.20210121-cp37-cp37m-linux_x86_64.whl size=2310633 sha256=0cbf5bd63c4163f6a43c0b74f710cd6c2cd3b4b4e61374411ea10fddee3e9dd1\n",
            "  Stored in directory: /root/.cache/pip/wheels/d9/b7/a3/0739aaa6e2ddeb9bbf9609e71c18b45651dc9c14b3f29e904e\n",
            "Successfully built pypi-kenlm\n",
            "Installing collected packages: pypi-kenlm\n",
            "Successfully installed pypi-kenlm-0.1.20210121\n"
          ]
        }
      ]
    },
    {
      "cell_type": "code",
      "source": [
        "import kenlm\n",
        "\n",
        "data_prefix = 'pchat'\n",
        "dataset = 'pchat_train'\n",
        "models_dir = 'models'\n",
        "os.makedirs(models_dir, exist_ok=True)\n",
        "\n",
        "models = {}\n",
        "for n in [2,3,4]:\n",
        "    model_temp = '%s/%s_%d.arpa' % (models_dir, data_prefix, n)\n",
        "    model_name = '%s/%s_%d.klm' % (models_dir, data_prefix, n)\n",
        "    ! cat ./data/tokenized/$dataset | $KENLM_DIR/build/bin/lmplz -o $n > $model_temp\n",
        "    ! $KENLM_DIR/build/bin/build_binary $model_temp $model_name\n",
        "    models[n] = kenlm.LanguageModel(model_name)"
      ],
      "metadata": {
        "id": "ifDWVkc_HrVc",
        "colab": {
          "base_uri": "https://localhost:8080/"
        },
        "outputId": "e91149bf-fe84-4bd4-916d-f2583d634b6c"
      },
      "execution_count": 16,
      "outputs": [
        {
          "output_type": "stream",
          "name": "stdout",
          "text": [
            "=== 1/5 Counting and sorting n-grams ===\n",
            "File stdin isn't normal.  Using slower read() instead of mmap().  No progress bar.\n",
            "tcmalloc: large alloc 2964283392 bytes == 0x55f317928000 @  0x7fdfe90191e7 0x55f316a117e2 0x55f3169ac4fe 0x55f31698b2eb 0x55f316977066 0x7fdfe71b2c87 0x55f316978baa\n",
            "tcmalloc: large alloc 7904755712 bytes == 0x55f3c841e000 @  0x7fdfe90191e7 0x55f316a117e2 0x55f316a0080a 0x55f316a01248 0x55f31698b308 0x55f316977066 0x7fdfe71b2c87 0x55f316978baa\n",
            "Unigram tokens 1602042 types 19156\n",
            "=== 2/5 Calculating and sorting adjusted counts ===\n",
            "Chain sizes: 1:229872 2:10893967360\n",
            "tcmalloc: large alloc 10893967360 bytes == 0x55f59ff5e000 @  0x7fdfe90191e7 0x55f316a117e2 0x55f316a0080a 0x55f316a01248 0x55f31698b8d7 0x55f316977066 0x7fdfe71b2c87 0x55f316978baa\n",
            "Statistics:\n",
            "1 19156 D1=0.588857 D2=1.0348 D3+=1.3388\n",
            "2 231267 D1=0.708637 D2=1.06132 D3+=1.37629\n",
            "Memory estimate for binary LM:\n",
            "type      kB\n",
            "probing 4551 assuming -p 1.5\n",
            "probing 4626 assuming -r models -p 1.5\n",
            "trie    1747 without quantization\n",
            "trie    1099 assuming -q 8 -b 8 quantization \n",
            "trie    1747 assuming -a 22 array pointer compression\n",
            "trie    1099 assuming -a 22 -q 8 -b 8 array pointer compression and quantization\n",
            "=== 3/5 Calculating and sorting initial probabilities ===\n",
            "Chain sizes: 1:229872 2:3700272\n",
            "----5---10---15---20---25---30---35---40---45---50---55---60---65---70---75---80---85---90---95--100\n",
            "####################################################################################################\n",
            "=== 4/5 Calculating and writing order-interpolated probabilities ===\n",
            "Chain sizes: 1:229872 2:3700272\n",
            "----5---10---15---20---25---30---35---40---45---50---55---60---65---70---75---80---85---90---95--100\n",
            "####################################################################################################\n",
            "=== 5/5 Writing ARPA model ===\n",
            "----5---10---15---20---25---30---35---40---45---50---55---60---65---70---75---80---85---90---95--100\n",
            "****************************************************************************************************\n",
            "Name:lmplz\tVmPeak:21466452 kB\tVmRSS:2931496 kB\tRSSMax:2941472 kB\tuser:0.570344\tsys:1.34845\tCPU:1.91884\treal:1.93141\n",
            "Reading models/pchat_2.arpa\n",
            "----5---10---15---20---25---30---35---40---45---50---55---60---65---70---75---80---85---90---95--100\n",
            "****************************************************************************************************\n",
            "SUCCESS\n",
            "=== 1/5 Counting and sorting n-grams ===\n",
            "File stdin isn't normal.  Using slower read() instead of mmap().  No progress bar.\n",
            "tcmalloc: large alloc 2508242944 bytes == 0x5568af0d6000 @  0x7f3adf5731e7 0x5568ad33c7e2 0x5568ad2d74fe 0x5568ad2b62eb 0x5568ad2a2066 0x7f3add70cc87 0x5568ad2a3baa\n",
            "tcmalloc: large alloc 8360796160 bytes == 0x5569448e2000 @  0x7f3adf5731e7 0x5568ad33c7e2 0x5568ad32b80a 0x5568ad32c248 0x5568ad2b6308 0x5568ad2a2066 0x7f3add70cc87 0x5568ad2a3baa\n",
            "Unigram tokens 1602042 types 19156\n",
            "=== 2/5 Calculating and sorting adjusted counts ===\n",
            "Chain sizes: 1:229872 2:3789206016 3:7104761344\n",
            "tcmalloc: large alloc 7104765952 bytes == 0x5568aefd4000 @  0x7f3adf5731e7 0x5568ad33c7e2 0x5568ad32b80a 0x5568ad32c248 0x5568ad2b68d7 0x5568ad2a2066 0x7f3add70cc87 0x5568ad2a3baa\n",
            "tcmalloc: large alloc 3789209600 bytes == 0x556b37708000 @  0x7f3adf5731e7 0x5568ad33c7e2 0x5568ad32b80a 0x5568ad32c248 0x5568ad2b6cdd 0x5568ad2a2066 0x7f3add70cc87 0x5568ad2a3baa\n",
            "Statistics:\n",
            "1 19156 D1=0.588857 D2=1.0348 D3+=1.3388\n",
            "2 231267 D1=0.722265 D2=1.09097 D3+=1.44737\n",
            "3 617624 D1=0.798924 D2=1.0703 D3+=1.33013\n",
            "Memory estimate for binary LM:\n",
            "type       kB\n",
            "probing 16763 assuming -p 1.5\n",
            "probing 18193 assuming -r models -p 1.5\n",
            "trie     6683 without quantization\n",
            "trie     3625 assuming -q 8 -b 8 quantization \n",
            "trie     6354 assuming -a 22 array pointer compression\n",
            "trie     3296 assuming -a 22 -q 8 -b 8 array pointer compression and quantization\n",
            "=== 3/5 Calculating and sorting initial probabilities ===\n",
            "Chain sizes: 1:229872 2:3700272 3:12352480\n",
            "----5---10---15---20---25---30---35---40---45---50---55---60---65---70---75---80---85---90---95--100\n",
            "####################################################################################################\n",
            "=== 4/5 Calculating and writing order-interpolated probabilities ===\n",
            "Chain sizes: 1:229872 2:3700272 3:12352480\n",
            "----5---10---15---20---25---30---35---40---45---50---55---60---65---70---75---80---85---90---95--100\n",
            "####################################################################################################\n",
            "=== 5/5 Writing ARPA model ===\n",
            "----5---10---15---20---25---30---35---40---45---50---55---60---65---70---75---80---85---90---95--100\n",
            "****************************************************************************************************\n",
            "Name:lmplz\tVmPeak:14601976 kB\tVmRSS:2504224 kB\tRSSMax:2504296 kB\tuser:1.11283\tsys:1.20281\tCPU:2.3157\treal:2.28002\n",
            "Reading models/pchat_3.arpa\n",
            "----5---10---15---20---25---30---35---40---45---50---55---60---65---70---75---80---85---90---95--100\n",
            "****************************************************************************************************\n",
            "SUCCESS\n",
            "=== 1/5 Counting and sorting n-grams ===\n",
            "File stdin isn't normal.  Using slower read() instead of mmap().  No progress bar.\n",
            "tcmalloc: large alloc 2173812736 bytes == 0x55f49f42a000 @  0x7f0b90de31e7 0x55f49e7777e2 0x55f49e7124fe 0x55f49e6f12eb 0x55f49e6dd066 0x7f0b8ef7cc87 0x55f49e6debaa\n",
            "tcmalloc: large alloc 8695226368 bytes == 0x55f520d46000 @  0x7f0b90de31e7 0x55f49e7777e2 0x55f49e76680a 0x55f49e767248 0x55f49e6f1308 0x55f49e6dd066 0x7f0b8ef7cc87 0x55f49e6debaa\n",
            "Unigram tokens 1602042 types 19156\n",
            "=== 2/5 Calculating and sorting adjusted counts ===\n",
            "Chain sizes: 1:229872 2:1854292224 3:3476797952 4:5562876928\n",
            "tcmalloc: large alloc 5562884096 bytes == 0x55f49f328000 @  0x7f0b90de31e7 0x55f49e7777e2 0x55f49e76680a 0x55f49e767248 0x55f49e6f18d7 0x55f49e6dd066 0x7f0b8ef7cc87 0x55f49e6debaa\n",
            "tcmalloc: large alloc 1854300160 bytes == 0x55f5eac98000 @  0x7f0b90de31e7 0x55f49e7777e2 0x55f49e76680a 0x55f49e767248 0x55f49e6f1cdd 0x55f49e6dd066 0x7f0b8ef7cc87 0x55f49e6debaa\n",
            "tcmalloc: large alloc 3476799488 bytes == 0x55f727a60000 @  0x7f0b90de31e7 0x55f49e7777e2 0x55f49e76680a 0x55f49e767248 0x55f49e6f1cdd 0x55f49e6dd066 0x7f0b8ef7cc87 0x55f49e6debaa\n",
            "Statistics:\n",
            "1 19156 D1=0.588857 D2=1.0348 D3+=1.3388\n",
            "2 231267 D1=0.722265 D2=1.09097 D3+=1.44737\n",
            "3 617624 D1=0.821472 D2=1.14168 D3+=1.40217\n",
            "4 932153 D1=0.863174 D2=1.12888 D3+=1.29333\n",
            "Memory estimate for binary LM:\n",
            "type       kB\n",
            "probing 36767 assuming -p 1.5\n",
            "probing 41816 assuming -r models -p 1.5\n",
            "trie    15838 without quantization\n",
            "trie     8356 assuming -q 8 -b 8 quantization \n",
            "trie    14567 assuming -a 22 array pointer compression\n",
            "trie     7085 assuming -a 22 -q 8 -b 8 array pointer compression and quantization\n",
            "=== 3/5 Calculating and sorting initial probabilities ===\n",
            "Chain sizes: 1:229872 2:3700272 3:12352480 4:22371672\n",
            "----5---10---15---20---25---30---35---40---45---50---55---60---65---70---75---80---85---90---95--100\n",
            "####################################################################################################\n",
            "=== 4/5 Calculating and writing order-interpolated probabilities ===\n",
            "Chain sizes: 1:229872 2:3700272 3:12352480 4:22371672\n",
            "----5---10---15---20---25---30---35---40---45---50---55---60---65---70---75---80---85---90---95--100\n",
            "####################################################################################################\n",
            "=== 5/5 Writing ARPA model ===\n",
            "----5---10---15---20---25---30---35---40---45---50---55---60---65---70---75---80---85---90---95--100\n",
            "****************************************************************************************************\n",
            "Name:lmplz\tVmPeak:14378852 kB\tVmRSS:2217924 kB\tRSSMax:2218004 kB\tuser:2.21783\tsys:1.34985\tCPU:3.56773\treal:4.15389\n",
            "Reading models/pchat_4.arpa\n",
            "----5---10---15---20---25---30---35---40---45---50---55---60---65---70---75---80---85---90---95--100\n",
            "****************************************************************************************************\n",
            "SUCCESS\n"
          ]
        }
      ]
    },
    {
      "cell_type": "markdown",
      "source": [
        "## Evaluation\n",
        "\n",
        "### Perplexity\n",
        "\n",
        "Intuitively, a good model should assign high probabilities to sequences from the 'true' distribution that it is modeling.\n",
        "\n",
        "A common way of quantifying this is with **perplexity**, a metric inversely-proportional to the probability that the model assigns to a set of sequences, e.g. a 'test set':\n",
        "\n",
        "\\begin{align}\n",
        "\\large \\text{ppl}(p, D) &\\large\\ = 2^{-\\frac{1}{N_{total}}\\log_2 p(D)} =  2^{-\\frac{1}{N_{total}}\\log_2 \\prod_i^M p(w_i)}  = 2^{-\\frac{1}{N_{total}}\\log_2 \\prod_i^M \\prod_t^{N_i} p(w_t^i | w^i_{<t})}\n",
        "\\end{align}\n",
        "\n",
        "\n",
        "where $D=\\{(w_1,\\ldots,w_{N_i})_i\\}_{i=1}^M$ is a dataset of $M$ sequences with total length $N_{\\text{total}}=\\sum_{i}N_i$.\n",
        "\n",
        "Perplexity is defined on $[1,\\infty)$, with 1 being a perfect model (assigning probability 1 to $D$), and a 'worse' model as perplexity increases.\n",
        "\n",
        "Intuitively, _perplexity measures the average rank of the true next-token, when tokens are ordered by the model's conditional probabilities_. Another  interpretation of perplexity is that it measures the average number of times you would need to sample from the language model in order to receive the true next token. \n",
        "\n",
        "\n",
        "\n",
        "<!-- Section 1.3 of [[Chen & Goodman 1998]](https://dash.harvard.edu/bitstream/handle/1/25104739/tr-10-98.pdf?sequence=1) has a concise summary of perplexity and its motivation. !-->"
      ],
      "metadata": {
        "id": "ZQL-aceYAhz9"
      }
    },
    {
      "cell_type": "markdown",
      "source": [
        "#### Evaluate Perplexity\n",
        "\n",
        "`kenlm` outputs log probabilities in **log base 10**. For the standard definition of perplexity we need **log base 2**. See the code below:\n",
        "\n"
      ],
      "metadata": {
        "id": "SczxlaXqAkkz"
      }
    },
    {
      "cell_type": "code",
      "source": [
        "def perplexity_kenlm(model, sequences):\n",
        "    n_total = 0\n",
        "    logp_total = 0\n",
        "    for sequence in sequences:\n",
        "        text = ' '.join(sequence)\n",
        "        logp_total += model.score(text)\n",
        "        n_total += len(sequence) + 1  # add 1 for <eos>\n",
        "    \n",
        "    # Convert log10 to log2\n",
        "    log2p_total = logp_total / np.log10(2)\n",
        "    ppl = 2 ** (- (1.0 / n_total) * log2p_total)\n",
        "    return ppl"
      ],
      "metadata": {
        "id": "Yp8nTcDqAiWa"
      },
      "execution_count": 17,
      "outputs": []
    },
    {
      "cell_type": "code",
      "source": [
        "print(\"=== Train ===\")\n",
        "train_df = pd.DataFrame([(f'kenlm (n={n})', perplexity_kenlm(models[n], train)) for n in [2, 3, 4]], columns=['model', 'ppl'])\n",
        "train_df.style.hide_index()"
      ],
      "metadata": {
        "id": "2cdG_HP0ArsG",
        "colab": {
          "base_uri": "https://localhost:8080/",
          "height": 177
        },
        "outputId": "20b6ba0a-8005-4958-dd9b-29be9975b669"
      },
      "execution_count": 18,
      "outputs": [
        {
          "output_type": "stream",
          "name": "stdout",
          "text": [
            "=== Train ===\n"
          ]
        },
        {
          "output_type": "execute_result",
          "data": {
            "text/plain": [
              "<pandas.io.formats.style.Styler at 0x7f778c646dd0>"
            ],
            "text/html": [
              "<style type=\"text/css\">\n",
              "</style>\n",
              "<table id=\"T_0061b_\" class=\"dataframe\">\n",
              "  <thead>\n",
              "    <tr>\n",
              "      <th class=\"col_heading level0 col0\" >model</th>\n",
              "      <th class=\"col_heading level0 col1\" >ppl</th>\n",
              "    </tr>\n",
              "  </thead>\n",
              "  <tbody>\n",
              "    <tr>\n",
              "      <td id=\"T_0061b_row0_col0\" class=\"data row0 col0\" >kenlm (n=2)</td>\n",
              "      <td id=\"T_0061b_row0_col1\" class=\"data row0 col1\" >39.924842</td>\n",
              "    </tr>\n",
              "    <tr>\n",
              "      <td id=\"T_0061b_row1_col0\" class=\"data row1 col0\" >kenlm (n=3)</td>\n",
              "      <td id=\"T_0061b_row1_col1\" class=\"data row1 col1\" >15.462037</td>\n",
              "    </tr>\n",
              "    <tr>\n",
              "      <td id=\"T_0061b_row2_col0\" class=\"data row2 col0\" >kenlm (n=4)</td>\n",
              "      <td id=\"T_0061b_row2_col1\" class=\"data row2 col1\" >8.919611</td>\n",
              "    </tr>\n",
              "  </tbody>\n",
              "</table>\n"
            ]
          },
          "metadata": {},
          "execution_count": 18
        }
      ]
    },
    {
      "cell_type": "code",
      "source": [
        "print(\"=== Valid ===\")\n",
        "val_df = pd.DataFrame([(f'kenlm (n={n})', perplexity_kenlm(models[n], valid)) for n in [2, 3, 4]], columns=['model', 'ppl'])\n",
        "val_df.style.hide_index()"
      ],
      "metadata": {
        "id": "5rPnWX_EAtlS",
        "colab": {
          "base_uri": "https://localhost:8080/",
          "height": 177
        },
        "outputId": "5790107c-b1a5-4ade-829b-1e556d5a9562"
      },
      "execution_count": 19,
      "outputs": [
        {
          "output_type": "stream",
          "name": "stdout",
          "text": [
            "=== Valid ===\n"
          ]
        },
        {
          "output_type": "execute_result",
          "data": {
            "text/plain": [
              "<pandas.io.formats.style.Styler at 0x7f77804bed90>"
            ],
            "text/html": [
              "<style type=\"text/css\">\n",
              "</style>\n",
              "<table id=\"T_44e95_\" class=\"dataframe\">\n",
              "  <thead>\n",
              "    <tr>\n",
              "      <th class=\"col_heading level0 col0\" >model</th>\n",
              "      <th class=\"col_heading level0 col1\" >ppl</th>\n",
              "    </tr>\n",
              "  </thead>\n",
              "  <tbody>\n",
              "    <tr>\n",
              "      <td id=\"T_44e95_row0_col0\" class=\"data row0 col0\" >kenlm (n=2)</td>\n",
              "      <td id=\"T_44e95_row0_col1\" class=\"data row0 col1\" >59.187973</td>\n",
              "    </tr>\n",
              "    <tr>\n",
              "      <td id=\"T_44e95_row1_col0\" class=\"data row1 col0\" >kenlm (n=3)</td>\n",
              "      <td id=\"T_44e95_row1_col1\" class=\"data row1 col1\" >44.977117</td>\n",
              "    </tr>\n",
              "    <tr>\n",
              "      <td id=\"T_44e95_row2_col0\" class=\"data row2 col0\" >kenlm (n=4)</td>\n",
              "      <td id=\"T_44e95_row2_col1\" class=\"data row2 col1\" >43.218831</td>\n",
              "    </tr>\n",
              "  </tbody>\n",
              "</table>\n"
            ]
          },
          "metadata": {},
          "execution_count": 19
        }
      ]
    },
    {
      "cell_type": "markdown",
      "source": [
        "#### Sequence probabilities\n",
        "\\begin{align}\n",
        "p(w_1,\\ldots,w_T)&\\approx\\prod_{t=1}^T p(w_t|w_{t-2},w_{t-1})\\\\\n",
        "\\log p(w_1,\\ldots,w_T) &\\approx \\sum_{t=1}^T \\log p(w_t|w_{t-2},w_{t-1}).\n",
        "\\end{align}\n",
        "\n",
        "where we use log probabilities in practice to avoid a product of many small numbers."
      ],
      "metadata": {
        "id": "LwG8rQndA_kI"
      }
    },
    {
      "cell_type": "code",
      "source": [
        "sentences = [\n",
        "    'i like my pet dog .',\n",
        "    'i like my pet zebra .',\n",
        "    'i like my pet lion .',\n",
        "    'i live in the united states .',\n",
        "    'i live in the united states of america .'\n",
        "]\n",
        "\n",
        "# how to interpret the results?\n",
        "for sentence in sentences:\n",
        "    print('\\n', sentence)\n",
        "    for n in [2, 3, 4]:\n",
        "        log10p = models[n].score(sentence)\n",
        "        log2p = log10p / np.log10(2)\n",
        "        print(\"n: %d\\t logp: %.3f\" % (n, log2p))"
      ],
      "metadata": {
        "id": "40kEluMHBAkH",
        "colab": {
          "base_uri": "https://localhost:8080/"
        },
        "outputId": "7a015524-b3ff-4de0-8a4f-08d02737b12d"
      },
      "execution_count": 20,
      "outputs": [
        {
          "output_type": "stream",
          "name": "stdout",
          "text": [
            "\n",
            " i like my pet dog .\n",
            "n: 2\t logp: -29.216\n",
            "n: 3\t logp: -28.843\n",
            "n: 4\t logp: -29.219\n",
            "\n",
            " i like my pet zebra .\n",
            "n: 2\t logp: -32.303\n",
            "n: 3\t logp: -31.157\n",
            "n: 4\t logp: -32.101\n",
            "\n",
            " i like my pet lion .\n",
            "n: 2\t logp: -38.352\n",
            "n: 3\t logp: -41.017\n",
            "n: 4\t logp: -42.320\n",
            "\n",
            " i live in the united states .\n",
            "n: 2\t logp: -22.599\n",
            "n: 3\t logp: -20.095\n",
            "n: 4\t logp: -17.854\n",
            "\n",
            " i live in the united states of america .\n",
            "n: 2\t logp: -40.958\n",
            "n: 3\t logp: -26.627\n",
            "n: 4\t logp: -24.311\n"
          ]
        }
      ]
    },
    {
      "cell_type": "markdown",
      "source": [
        "#Feed-forward neural network\n",
        "\n"
      ],
      "metadata": {
        "id": "O04m7-pQBJ3U"
      }
    },
    {
      "cell_type": "markdown",
      "source": [
        "### Preparation for Colab: Pytorch version + dataset\n",
        "Make sure you're running a GPU runtime; if not, select \"GPU\" as the hardware accelerator in Runtime > Change Runtime Type in the menu. The next cells will print the CUDA version of the runtime if it has a GPU, and install PyTorch 1.7.1."
      ],
      "metadata": {
        "id": "nt39lFIHBV-x"
      }
    },
    {
      "cell_type": "code",
      "source": [
        "# TODO: Download data files\n",
        "# download pretrained models and data\n",
        "### DOWNLOADING THE FILES\n",
        "import os\n",
        "\n",
        "### persona chat dataset\n",
        "if not os.path.exists('personachat_all_sentences_train.jsonl'):\n",
        "    !wget \"https://nyu.box.com/shared/static/q4nvswb0szelivhgyx87vd1056ttqfyi.jsonl\" -O 'personachat_all_sentences_train.jsonl'\n",
        "if not os.path.exists('personachat_all_sentences_valid.jsonl'):\n",
        "    !wget \"https://nyu.box.com/shared/static/8krcizo8sms1m0ppy7uiwfcx4a3l5nsq.jsonl\" -O 'personachat_all_sentences_valid.jsonl'\n",
        "if not os.path.exists('personachat_all_sentences_test.jsonl'):\n",
        "    !wget \"https://nyu.box.com/shared/static/im7we9k2gcf8kslqnfamsimicgosuw9y.jsonl\" -O 'personachat_all_sentences_test.jsonl'\n",
        "\n",
        "### pretrained ffnn model\n",
        "\n",
        "if not os.path.exists('personachat_ffnn_lm.pt'):\n",
        "    !wget \"https://nyu.box.com/shared/static/7p9cl71myhyfaofnjbg25i4cfuzt42ne.pt\" -O 'personachat_ffnn_lm.pt'\n",
        "\n",
        "### pretrained rnn model\n",
        "if not os.path.exists('personachat_rnn_lm.pt'):\n",
        "    !wget \"https://nyu.box.com/shared/static/3jl9erctnvbefnczgmetkdil0xwpcxzb.pt\" -O 'personachat_rnn_lm.pt'\n",
        "\n",
        "### data processing file\n",
        "if not os.path.exists('data.py'):\n",
        "    !wget \"https://gist.githubusercontent.com/ethanjperez/304c855ffd0d6da4f8d6ce6a31ff25d2/raw/31cc574c2bc0fe52a9053793559142a938cb4e98/data.py\" -O \"data.py\"\n",
        "\n",
        "!touch __init__.py"
      ],
      "metadata": {
        "id": "wjPbS2mJBH-U",
        "colab": {
          "base_uri": "https://localhost:8080/"
        },
        "outputId": "799fb0a7-b888-4555-a9a2-917d91b9a836"
      },
      "execution_count": null,
      "outputs": [
        {
          "output_type": "stream",
          "name": "stdout",
          "text": [
            "--2022-05-20 13:58:05--  https://nyu.box.com/shared/static/q4nvswb0szelivhgyx87vd1056ttqfyi.jsonl\n",
            "Resolving nyu.box.com (nyu.box.com)... 107.152.26.197\n",
            "Connecting to nyu.box.com (nyu.box.com)|107.152.26.197|:443... connected.\n",
            "HTTP request sent, awaiting response... 301 Moved Permanently\n",
            "Location: /public/static/q4nvswb0szelivhgyx87vd1056ttqfyi.jsonl [following]\n",
            "--2022-05-20 13:58:05--  https://nyu.box.com/public/static/q4nvswb0szelivhgyx87vd1056ttqfyi.jsonl\n",
            "Reusing existing connection to nyu.box.com:443.\n",
            "HTTP request sent, awaiting response... 301 Moved Permanently\n",
            "Location: https://nyu.app.box.com/public/static/q4nvswb0szelivhgyx87vd1056ttqfyi.jsonl [following]\n",
            "--2022-05-20 13:58:05--  https://nyu.app.box.com/public/static/q4nvswb0szelivhgyx87vd1056ttqfyi.jsonl\n",
            "Resolving nyu.app.box.com (nyu.app.box.com)... 107.152.26.201\n",
            "Connecting to nyu.app.box.com (nyu.app.box.com)|107.152.26.201|:443... connected.\n",
            "HTTP request sent, awaiting response... 302 Found\n",
            "Location: https://dl2.boxcloud.com/d/1/b1!9VCd96ZgKcYSbU0uvKcFXxMus6jTsCuL35-0x6uYaRkqdPpzD-uCvlWrxRb2MicPWAQsdXV_T5HMC02HxeyoIircEs8_rweRkOcmXLmjncu4FSIjq9cRWlYpabGeG00zadGvjcs_1Z7-dYkl53DzLa11If8xoTim9y2zS2CBZod-BSl1HWYV0XBFIFkA8sT1kts0ScUCckEsd_UFyNBeK4WysNN5PvtCtF_x9SftQu9sXPv_ovbwxpkjNFo9wRcYg9ueueTkqxzpfzb0VCEJLPSnsdgsB-sHi-An2pL-ZrMa9QMbQdRDjSiuHDmeVUG_ux4LAAraY3nv242l_AgWBX3EcduSdNz5BbdcaonbS5hWPIdDTHvzw4AjGchatiyUUkCcSn7qVxh8Wvqp5H_3QYDULA8Dpjq2syhDuvAISbUvKbq97s2vFMzb26b93imsD09aIxIm8Uguyu1Z1yL9K1DzpXBcT20FPcZQ6u2Wog61_XmQOW5-rXSi-gf8mrUb8Npoh-XjHbKo6mDzJkizh4s6G5bpNWybJUdCOKEPgYhoztFijk7iiqnkxD5AYHqVzzY__p-Bfi0_itvvB-oYMbkbuYfxi6FTPblBwP6Cw8oLcvoAt-eugpFFmyrvVYmwTH3Mc7sQM3muDqEx4e58HSlROsHCXpDltPCljwWlen29p5Wv---FfF4VQ01pGKQAsuy9s-IYoggvjKfpIMgcjJ5RN_fKnF9PnYD-gVq-TtkKkC6M4njA91HB1xbWOnZAoCNLc3c3FbVEBF6H_KId2nk4Z_pZWfuV4WC3lqQ9f7ypRNTnDTfrWUUUud-Lqig_3rZysyMOpdlW89ulHmLqyXb4jLCJ4oszWrhCsysssupTIno7BOb3EVl8oULqy-lEY-m6gVPnruA9lRq3hV57Syz7lQRYryEvL0fqA4w2BqAAiI9CbNV7Gc-dIYHqiBmCiBpelbrcZgC7F56HoJ7cPGD3IYIhSvcJc8toBClNqOI3UjYn-Un0Xkq9_MlUENyouTQ8nSKTdpOjmR1I3eioyHXLIf7VY25ABNGqBQwQIOXy8jmNsjOVrQytmeWWDVHrzmq0x-34x7J1ShTKB_VEMFPsRbuafO3g-p8GHr0MgGICwSFQvfpb8g5sL9Qd7z9ycqO2phkYfd8h1yteWOjIwn1JQM5kqESXUxVu7qWo9U5EHeZ-vIJ_JHW_s1Gs06hJzaauwTKR6Sfrc0mEaIl_QiUfP1mSmvz02Hz2UCREKI_jCR9ToCjfAb8jBhDSC0XmR7qrHXnl2Iu-WtrT5E4G1qoqa5J-gMG-rLAKysXKxaijsQ65_uI4CDAM8WD_IlD0ONq8_EaohHwhg8ZxRRclJHei-f1E9aYIFlHy_NxvagOvdncDeJwdRv31GMQgdq8tSe_o3W88dy4ka_9T5xYSp-d0ZqoFnLBhng../download [following]\n",
            "--2022-05-20 13:58:06--  https://dl2.boxcloud.com/d/1/b1!9VCd96ZgKcYSbU0uvKcFXxMus6jTsCuL35-0x6uYaRkqdPpzD-uCvlWrxRb2MicPWAQsdXV_T5HMC02HxeyoIircEs8_rweRkOcmXLmjncu4FSIjq9cRWlYpabGeG00zadGvjcs_1Z7-dYkl53DzLa11If8xoTim9y2zS2CBZod-BSl1HWYV0XBFIFkA8sT1kts0ScUCckEsd_UFyNBeK4WysNN5PvtCtF_x9SftQu9sXPv_ovbwxpkjNFo9wRcYg9ueueTkqxzpfzb0VCEJLPSnsdgsB-sHi-An2pL-ZrMa9QMbQdRDjSiuHDmeVUG_ux4LAAraY3nv242l_AgWBX3EcduSdNz5BbdcaonbS5hWPIdDTHvzw4AjGchatiyUUkCcSn7qVxh8Wvqp5H_3QYDULA8Dpjq2syhDuvAISbUvKbq97s2vFMzb26b93imsD09aIxIm8Uguyu1Z1yL9K1DzpXBcT20FPcZQ6u2Wog61_XmQOW5-rXSi-gf8mrUb8Npoh-XjHbKo6mDzJkizh4s6G5bpNWybJUdCOKEPgYhoztFijk7iiqnkxD5AYHqVzzY__p-Bfi0_itvvB-oYMbkbuYfxi6FTPblBwP6Cw8oLcvoAt-eugpFFmyrvVYmwTH3Mc7sQM3muDqEx4e58HSlROsHCXpDltPCljwWlen29p5Wv---FfF4VQ01pGKQAsuy9s-IYoggvjKfpIMgcjJ5RN_fKnF9PnYD-gVq-TtkKkC6M4njA91HB1xbWOnZAoCNLc3c3FbVEBF6H_KId2nk4Z_pZWfuV4WC3lqQ9f7ypRNTnDTfrWUUUud-Lqig_3rZysyMOpdlW89ulHmLqyXb4jLCJ4oszWrhCsysssupTIno7BOb3EVl8oULqy-lEY-m6gVPnruA9lRq3hV57Syz7lQRYryEvL0fqA4w2BqAAiI9CbNV7Gc-dIYHqiBmCiBpelbrcZgC7F56HoJ7cPGD3IYIhSvcJc8toBClNqOI3UjYn-Un0Xkq9_MlUENyouTQ8nSKTdpOjmR1I3eioyHXLIf7VY25ABNGqBQwQIOXy8jmNsjOVrQytmeWWDVHrzmq0x-34x7J1ShTKB_VEMFPsRbuafO3g-p8GHr0MgGICwSFQvfpb8g5sL9Qd7z9ycqO2phkYfd8h1yteWOjIwn1JQM5kqESXUxVu7qWo9U5EHeZ-vIJ_JHW_s1Gs06hJzaauwTKR6Sfrc0mEaIl_QiUfP1mSmvz02Hz2UCREKI_jCR9ToCjfAb8jBhDSC0XmR7qrHXnl2Iu-WtrT5E4G1qoqa5J-gMG-rLAKysXKxaijsQ65_uI4CDAM8WD_IlD0ONq8_EaohHwhg8ZxRRclJHei-f1E9aYIFlHy_NxvagOvdncDeJwdRv31GMQgdq8tSe_o3W88dy4ka_9T5xYSp-d0ZqoFnLBhng../download\n",
            "Resolving dl2.boxcloud.com (dl2.boxcloud.com)... 74.112.186.128\n",
            "Connecting to dl2.boxcloud.com (dl2.boxcloud.com)|74.112.186.128|:443... connected.\n",
            "HTTP request sent, awaiting response... 200 OK\n",
            "Length: 13403897 (13M) [application/octet-stream]\n",
            "Saving to: ‘personachat_all_sentences_train.jsonl’\n",
            "\n",
            "personachat_all_sen 100%[===================>]  12.78M  25.4MB/s    in 0.5s    \n",
            "\n",
            "2022-05-20 13:58:08 (25.4 MB/s) - ‘personachat_all_sentences_train.jsonl’ saved [13403897/13403897]\n",
            "\n",
            "--2022-05-20 13:58:08--  https://nyu.box.com/shared/static/8krcizo8sms1m0ppy7uiwfcx4a3l5nsq.jsonl\n",
            "Resolving nyu.box.com (nyu.box.com)... 107.152.26.197\n",
            "Connecting to nyu.box.com (nyu.box.com)|107.152.26.197|:443... connected.\n",
            "HTTP request sent, awaiting response... 301 Moved Permanently\n",
            "Location: /public/static/8krcizo8sms1m0ppy7uiwfcx4a3l5nsq.jsonl [following]\n",
            "--2022-05-20 13:58:08--  https://nyu.box.com/public/static/8krcizo8sms1m0ppy7uiwfcx4a3l5nsq.jsonl\n",
            "Reusing existing connection to nyu.box.com:443.\n",
            "HTTP request sent, awaiting response... 301 Moved Permanently\n",
            "Location: https://nyu.app.box.com/public/static/8krcizo8sms1m0ppy7uiwfcx4a3l5nsq.jsonl [following]\n",
            "--2022-05-20 13:58:09--  https://nyu.app.box.com/public/static/8krcizo8sms1m0ppy7uiwfcx4a3l5nsq.jsonl\n",
            "Resolving nyu.app.box.com (nyu.app.box.com)... 107.152.26.201\n",
            "Connecting to nyu.app.box.com (nyu.app.box.com)|107.152.26.201|:443... connected.\n",
            "HTTP request sent, awaiting response... 302 Found\n",
            "Location: https://dl2.boxcloud.com/d/1/b1!xKkz95JKF3tvBFvEHLHCOF99pwt_AfteYvakIardeHNskPjE_98y36JNBZFJXkogas2-4S7Cwfgc4LKKYzq9h0_L7Xyn5StJnZ_f6-MJDugCE1uvJEB7-arElWiylMXDNEsDyADEvHOAf9DdMHO-wCtPwkRSbLtINMxMlJmpUAy-ky1YF5cI5U6i-od0dc2ZUAWH5q9EvAJ-xU0UytcR039_H3I5uCrxSO0OOLGHYDSARn1gTNOLzh89baLrAnr7ZhkUcSO0UM87O5UnFpKLY_RmB5LmHn3va1R6m4leF6LVE-FIjzJ1ZukhkwrZaBdOlkkANeoVDShBoqp42TpqGKfcppAEpLAJHfDtqbIJrLAPQ8TNGbGFDjCf_KExXQIOG5ARKH9ZQ6wLtcxmEdOMhCx_cpdlso6uWUQlo1VhEYSKrpL98zt0zFlU9sdC3UM_uT8UCw55v2hlSe7_mCtng9CnqsvKy6SDVRPEL9qRBjR7IYzTeVbdsvWCu1YU5mRZppggeKQgSToErUvF5br2YSec0EYlx0uquf4v1TadU43zZTMKtz1ZGusm5eJeuDPeFmlkg79G-V7sGz_kJXfBZOih-h_iwRPte2bbsxv0NClYnRgcxHmqJ1sydaiJkhGqBnBa1xZRY-KS-iqAiR_8OrMA9cKjagohRjTIDHO8LE_AqF21QraiLAbgFY8Ljt_wQMhkdGcBSoOl-DN5PweAOaGibhwFRqaB_7fpDoX5cFYR3n_O-r20eJ450X-U7wxQfzJHt1MT1-EROycyqmOqaGQE0i4zcekzqMpIDK9WW1RpT6mq3-YiH8t-tqo-tDe1xPscSvOsK8vAUkeiTUpEiwfAlqw8zT6zMhTH6k4J9ltvnFxfzQUazH8QCykmooJv-DEz6HCZ9CZxEhTcuhSHKacbJq-vBr9zodod5kbW3Cx4mBI-rAcpAZKg1KPmCeoESUC3WLoEbYB0HVnvXdJr1TtGDcDKOfZn4KMT1oJQRpBERUlT7dINL9a1L7Mr8ca3ary-6Y4fgD2Ub1Z8dO50KgK1TUl7d_wq_NkVj2Sb54FOD05O0Fsbj9M0eQarVlmkrZsBSobgkKsNWFloIo8jdgzQFim4V6xHbCOj_1uTrP-MgriklshLY4XIcxS4iGOCy7QhMp0szUQ_AGdFQBNo2g2Kl6Dg2RjHIRjvhAkXXp2iiCwJ36U7LVWFjOQ8pGnqVyjuhJ8XCdxY1ZRyegguYLwoOz48pxwqfnIgAKjLn8JZTPS5cbyqhsulsGOqv-VK0lvrekBR83YKiOR5Ug8_lgr9zwCF2Om-giAOdiAYJHZoLalgianES4qzx0POzZpCSFfpdY7GbD7cM6T8sjjhLzc-US2TdD62uLDKN10Eb_ObLkZIS8_5obewOLlNCJ3RnqFGLUoU0qq79PmYr8soqwno_BtbvYz3/download [following]\n",
            "--2022-05-20 13:58:09--  https://dl2.boxcloud.com/d/1/b1!xKkz95JKF3tvBFvEHLHCOF99pwt_AfteYvakIardeHNskPjE_98y36JNBZFJXkogas2-4S7Cwfgc4LKKYzq9h0_L7Xyn5StJnZ_f6-MJDugCE1uvJEB7-arElWiylMXDNEsDyADEvHOAf9DdMHO-wCtPwkRSbLtINMxMlJmpUAy-ky1YF5cI5U6i-od0dc2ZUAWH5q9EvAJ-xU0UytcR039_H3I5uCrxSO0OOLGHYDSARn1gTNOLzh89baLrAnr7ZhkUcSO0UM87O5UnFpKLY_RmB5LmHn3va1R6m4leF6LVE-FIjzJ1ZukhkwrZaBdOlkkANeoVDShBoqp42TpqGKfcppAEpLAJHfDtqbIJrLAPQ8TNGbGFDjCf_KExXQIOG5ARKH9ZQ6wLtcxmEdOMhCx_cpdlso6uWUQlo1VhEYSKrpL98zt0zFlU9sdC3UM_uT8UCw55v2hlSe7_mCtng9CnqsvKy6SDVRPEL9qRBjR7IYzTeVbdsvWCu1YU5mRZppggeKQgSToErUvF5br2YSec0EYlx0uquf4v1TadU43zZTMKtz1ZGusm5eJeuDPeFmlkg79G-V7sGz_kJXfBZOih-h_iwRPte2bbsxv0NClYnRgcxHmqJ1sydaiJkhGqBnBa1xZRY-KS-iqAiR_8OrMA9cKjagohRjTIDHO8LE_AqF21QraiLAbgFY8Ljt_wQMhkdGcBSoOl-DN5PweAOaGibhwFRqaB_7fpDoX5cFYR3n_O-r20eJ450X-U7wxQfzJHt1MT1-EROycyqmOqaGQE0i4zcekzqMpIDK9WW1RpT6mq3-YiH8t-tqo-tDe1xPscSvOsK8vAUkeiTUpEiwfAlqw8zT6zMhTH6k4J9ltvnFxfzQUazH8QCykmooJv-DEz6HCZ9CZxEhTcuhSHKacbJq-vBr9zodod5kbW3Cx4mBI-rAcpAZKg1KPmCeoESUC3WLoEbYB0HVnvXdJr1TtGDcDKOfZn4KMT1oJQRpBERUlT7dINL9a1L7Mr8ca3ary-6Y4fgD2Ub1Z8dO50KgK1TUl7d_wq_NkVj2Sb54FOD05O0Fsbj9M0eQarVlmkrZsBSobgkKsNWFloIo8jdgzQFim4V6xHbCOj_1uTrP-MgriklshLY4XIcxS4iGOCy7QhMp0szUQ_AGdFQBNo2g2Kl6Dg2RjHIRjvhAkXXp2iiCwJ36U7LVWFjOQ8pGnqVyjuhJ8XCdxY1ZRyegguYLwoOz48pxwqfnIgAKjLn8JZTPS5cbyqhsulsGOqv-VK0lvrekBR83YKiOR5Ug8_lgr9zwCF2Om-giAOdiAYJHZoLalgianES4qzx0POzZpCSFfpdY7GbD7cM6T8sjjhLzc-US2TdD62uLDKN10Eb_ObLkZIS8_5obewOLlNCJ3RnqFGLUoU0qq79PmYr8soqwno_BtbvYz3/download\n",
            "Resolving dl2.boxcloud.com (dl2.boxcloud.com)... 74.112.186.128\n",
            "Connecting to dl2.boxcloud.com (dl2.boxcloud.com)|74.112.186.128|:443... connected.\n",
            "HTTP request sent, awaiting response... 200 OK\n",
            "Length: 1640194 (1.6M) [application/octet-stream]\n",
            "Saving to: ‘personachat_all_sentences_valid.jsonl’\n",
            "\n",
            "personachat_all_sen 100%[===================>]   1.56M  5.70MB/s    in 0.3s    \n",
            "\n",
            "2022-05-20 13:58:10 (5.70 MB/s) - ‘personachat_all_sentences_valid.jsonl’ saved [1640194/1640194]\n",
            "\n",
            "--2022-05-20 13:58:10--  https://nyu.box.com/shared/static/im7we9k2gcf8kslqnfamsimicgosuw9y.jsonl\n",
            "Resolving nyu.box.com (nyu.box.com)... 107.152.26.197\n",
            "Connecting to nyu.box.com (nyu.box.com)|107.152.26.197|:443... connected.\n",
            "HTTP request sent, awaiting response... 301 Moved Permanently\n",
            "Location: /public/static/im7we9k2gcf8kslqnfamsimicgosuw9y.jsonl [following]\n",
            "--2022-05-20 13:58:10--  https://nyu.box.com/public/static/im7we9k2gcf8kslqnfamsimicgosuw9y.jsonl\n",
            "Reusing existing connection to nyu.box.com:443.\n",
            "HTTP request sent, awaiting response... 301 Moved Permanently\n",
            "Location: https://nyu.app.box.com/public/static/im7we9k2gcf8kslqnfamsimicgosuw9y.jsonl [following]\n",
            "--2022-05-20 13:58:11--  https://nyu.app.box.com/public/static/im7we9k2gcf8kslqnfamsimicgosuw9y.jsonl\n",
            "Resolving nyu.app.box.com (nyu.app.box.com)... 107.152.26.201\n",
            "Connecting to nyu.app.box.com (nyu.app.box.com)|107.152.26.201|:443... connected.\n",
            "HTTP request sent, awaiting response... 302 Found\n",
            "Location: https://dl2.boxcloud.com/d/1/b1!quygMbFNNTaisR9JkJMdMZ_hBYtgR0Wuk8sCZrR7pY9VGBQqnfitQL_UgZCVMDUaQGV_xMbwqozM57d-4MqYtL4tGnc0lDAZrZB-i0AvoyyU9b5NbZoVB7hPzenmGZOg3c3sHZZM2OkAsa3uIX9wMEdKZ0mPvEGH0tal1Ot6FZzmMq7RnCLzdca0TgMDP5_igD2tAwgP6kjyCtr__3bTsWXnF96XHBnNSE5OpGd876dfqlKU2-_7f4XGCmMWsPhj_Gy8l7xYkgmdAZGWc53zNHXL_H1Gzv9Qi_bPJOgPXVnm0AITryCZLHyJwuEPFUU9M4kLjPOgQ8NqUuovm4KgUe0qdj188W-vRxJDdQozJTfljlEfqQ1oNRFbQBiId5WkkIKYURdankCRxFQ2NHmjA2mGhJA40I57Wb8qiuj7s1Ft25tKv7S5J9JZjIDhGUriDJ4dC4qYalUMW4NMlytZeO38gGxKv8fSPNFFzK0JVocXxhFAmAlTJ1Bu-uE3ethzk0tsZ5zvmVO4Vl1skjjQLXST7vJ7IGqOytArkFmyQOwcgGN6fKb2hMqoQIVIxrDpUJIZU8IIp0rNNv3MZ35X2_J-jLjiPJgqxxGj9jnqqfYDp_g_dmZrDRIqLMMZ-xt_jHy7AuYHztnBnzweMAmDqFvC8DI8UbWvJ365QE6Bx2wGD8cZuOrCfhZUErebZeCFyrbVTQLR4cvym-fb0pogfcXku0fE424jXHESSnMZa5g4mSo5W7WaajOSuHfJfOS8Ck61LF3IayK2Q56Zjo4Wh_UOWCdm5QFvX-iRlm-zv1ZMX0mYrqfmAStFpR32iSiPG47TXShX2N1taxDPikgTKhdyDWZMoaGTDRgSOPeJ2zDVcSNu6YeKE81CfvjHBg8LRZcIxI2jkmAgVoaMq1Udi4v6AOvuc5eROH7tbJNVcmMcFreLVrylAvRGiVThRUw1D8c9pzWbvPVuVfFqPmhXUZI5fHV--Xol0sOH6UKqP_-x6cT7QWgp7DGcnErNeT30nutDQu-0X5TlANjVd4kPlwzCBizoINVxzfuaLTznr4svYhRB4h-jNen62U0YlmULrK3FxGGKNpOyP76_58Hy3xvfY2pie7KKtr6rIZJn03TE8aWa2WouEzVFJcB6e5vu1ivTxlGcGB1ehEdGUPcub7ldj0HSKCVb5SRwaa0x03NDnkn5Ekhd9FAP0ZEVEbPs3efgWpoI4yLBD34CSYa09-kQevY43QfBZSn7SfMwLxuggUDbRBqiN6X4aEsbKBhtTt_Jk5As7lus6cF-stDLww4BrHzXYJNYGm6Xc9tM51CZ4to1t_dH245IkBLGt76EsZ8kZ7caWQxbkCWuRLSerPQUADgGarbT-BggnnTwc-IIO02MZ0Schhu3Ksytrjh7vf0AzE1lJ0nD44_5pVCJvB2Pk53JeqA./download [following]\n",
            "--2022-05-20 13:58:11--  https://dl2.boxcloud.com/d/1/b1!quygMbFNNTaisR9JkJMdMZ_hBYtgR0Wuk8sCZrR7pY9VGBQqnfitQL_UgZCVMDUaQGV_xMbwqozM57d-4MqYtL4tGnc0lDAZrZB-i0AvoyyU9b5NbZoVB7hPzenmGZOg3c3sHZZM2OkAsa3uIX9wMEdKZ0mPvEGH0tal1Ot6FZzmMq7RnCLzdca0TgMDP5_igD2tAwgP6kjyCtr__3bTsWXnF96XHBnNSE5OpGd876dfqlKU2-_7f4XGCmMWsPhj_Gy8l7xYkgmdAZGWc53zNHXL_H1Gzv9Qi_bPJOgPXVnm0AITryCZLHyJwuEPFUU9M4kLjPOgQ8NqUuovm4KgUe0qdj188W-vRxJDdQozJTfljlEfqQ1oNRFbQBiId5WkkIKYURdankCRxFQ2NHmjA2mGhJA40I57Wb8qiuj7s1Ft25tKv7S5J9JZjIDhGUriDJ4dC4qYalUMW4NMlytZeO38gGxKv8fSPNFFzK0JVocXxhFAmAlTJ1Bu-uE3ethzk0tsZ5zvmVO4Vl1skjjQLXST7vJ7IGqOytArkFmyQOwcgGN6fKb2hMqoQIVIxrDpUJIZU8IIp0rNNv3MZ35X2_J-jLjiPJgqxxGj9jnqqfYDp_g_dmZrDRIqLMMZ-xt_jHy7AuYHztnBnzweMAmDqFvC8DI8UbWvJ365QE6Bx2wGD8cZuOrCfhZUErebZeCFyrbVTQLR4cvym-fb0pogfcXku0fE424jXHESSnMZa5g4mSo5W7WaajOSuHfJfOS8Ck61LF3IayK2Q56Zjo4Wh_UOWCdm5QFvX-iRlm-zv1ZMX0mYrqfmAStFpR32iSiPG47TXShX2N1taxDPikgTKhdyDWZMoaGTDRgSOPeJ2zDVcSNu6YeKE81CfvjHBg8LRZcIxI2jkmAgVoaMq1Udi4v6AOvuc5eROH7tbJNVcmMcFreLVrylAvRGiVThRUw1D8c9pzWbvPVuVfFqPmhXUZI5fHV--Xol0sOH6UKqP_-x6cT7QWgp7DGcnErNeT30nutDQu-0X5TlANjVd4kPlwzCBizoINVxzfuaLTznr4svYhRB4h-jNen62U0YlmULrK3FxGGKNpOyP76_58Hy3xvfY2pie7KKtr6rIZJn03TE8aWa2WouEzVFJcB6e5vu1ivTxlGcGB1ehEdGUPcub7ldj0HSKCVb5SRwaa0x03NDnkn5Ekhd9FAP0ZEVEbPs3efgWpoI4yLBD34CSYa09-kQevY43QfBZSn7SfMwLxuggUDbRBqiN6X4aEsbKBhtTt_Jk5As7lus6cF-stDLww4BrHzXYJNYGm6Xc9tM51CZ4to1t_dH245IkBLGt76EsZ8kZ7caWQxbkCWuRLSerPQUADgGarbT-BggnnTwc-IIO02MZ0Schhu3Ksytrjh7vf0AzE1lJ0nD44_5pVCJvB2Pk53JeqA./download\n",
            "Resolving dl2.boxcloud.com (dl2.boxcloud.com)... 74.112.186.128\n",
            "Connecting to dl2.boxcloud.com (dl2.boxcloud.com)|74.112.186.128|:443... connected.\n",
            "HTTP request sent, awaiting response... 200 OK\n",
            "Length: 1559597 (1.5M) [application/octet-stream]\n",
            "Saving to: ‘personachat_all_sentences_test.jsonl’\n",
            "\n",
            "personachat_all_sen 100%[===================>]   1.49M  5.51MB/s    in 0.3s    \n",
            "\n",
            "2022-05-20 13:58:12 (5.51 MB/s) - ‘personachat_all_sentences_test.jsonl’ saved [1559597/1559597]\n",
            "\n",
            "--2022-05-20 13:58:12--  https://nyu.box.com/shared/static/7p9cl71myhyfaofnjbg25i4cfuzt42ne.pt\n",
            "Resolving nyu.box.com (nyu.box.com)... 107.152.26.197\n",
            "Connecting to nyu.box.com (nyu.box.com)|107.152.26.197|:443... connected.\n",
            "HTTP request sent, awaiting response... 301 Moved Permanently\n",
            "Location: /public/static/7p9cl71myhyfaofnjbg25i4cfuzt42ne.pt [following]\n",
            "--2022-05-20 13:58:13--  https://nyu.box.com/public/static/7p9cl71myhyfaofnjbg25i4cfuzt42ne.pt\n",
            "Reusing existing connection to nyu.box.com:443.\n",
            "HTTP request sent, awaiting response... 301 Moved Permanently\n",
            "Location: https://nyu.app.box.com/public/static/7p9cl71myhyfaofnjbg25i4cfuzt42ne.pt [following]\n",
            "--2022-05-20 13:58:13--  https://nyu.app.box.com/public/static/7p9cl71myhyfaofnjbg25i4cfuzt42ne.pt\n",
            "Resolving nyu.app.box.com (nyu.app.box.com)... 107.152.26.201\n",
            "Connecting to nyu.app.box.com (nyu.app.box.com)|107.152.26.201|:443... connected.\n",
            "HTTP request sent, awaiting response... 302 Found\n",
            "Location: https://dl2.boxcloud.com/d/1/b1!AFLd-RcMGr2wLoodNOEUm6ECTojNmDHBaMQ2sTtJEEmkufaDGqVHYfzG-MNtun-bUVaKWPLjSyK0qm2GOqh7JhB77l-UM0URxIquuRn7B9QfE24ezHSRlCUZo6E1ii0lkn9EaJ6e1Ru_7oaEdyDWImOp7PFVb63ahRmhy2vHrkU0zgk4Vo7UUnktWKSQaEyQSBaSoppXMr0gtCtuJqL0BL8DJPa2DplspYzATqCHpxu62e88Gc_34xxtTjth_VQTb9KvV1tJtuAW-kAAuj4EvzVJRYYjlHU8JQ7XikDScBMD5wgtszUda80l8W9dkhfaU0Yg3tv1iPdFqN3WXkApbU4JSqOLVFVpe7K6naD9ArcqMgceqtY8MfjIJek9EsB75vm0vJo3zRYNIBWf5ZV9aQdT17_mNiyiOMaXb5dtetPAancEO6ijO_YYB5IaV2DqJvIGkh4IuYHlDviUzxP0_fG_WQz6xxV_vSUYhGz6UvHGyT6k1Kk8d9F1dj48Zo1G2VfCsUOxZ7iI0o8nzCrz_bY-A4t2HBIi-I-NX2FdASwb1m2fJfm7WmiDckuuEubJp4My2HH6RbuOS-3DX4ZpzSKaLbSWrrXo8FSXJXjfzJ0EYW44SYDwRszmRkcB0Hwh2soAoBHpLWlTa0_WIKGj6jStJmUPTHkYklKI4rnOHN6145-rEvikPZb4tWaHlUXa_YvZD-UkPO3i2_syo_3faLwwHmxu_BjGlhv9HfXbE3Tltqlfun5NSfZMQ6VQVU2xU1hefKbdMnnoL4KHzZHvFNdRz4dmYTqI0qSW7zod5uIre3YcNmuYp9n_MXSPiBqxhNpByap-z1wFHOQyQEDppBElQNQTc4t2Jw2er7xFzrfQlXatV-CJfVVRDnOali7G7Q_PLIIKygQAB_wFpIBoau2dM6-6cPGMO397VPDcXq2KBm88j_w0XLXdJl8Qgj99cTkWkWu1rfH0yI9dqoYMuF9lv4-kfbZjxM2yLrY64E-ZN3cb8Kng9nisL03NK6csR4lnISJ1tYj9dj-EGB1aWn-ADMIWj1h4jrISIMM7MpYEyEaYcpeg04gy4ut96leFMCBNoJX236SaVEVQ0-DesIrd-ggs1vXIfz2H_imHrRHPfkcwEjU7_Mxpmjp0spDexDZqu_gXenE6IcISs-zBdc95J6gfhPCXa_eUBatJ5X9nsjktnqi0t8EaMU7oHcXTTHutDISnSZfc2eSzdhVQtFLziGcIEW0q68UG_70kv6EWxx78_gPRGO-TYHs8fN-hC7gJvdnBlsG8QodqSgpQSu-z7sA4qY4fv2FIlTzasG_Af6hRz6jArqVs6fkrKv9HTX1GrU8SBJdn4xHkVcs3yapx2FUNIvbVOhnkKLv_fe2hf2_Gyo9dHc10Mo1n9axhEw8MW3d73bA./download [following]\n",
            "--2022-05-20 13:58:14--  https://dl2.boxcloud.com/d/1/b1!AFLd-RcMGr2wLoodNOEUm6ECTojNmDHBaMQ2sTtJEEmkufaDGqVHYfzG-MNtun-bUVaKWPLjSyK0qm2GOqh7JhB77l-UM0URxIquuRn7B9QfE24ezHSRlCUZo6E1ii0lkn9EaJ6e1Ru_7oaEdyDWImOp7PFVb63ahRmhy2vHrkU0zgk4Vo7UUnktWKSQaEyQSBaSoppXMr0gtCtuJqL0BL8DJPa2DplspYzATqCHpxu62e88Gc_34xxtTjth_VQTb9KvV1tJtuAW-kAAuj4EvzVJRYYjlHU8JQ7XikDScBMD5wgtszUda80l8W9dkhfaU0Yg3tv1iPdFqN3WXkApbU4JSqOLVFVpe7K6naD9ArcqMgceqtY8MfjIJek9EsB75vm0vJo3zRYNIBWf5ZV9aQdT17_mNiyiOMaXb5dtetPAancEO6ijO_YYB5IaV2DqJvIGkh4IuYHlDviUzxP0_fG_WQz6xxV_vSUYhGz6UvHGyT6k1Kk8d9F1dj48Zo1G2VfCsUOxZ7iI0o8nzCrz_bY-A4t2HBIi-I-NX2FdASwb1m2fJfm7WmiDckuuEubJp4My2HH6RbuOS-3DX4ZpzSKaLbSWrrXo8FSXJXjfzJ0EYW44SYDwRszmRkcB0Hwh2soAoBHpLWlTa0_WIKGj6jStJmUPTHkYklKI4rnOHN6145-rEvikPZb4tWaHlUXa_YvZD-UkPO3i2_syo_3faLwwHmxu_BjGlhv9HfXbE3Tltqlfun5NSfZMQ6VQVU2xU1hefKbdMnnoL4KHzZHvFNdRz4dmYTqI0qSW7zod5uIre3YcNmuYp9n_MXSPiBqxhNpByap-z1wFHOQyQEDppBElQNQTc4t2Jw2er7xFzrfQlXatV-CJfVVRDnOali7G7Q_PLIIKygQAB_wFpIBoau2dM6-6cPGMO397VPDcXq2KBm88j_w0XLXdJl8Qgj99cTkWkWu1rfH0yI9dqoYMuF9lv4-kfbZjxM2yLrY64E-ZN3cb8Kng9nisL03NK6csR4lnISJ1tYj9dj-EGB1aWn-ADMIWj1h4jrISIMM7MpYEyEaYcpeg04gy4ut96leFMCBNoJX236SaVEVQ0-DesIrd-ggs1vXIfz2H_imHrRHPfkcwEjU7_Mxpmjp0spDexDZqu_gXenE6IcISs-zBdc95J6gfhPCXa_eUBatJ5X9nsjktnqi0t8EaMU7oHcXTTHutDISnSZfc2eSzdhVQtFLziGcIEW0q68UG_70kv6EWxx78_gPRGO-TYHs8fN-hC7gJvdnBlsG8QodqSgpQSu-z7sA4qY4fv2FIlTzasG_Af6hRz6jArqVs6fkrKv9HTX1GrU8SBJdn4xHkVcs3yapx2FUNIvbVOhnkKLv_fe2hf2_Gyo9dHc10Mo1n9axhEw8MW3d73bA./download\n",
            "Resolving dl2.boxcloud.com (dl2.boxcloud.com)... 74.112.186.128\n",
            "Connecting to dl2.boxcloud.com (dl2.boxcloud.com)|74.112.186.128|:443... connected.\n",
            "HTTP request sent, awaiting response... 200 OK\n",
            "Length: 63371995 (60M) [application/octet-stream]\n",
            "Saving to: ‘personachat_ffnn_lm.pt’\n",
            "\n",
            "personachat_ffnn_lm 100%[===================>]  60.44M  13.6MB/s    in 4.5s    \n",
            "\n",
            "2022-05-20 13:58:19 (13.6 MB/s) - ‘personachat_ffnn_lm.pt’ saved [63371995/63371995]\n",
            "\n",
            "--2022-05-20 13:58:19--  https://nyu.box.com/shared/static/3jl9erctnvbefnczgmetkdil0xwpcxzb.pt\n",
            "Resolving nyu.box.com (nyu.box.com)... 107.152.26.197\n",
            "Connecting to nyu.box.com (nyu.box.com)|107.152.26.197|:443... connected.\n",
            "HTTP request sent, awaiting response... 301 Moved Permanently\n",
            "Location: /public/static/3jl9erctnvbefnczgmetkdil0xwpcxzb.pt [following]\n",
            "--2022-05-20 13:58:20--  https://nyu.box.com/public/static/3jl9erctnvbefnczgmetkdil0xwpcxzb.pt\n",
            "Reusing existing connection to nyu.box.com:443.\n",
            "HTTP request sent, awaiting response... 301 Moved Permanently\n",
            "Location: https://nyu.app.box.com/public/static/3jl9erctnvbefnczgmetkdil0xwpcxzb.pt [following]\n",
            "--2022-05-20 13:58:20--  https://nyu.app.box.com/public/static/3jl9erctnvbefnczgmetkdil0xwpcxzb.pt\n",
            "Resolving nyu.app.box.com (nyu.app.box.com)... 107.152.26.201\n",
            "Connecting to nyu.app.box.com (nyu.app.box.com)|107.152.26.201|:443... connected.\n",
            "HTTP request sent, awaiting response... 302 Found\n",
            "Location: https://dl2.boxcloud.com/d/1/b1!GRsEgB0mdQUZquvZJsCjxigjcxXpnN9uRtzph7PZQUQPvnqs0EY_7lX7ftkTCeyDnEFVz8GtCKPiHTLq3DgbDUE0CN2773KCssMY20GG7cT6kvIOcTNviGuOhhwOs3KlkPP52cKTV5L6oPXOCPDt581ce1u-VEkCfS-SvRqWEhiBSAORlbnNwHbCwYw_XmHAmkxpgI21_CIKlfDOfmYHFb8hCW9yxuqnNGFrJJMB73d3CRacQhvDHisqDfxkqUqJaE6OZCav24AnInMzMIVsG8QCAD6ArZ3Dl5OevCyM35rxm8C0tP17FzJQIeIJPTuOPgg-6RYFJdGX_1jvz_6NT_GTvacmyiBOS-vt3KJcpfP5c_V55WYoynmRgTliohxR_3ZT3N61Z4DyGZMclGufSBqHF5PGH599_0XhuWo8ONGUgPWIGJ1_5q4q1jwLWWK6l-j2R-CbpLGVR5KQ_fWtzaZZ8uqBJCd0X-YJ_SDsZsj_VI15ZEF8fPpwCLMNlY7cv5sh685xNoWbUhjUVoW_smOHjbSkxmCTLAHlFF0EdE7Pr_N1zPF33Beg1KdKcQaAlNBRBcbyzdTbxrSuie_-Aj0cS8DlHuXhgJOPTVk1QySLmzR9HFUAoyH7b7whAKrAv7PqWRggWnsXG5u8iqN0OiECAsVO7z1CPPPeYwlQZP3KU_bwCLEbOXRF8GBDjDO0_KbRx_KdPpqpj8n8p-yMAQ9cZjEMoExnUwAodt-ClpvyLn-s-HeCfliSwFW93wbDU-p9-Tve0QlP5wMB7stF-oe-RDJBz5slZwWHWeI3V6YATzhMspgqICeLrtsaOySIcA6n8SADaSwNSoYIokNfqcOVNmlP55mllwJ5NTuaeglJiCdKcDZluSeOW4w3j0GYGXIG9g1h8MQUSADu8BZa1OeavQlFWpee0-wY_3eF49oAWRkq4RZjd8QjNLO_e1MJOZW_4P8eYhUSLFBa_jFjPyqBAMhOtM0PIJLmiTTZxuE2ydWCNNKwvOchhdWcDaH-tnfbXLJR4BwCoYd8fwywRe6Wh20KsOCL8gNkBeKiJAfezEcNt4YGwmq3F4_SNd2xv5c-LeKU6ccWtrBs1wuCSm7NzlzSEBO4Urw8MtVD0Jpt4RObSpuTg0sQOEkFQYwRlEoz2j9sRhCtwKeFQXkUrjiAKwlT2yrH9GDZfRIiMc-O90BvPw-ed0_9JQn0g6GWteJ158R8iShVlGayVIhG2X_aiP9GVYq4lsnPxOH8pqHlPqZ1u879B5-a3um6qZ-pMJojS-2_KUw-weaSDxBaUYI4nciIqfsLVCMrI6w8WznyZqOEiGIFzdLhr6k2fXPVgNBYPIQ3v_LOwt7aOVXmRNPksSNwkpt0CaVqG1fbvU2DvAbrYpYXOZBk8ThbOVXsvX5JbkY./download [following]\n",
            "--2022-05-20 13:58:20--  https://dl2.boxcloud.com/d/1/b1!GRsEgB0mdQUZquvZJsCjxigjcxXpnN9uRtzph7PZQUQPvnqs0EY_7lX7ftkTCeyDnEFVz8GtCKPiHTLq3DgbDUE0CN2773KCssMY20GG7cT6kvIOcTNviGuOhhwOs3KlkPP52cKTV5L6oPXOCPDt581ce1u-VEkCfS-SvRqWEhiBSAORlbnNwHbCwYw_XmHAmkxpgI21_CIKlfDOfmYHFb8hCW9yxuqnNGFrJJMB73d3CRacQhvDHisqDfxkqUqJaE6OZCav24AnInMzMIVsG8QCAD6ArZ3Dl5OevCyM35rxm8C0tP17FzJQIeIJPTuOPgg-6RYFJdGX_1jvz_6NT_GTvacmyiBOS-vt3KJcpfP5c_V55WYoynmRgTliohxR_3ZT3N61Z4DyGZMclGufSBqHF5PGH599_0XhuWo8ONGUgPWIGJ1_5q4q1jwLWWK6l-j2R-CbpLGVR5KQ_fWtzaZZ8uqBJCd0X-YJ_SDsZsj_VI15ZEF8fPpwCLMNlY7cv5sh685xNoWbUhjUVoW_smOHjbSkxmCTLAHlFF0EdE7Pr_N1zPF33Beg1KdKcQaAlNBRBcbyzdTbxrSuie_-Aj0cS8DlHuXhgJOPTVk1QySLmzR9HFUAoyH7b7whAKrAv7PqWRggWnsXG5u8iqN0OiECAsVO7z1CPPPeYwlQZP3KU_bwCLEbOXRF8GBDjDO0_KbRx_KdPpqpj8n8p-yMAQ9cZjEMoExnUwAodt-ClpvyLn-s-HeCfliSwFW93wbDU-p9-Tve0QlP5wMB7stF-oe-RDJBz5slZwWHWeI3V6YATzhMspgqICeLrtsaOySIcA6n8SADaSwNSoYIokNfqcOVNmlP55mllwJ5NTuaeglJiCdKcDZluSeOW4w3j0GYGXIG9g1h8MQUSADu8BZa1OeavQlFWpee0-wY_3eF49oAWRkq4RZjd8QjNLO_e1MJOZW_4P8eYhUSLFBa_jFjPyqBAMhOtM0PIJLmiTTZxuE2ydWCNNKwvOchhdWcDaH-tnfbXLJR4BwCoYd8fwywRe6Wh20KsOCL8gNkBeKiJAfezEcNt4YGwmq3F4_SNd2xv5c-LeKU6ccWtrBs1wuCSm7NzlzSEBO4Urw8MtVD0Jpt4RObSpuTg0sQOEkFQYwRlEoz2j9sRhCtwKeFQXkUrjiAKwlT2yrH9GDZfRIiMc-O90BvPw-ed0_9JQn0g6GWteJ158R8iShVlGayVIhG2X_aiP9GVYq4lsnPxOH8pqHlPqZ1u879B5-a3um6qZ-pMJojS-2_KUw-weaSDxBaUYI4nciIqfsLVCMrI6w8WznyZqOEiGIFzdLhr6k2fXPVgNBYPIQ3v_LOwt7aOVXmRNPksSNwkpt0CaVqG1fbvU2DvAbrYpYXOZBk8ThbOVXsvX5JbkY./download\n",
            "Resolving dl2.boxcloud.com (dl2.boxcloud.com)... 74.112.186.128\n",
            "Connecting to dl2.boxcloud.com (dl2.boxcloud.com)|74.112.186.128|:443... connected.\n",
            "HTTP request sent, awaiting response... 200 OK\n",
            "Length: 67576905 (64M) [application/octet-stream]\n",
            "Saving to: ‘personachat_rnn_lm.pt’\n",
            "\n",
            "personachat_rnn_lm. 100%[===================>]  64.45M  11.6MB/s    in 5.6s    \n",
            "\n",
            "2022-05-20 13:58:28 (11.6 MB/s) - ‘personachat_rnn_lm.pt’ saved [67576905/67576905]\n",
            "\n",
            "--2022-05-20 13:58:28--  https://gist.githubusercontent.com/ethanjperez/304c855ffd0d6da4f8d6ce6a31ff25d2/raw/31cc574c2bc0fe52a9053793559142a938cb4e98/data.py\n",
            "Resolving gist.githubusercontent.com (gist.githubusercontent.com)... 185.199.108.133, 185.199.109.133, 185.199.110.133, ...\n",
            "Connecting to gist.githubusercontent.com (gist.githubusercontent.com)|185.199.108.133|:443... connected.\n",
            "HTTP request sent, awaiting response... 200 OK\n",
            "Length: 4921 (4.8K) [text/plain]\n",
            "Saving to: ‘data.py’\n",
            "\n",
            "data.py             100%[===================>]   4.81K  --.-KB/s    in 0s      \n",
            "\n",
            "2022-05-20 13:58:28 (56.4 MB/s) - ‘data.py’ saved [4921/4921]\n",
            "\n"
          ]
        }
      ]
    },
    {
      "cell_type": "markdown",
      "source": [
        "## N-gram modeling as classification\n",
        "\n",
        "In the previous n-gram language models lab, the probability of a word given a history ('prefix') was computed using n-gram **counts**.\n",
        "\n",
        "In this lab, our goal will be the same: modeling the probability of variable length sequences, $$p(x_1,\\ldots,x_T)=\\prod_{t=1}^T p(x_t|x_{<t}),$$\n",
        "\n",
        "by assuming that each word $x_t$ only depends on the preceding $n-1$ words, $$p(x_1,\\ldots,x_T)=\\prod_{t=1}^T p(x_t|x_{t-n+1},\\ldots,x_{t-1}).$$\n",
        "\n",
        "\n",
        "However, _instead of counts_, we will now use a **neural network** to **classify** each history, where each class is the next word.\n",
        "\n",
        "<img src=\"https://drive.google.com/uc?export=view&id=1NGMYOZTSe3dbmW9uZjwSouGmZqtUfC3q\" alt=\"Drawing\" style=\"width: 10px; height: 10px;\"/>\n",
        "\n",
        "\n",
        "\n",
        "[Diagram: modified from the [NLP Lecture Note](https://github.com/nyu-dl/NLP_DL_Lecture_Note/blob/master/lecture_note.pdf) by Kyunghyun Cho]"
      ],
      "metadata": {
        "id": "qb2F6P73BnvR"
      }
    },
    {
      "cell_type": "markdown",
      "source": [
        "## Modeling chat utterances\n",
        "\n",
        "We will build a **feed-forward neural n-gram model** to model chat utterances.\n",
        "\n",
        "### 1. Prepare the data\n",
        "\n",
        "To load and preprocess the data, we'll use utility functions from `data.py`."
      ],
      "metadata": {
        "id": "RffrZ4wTBxyl"
      }
    },
    {
      "cell_type": "code",
      "source": [
        "import data as data_utils"
      ],
      "metadata": {
        "id": "WSI1y2jNBuqI"
      },
      "execution_count": null,
      "outputs": []
    },
    {
      "cell_type": "code",
      "source": [
        "datasets = data_utils.load_personachat('./')\n",
        "dictionary = data_utils.Dictionary(datasets, include_valid=True)"
      ],
      "metadata": {
        "id": "SfSRSpZLB1uJ",
        "colab": {
          "base_uri": "https://localhost:8080/"
        },
        "outputId": "36c11121-4080-4d6f-dabe-ddf9da8b0e19"
      },
      "execution_count": null,
      "outputs": [
        {
          "output_type": "stream",
          "name": "stderr",
          "text": [
            "100%|██████████| 133176/133176 [00:24<00:00, 5489.22it/s]\n",
            "100%|██████████| 16181/16181 [00:03<00:00, 4168.84it/s]\n"
          ]
        }
      ]
    },
    {
      "cell_type": "markdown",
      "source": [
        "Let's look at an example from the dataset (note that in addition to `train` we also have `valid`, `test` splits):"
      ],
      "metadata": {
        "id": "CgGTgkTkB36T"
      }
    },
    {
      "cell_type": "code",
      "source": [
        "index = 0\n",
        "split = 'train'\n",
        "encoded = dictionary.encode_token_seq(datasets[split][index])\n",
        "decoded = dictionary.decode_idx_seq(encoded)\n",
        "\n",
        "print(\"Dataset size %d (train), %d (valid), %d (test).\\n\" %\n",
        "     (len(datasets['train']), \n",
        "      len(datasets['valid']), \n",
        "      len(datasets['test'])))\n",
        "print(' '.join(datasets[split][index]))\n",
        "print(f'\\n word indices - {encoded}')\n",
        "print(f'\\n words - {decoded}')"
      ],
      "metadata": {
        "id": "mFMAKxILB5m_",
        "colab": {
          "base_uri": "https://localhost:8080/"
        },
        "outputId": "8e4f59aa-59e8-4f5f-b95e-423566e87325"
      },
      "execution_count": null,
      "outputs": [
        {
          "output_type": "stream",
          "name": "stdout",
          "text": [
            "Dataset size 133176 (train), 16181 (valid), 15608 (test).\n",
            "\n",
            "i am doing great except for the allergies .\n",
            "\n",
            " word indices - [4, 5, 6, 7, 8, 9, 10, 11, 12]\n",
            "\n",
            " words - ['i', 'am', 'doing', 'great', 'except', 'for', 'the', 'allergies', '.']\n"
          ]
        }
      ]
    },
    {
      "cell_type": "markdown",
      "source": [
        "Now we add `<bos>`, `<eos>`, and turn each **sequence** into **n-grams**:"
      ],
      "metadata": {
        "id": "iJS9K-viB7kq"
      }
    },
    {
      "cell_type": "code",
      "source": [
        "ngram_order = 4\n",
        "tokenized_datasets = data_utils.tokenize_dataset(\n",
        "    datasets, dictionary, ngram_order\n",
        ")\n",
        "ngram_datasets = data_utils.slice_into_ngrams(\n",
        "    tokenized_datasets, ngram_order\n",
        ")\n",
        "\n",
        "for i in range(10):\n",
        "    decoded = dictionary.decode_idx_seq(ngram_datasets[split][index+i])\n",
        "    print(f'\\n {i} - {decoded}')"
      ],
      "metadata": {
        "id": "RWQKiZJsB9C_",
        "colab": {
          "base_uri": "https://localhost:8080/"
        },
        "outputId": "3677354c-9c81-4806-b8fc-b5f34c3288f0"
      },
      "execution_count": null,
      "outputs": [
        {
          "output_type": "stream",
          "name": "stdout",
          "text": [
            "\n",
            " 0 - ['<bos>', '<bos>', '<bos>', 'i']\n",
            "\n",
            " 1 - ['<bos>', '<bos>', 'i', 'am']\n",
            "\n",
            " 2 - ['<bos>', 'i', 'am', 'doing']\n",
            "\n",
            " 3 - ['i', 'am', 'doing', 'great']\n",
            "\n",
            " 4 - ['am', 'doing', 'great', 'except']\n",
            "\n",
            " 5 - ['doing', 'great', 'except', 'for']\n",
            "\n",
            " 6 - ['great', 'except', 'for', 'the']\n",
            "\n",
            " 7 - ['except', 'for', 'the', 'allergies']\n",
            "\n",
            " 8 - ['for', 'the', 'allergies', '.']\n",
            "\n",
            " 9 - ['the', 'allergies', '.', '<eos>']\n"
          ]
        }
      ]
    },
    {
      "cell_type": "markdown",
      "source": [
        "Finally, we create a **Pytorch** `Dataset` and `DataLoader` that can be used for training a neural network."
      ],
      "metadata": {
        "id": "2YfmZFL3B_K2"
      }
    },
    {
      "cell_type": "code",
      "source": [
        "from torch.utils.data import DataLoader\n",
        "\n",
        "datasets = {}\n",
        "dataloaders = {}\n",
        "for split, dataset in ngram_datasets.items():\n",
        "    dataset_ = data_utils.NgramDataset(dataset)\n",
        "    datasets[split] = dataset_\n",
        "    dataloaders[split] = DataLoader(\n",
        "        dataset_, \n",
        "        batch_size=2048, \n",
        "        shuffle=(split == 'train'), \n",
        "        collate_fn=data_utils.batchify # more to discover with rnn\n",
        "    )"
      ],
      "metadata": {
        "id": "rc7GAfU6CAj7"
      },
      "execution_count": null,
      "outputs": []
    },
    {
      "cell_type": "markdown",
      "source": [
        "### 2. Defining the model\n",
        "\n",
        "\n",
        "#### How do we represent the input $x_t$? \n",
        "\n",
        "Each $x_t$ is an **integer** (token id), and we transform it into a **vector** $f_{\\text{embed}}(x_t)\\in\\mathbb{R}^d$ using an `Embedding` layer."
      ],
      "metadata": {
        "id": "1NGLloM9CDFI"
      }
    },
    {
      "cell_type": "markdown",
      "source": [
        "An embedding layer serves as a differentiable look-up table. Given an integer token id, it returns a vector representation which we call an **embedding**."
      ],
      "metadata": {
        "id": "sZESWwVzCFK6"
      }
    },
    {
      "cell_type": "code",
      "source": [
        "import torch\n",
        "from torch.nn import Embedding\n",
        "\n",
        "lookup = Embedding(\n",
        "    num_embeddings=len(dictionary), \n",
        "    embedding_dim=16, \n",
        "    padding_idx=dictionary.get_id('<pad>') \n",
        ")"
      ],
      "metadata": {
        "id": "r6QWbjDOCG7U"
      },
      "execution_count": null,
      "outputs": []
    },
    {
      "cell_type": "code",
      "source": [
        "input_ = dictionary.encode_token_seq(['hello', 'world'])\n",
        "print(f'token ids: {[input_]}')\n",
        "\n",
        "input_embedded = lookup(torch.tensor([input_], dtype=torch.long))\n",
        "print(f'tokens embedding size: {input_embedded.size()}')\n",
        "\n",
        "print(\"embedding for 'hello' (179):\")\n",
        "input_embedded[0, 0].data"
      ],
      "metadata": {
        "id": "ALLyjstDCLq0",
        "colab": {
          "base_uri": "https://localhost:8080/"
        },
        "outputId": "c3060c10-72a9-4755-8d29-2bd10d169a77"
      },
      "execution_count": null,
      "outputs": [
        {
          "output_type": "stream",
          "name": "stdout",
          "text": [
            "token ids: [[179, 373]]\n",
            "tokens embedding size: torch.Size([1, 2, 16])\n",
            "embedding for 'hello' (179):\n"
          ]
        },
        {
          "output_type": "execute_result",
          "data": {
            "text/plain": [
              "tensor([ 1.5346, -1.0091, -0.4022,  0.7448,  1.3829, -0.7566,  1.0009,  0.1459,\n",
              "         0.4852,  1.9602,  0.4551,  0.5968, -0.1652, -0.0865, -0.7901, -1.8031])"
            ]
          },
          "metadata": {},
          "execution_count": 27
        }
      ]
    },
    {
      "cell_type": "markdown",
      "source": [
        "### Defining the neural network\n",
        "\n",
        "There are three components:\n",
        "1. `Embedding` $$\\large f_{embed}:\\text{vocab}\\rightarrow \\mathbb{R}^d$$\n",
        "2. Hidden layer $$\\large f_{hidden}: \\mathbb{R}^{nd}\\rightarrow \\mathbb{R}^h$$\n",
        "3. Projection $$\\large f_{project}: \\mathbb{R}^{h}\\rightarrow \\mathbb{R}^{|vocab|}$$\n",
        "\n",
        "The conditional distribution is then: $$\\large p(x_t|x_{t-1},\\ldots,x_{t-n-1})=\\text{softmax}(f_{project}(f_{hidden}(f_{embed}(x_{t-1},\\ldots,x_{t-n-1}))).$$\n",
        "\n",
        "\n",
        "We implement the hidden layer and projection with Pytorch `nn.Linear` layers:"
      ],
      "metadata": {
        "id": "TdZOnqzpCNkk"
      }
    },
    {
      "cell_type": "code",
      "source": [
        "import torch\n",
        "import torch.nn as nn\n",
        "\n",
        "class NeuralNgramLM(nn.Module):\n",
        "    def __init__(self, options):\n",
        "        super().__init__()\n",
        "        self.lookup = nn.Embedding(\n",
        "            num_embeddings=options['num_embeddings'], #len(dictionary)\n",
        "            embedding_dim=options['embedding_dim']\n",
        "        )\n",
        "        self.hidden_layer = nn.Linear(\n",
        "            options['input_size'], # embedding_dim * ngram_order\n",
        "            options['hidden_size'], \n",
        "            bias=True\n",
        "        )\n",
        "        self.projection = nn.Linear(\n",
        "            options['hidden_size'], \n",
        "            options['num_embeddings']\n",
        "        )\n",
        "        self.dropout = nn.Dropout(options['dropout_rate'])\n",
        "\n",
        "    def forward(self, inp):\n",
        "        embedded = self.lookup(inp)\n",
        "        embedded_timeflat = embedded.view(embedded.size(0), -1)\n",
        "        hidden_out = self.hidden_layer(embedded_timeflat)\n",
        "        hidden_out = torch.tanh(hidden_out)\n",
        "        hidden_out = self.dropout(hidden_out)\n",
        "        logits = self.projection(hidden_out)\n",
        "        return logits"
      ],
      "metadata": {
        "id": "mKEuxAC3COXy"
      },
      "execution_count": null,
      "outputs": []
    },
    {
      "cell_type": "markdown",
      "source": [
        "### 3. Train the model\n",
        "\n",
        "#### Initialize the model, criterion (loss), and optimizer"
      ],
      "metadata": {
        "id": "bIBQJi4pCQiN"
      }
    },
    {
      "cell_type": "code",
      "source": [
        "import os\n",
        "import torch\n",
        "import torch.nn as nn\n",
        "import torch.optim as optim\n",
        "\n",
        "load_pretrained = True # Set to true to skip training / save time\n",
        "\n",
        "num_gpus = torch.cuda.device_count()\n",
        "if num_gpus > 0:\n",
        "    current_device = 'cuda'\n",
        "else:\n",
        "    current_device = 'cpu'\n",
        "\n",
        "if load_pretrained:\n",
        "    if not os.path.exists('personachat_ffnn_lm.pt'):\n",
        "        raise EOFError('No model downloaded!')\n",
        "    model_dict = torch.load(\n",
        "        'personachat_ffnn_lm.pt',\n",
        "        map_location=torch.device(current_device)\n",
        "    )\n",
        "    \n",
        "    options = model_dict['options']\n",
        "    model = NeuralNgramLM(options).to(current_device)\n",
        "    model.load_state_dict(\n",
        "        model_dict['model_dict']\n",
        "    )\n",
        "    \n",
        "else:\n",
        "    embedding_dim = 256\n",
        "    ngram_order = 3 # why 3 but not 4?\n",
        "    input_size = embedding_dim * ngram_order\n",
        "    hidden_size = 512\n",
        "\n",
        "    options = {\n",
        "        'num_embeddings': len(dictionary),\n",
        "        'embedding_dim': embedding_dim,\n",
        "        'input_size': input_size,\n",
        "        'hidden_size': hidden_size,\n",
        "        'dropout_rate': 0.25,\n",
        "    }\n",
        "    model = NeuralNgramLM(options).to(current_device)\n",
        "\n",
        "criterion = nn.CrossEntropyLoss(\n",
        "    ignore_index=dictionary.get_id('<pad>'), \n",
        "    reduction='sum'\n",
        ")\n",
        "\n",
        "model_parameters = [p for p in model.parameters() if p.requires_grad]\n",
        "optimizer = optim.SGD(model_parameters, lr=0.01, momentum=0.99)"
      ],
      "metadata": {
        "id": "zxeUoJ-ICSjN"
      },
      "execution_count": null,
      "outputs": []
    },
    {
      "cell_type": "code",
      "source": [
        "model"
      ],
      "metadata": {
        "colab": {
          "base_uri": "https://localhost:8080/"
        },
        "id": "22j6oHfS6SQV",
        "outputId": "af3dd5e4-9afa-4b40-b975-9d38145668f5"
      },
      "execution_count": null,
      "outputs": [
        {
          "output_type": "execute_result",
          "data": {
            "text/plain": [
              "NeuralNgramLM(\n",
              "  (lookup): Embedding(20089, 256)\n",
              "  (hidden_layer): Linear(in_features=768, out_features=512, bias=True)\n",
              "  (projection): Linear(in_features=512, out_features=20089, bias=True)\n",
              "  (dropout): Dropout(p=0.25, inplace=False)\n",
              ")"
            ]
          },
          "metadata": {},
          "execution_count": 28
        }
      ]
    },
    {
      "cell_type": "markdown",
      "source": [
        "#### Training Loop"
      ],
      "metadata": {
        "id": "moZlFmr4CWA1"
      }
    },
    {
      "cell_type": "code",
      "source": [
        "# training takes about 50 minutes for 65 epochs\n",
        "plot_cache = []\n",
        "\n",
        "if not load_pretrained:\n",
        "    for epoch_number in range(65):\n",
        "        avg_loss = -1\n",
        "\n",
        "        # -- Training\n",
        "        model.train()\n",
        "\n",
        "        train_loss_cache = 0\n",
        "        train_non_pad_tokens_cache = 0\n",
        "\n",
        "        # == Iterate through batches from the dataset.\n",
        "        for i, (inp, target) in enumerate(dataloaders['train']):\n",
        "            optimizer.zero_grad()\n",
        "            inp = inp.to(current_device)\n",
        "            target = target.to(current_device)\n",
        "            \n",
        "            # == Forward pass.\n",
        "            logits = model(inp)\n",
        "\n",
        "            # == Computed (summed) loss.\n",
        "            loss = criterion(logits.view(-1, logits.size(-1)), target.view(-1))\n",
        "            train_loss_cache += loss.item()\n",
        "\n",
        "            # == Compute the number of non `<pad>` tokens in the target.\n",
        "            non_pad_tokens = target.view(-1).ne(dictionary.get_id('<pad>')).sum().item()\n",
        "\n",
        "            # == Normalize the (summed) loss so that it is an average.\n",
        "            loss /= non_pad_tokens  \n",
        "            loss.backward()\n",
        "            optimizer.step()\n",
        "\n",
        "            train_non_pad_tokens_cache += non_pad_tokens\n",
        "            if i % 100 == 0:\n",
        "                avg_loss = train_loss_cache/train_non_pad_tokens_cache\n",
        "                print('Step {} avg train loss = {:.{prec}f}'.format(i, avg_loss, prec=4))\n",
        "\n",
        "        # -- Validation\n",
        "        valid_loss_cache = 0\n",
        "        valid_non_pad_tokens_cache = 0\n",
        "\n",
        "        model.eval()\n",
        "        with torch.no_grad():\n",
        "            non_pad_tokens = 0\n",
        "            for i, (inp, target) in enumerate(dataloaders['valid']):\n",
        "                inp = inp.to(current_device)\n",
        "                target = target.to(current_device)\n",
        "\n",
        "                # == Forward pass and loss\n",
        "                logits = model(inp)\n",
        "                loss = criterion(logits.view(-1, logits.size(-1)), target.view(-1))\n",
        "                valid_loss_cache += loss.item()            \n",
        "\n",
        "                # == Normalize the loss\n",
        "                non_pad_tokens = target.view(-1).ne(dictionary.get_id('<pad>')).sum().item()\n",
        "                valid_non_pad_tokens_cache += non_pad_tokens\n",
        "\n",
        "            avg_val_loss = valid_loss_cache / valid_non_pad_tokens_cache\n",
        "            print('Validation loss after {} epoch = {:.{prec}f}'.format(epoch_number, avg_val_loss, prec=4))\n",
        "\n",
        "        plot_cache.append((avg_loss, avg_val_loss))"
      ],
      "metadata": {
        "id": "IoUCnwW6CXiK"
      },
      "execution_count": null,
      "outputs": []
    },
    {
      "cell_type": "code",
      "source": [
        "if load_pretrained:\n",
        "    plot_cache = model_dict['loss_cache']\n",
        "\n",
        "else:# Saving the model\n",
        "    torch.save({\n",
        "        'options': options,\n",
        "        'loss_cache': plot_cache,\n",
        "        'model_dict': model.state_dict()\n",
        "    }, './persona_ffnn_lm.pt')"
      ],
      "metadata": {
        "id": "PNMnB2xKCZLR"
      },
      "execution_count": null,
      "outputs": []
    },
    {
      "cell_type": "code",
      "source": [
        "import matplotlib.pyplot as plt\n",
        "import numpy\n",
        "\n",
        "epochs = numpy.array(list(range(len(plot_cache))))\n",
        "plt.plot(epochs, [i[0] for i in plot_cache], label='Train loss')\n",
        "plt.plot(epochs, [i[1] for i in plot_cache], label='Valid loss')\n",
        "\n",
        "plt.legend()\n",
        "plt.title('Loss curves')\n",
        "plt.show()"
      ],
      "metadata": {
        "colab": {
          "base_uri": "https://localhost:8080/",
          "height": 281
        },
        "id": "eApnTcLYJPjK",
        "outputId": "fbc8e169-c032-4a80-e085-cf5486ed3bd4"
      },
      "execution_count": null,
      "outputs": [
        {
          "output_type": "display_data",
          "data": {
            "text/plain": [
              "<Figure size 432x288 with 1 Axes>"
            ],
            "image/png": "[encoded data removed]"
          },
          "metadata": {
            "needs_background": "light"
          }
        }
      ]
    },
    {
      "cell_type": "markdown",
      "source": [
        "### 4. Evaluate the model\n",
        "\n"
      ],
      "metadata": {
        "id": "Qw-GivnLCdEh"
      }
    },
    {
      "cell_type": "markdown",
      "source": [
        "#### Recap: Perplexity\n",
        "Recall **perplexity** from the preceding lab:\n",
        "\n",
        "\\begin{align}\n",
        "\\large \\text{ppl}(p, D) &\\large = 2^{-\\frac{1}{N_{total}}\\log_2 p(D)}\n",
        "\\end{align}\n",
        "\n",
        "where $D=\\{(w_1,\\ldots,w_{N_i})_i\\}_{i=1}^M$ is a dataset of $M$ sequences with total length $N_{\\text{total}}=\\sum_{i}N_i$.\n",
        "\n",
        "#### Computing perplexity\n",
        "\n",
        "Our model's loss is the average negative loglikelihood of our data over all sequences in the corpus \n",
        "\n",
        "\n",
        "\\begin{align}\n",
        "\\large \\text{CE}(p, D) &\\large = -\\frac{1}{N_{total}}\\log_e p(D)\n",
        "\\end{align}\n",
        "\n",
        "\n",
        "\n",
        "We define perplexity using the **base 2** logarithm but `torch.log` uses base `e`. To **convert to base 2** we use: `log_2 p = log_e p / log_e 2`. Then we can see that perplexity is two to the power of the model loss.\n",
        "\n"
      ],
      "metadata": {
        "id": "BkzhevI2360G"
      }
    },
    {
      "cell_type": "code",
      "source": [
        "import matplotlib.pyplot as plt\n",
        "import numpy\n",
        "\n",
        "epochs = numpy.array(list(range(len(plot_cache))))\n",
        "plt.plot(epochs, [2**(i[0]/numpy.log(2)) for i in plot_cache], label='Train ppl')\n",
        "plt.plot(epochs, [2**(i[1]/numpy.log(2)) for i in plot_cache], label='Valid ppl')\n",
        "\n",
        "plt.legend()\n",
        "plt.title('PPL curves')\n",
        "plt.show()"
      ],
      "metadata": {
        "id": "3Z-x9rGMCe6u",
        "colab": {
          "base_uri": "https://localhost:8080/",
          "height": 281
        },
        "outputId": "2bd7608b-3538-4e3b-b963-75b7cd015713"
      },
      "execution_count": null,
      "outputs": [
        {
          "output_type": "display_data",
          "data": {
            "text/plain": [
              "<Figure size 432x288 with 1 Axes>"
            ],
            "image/png": "[encoded data removed]"
          },
          "metadata": {
            "needs_background": "light"
          }
        }
      ]
    },
    {
      "cell_type": "code",
      "source": [
        "val_ppl = np.min([2**(i[1]/numpy.log(2)) for i in plot_cache])\n",
        "k = np.argmin([2**(i[1]/numpy.log(2)) for i in plot_cache])\n",
        "train_ppl = 2**(plot_cache[k][0]/numpy.log(2))\n",
        "\n",
        "val_df = val_df.append({'model': 'ffnn (n=4)', 'ppl': val_ppl}, ignore_index=True)\n",
        "train_df = train_df.append({'model': 'ffnn (n=4)', 'ppl': train_ppl}, ignore_index=True)\n",
        "\n",
        "print('===== Train ======')\n",
        "print(train_df)\n",
        "print('==== Validation ======')\n",
        "print(val_df)"
      ],
      "metadata": {
        "colab": {
          "base_uri": "https://localhost:8080/"
        },
        "id": "K3GGt3pqxATC",
        "outputId": "79fe4db9-9bef-42c2-caa3-07033c7494bb"
      },
      "execution_count": null,
      "outputs": [
        {
          "output_type": "stream",
          "name": "stdout",
          "text": [
            "===== Train ======\n",
            "         model        ppl\n",
            "0  kenlm (n=2)  39.924842\n",
            "1  kenlm (n=3)  15.462037\n",
            "2  kenlm (n=4)   8.919611\n",
            "3   ffnn (n=4)  29.426679\n",
            "==== Validation ======\n",
            "         model        ppl\n",
            "0  kenlm (n=2)  59.187973\n",
            "1  kenlm (n=3)  44.977117\n",
            "2  kenlm (n=4)  43.218831\n",
            "3   ffnn (n=4)  43.649380\n"
          ]
        }
      ]
    },
    {
      "cell_type": "markdown",
      "source": [
        "#### Conditional probability queries\n",
        "We can now query the model for conditional probabilities:\n",
        "\n",
        "\\begin{align}\n",
        "\\large p(x_t|x_{t-1},x_{t-2},x_{t-3}) \n",
        "\\end{align} "
      ],
      "metadata": {
        "id": "Mzd_4LKLCi-G"
      }
    },
    {
      "cell_type": "code",
      "source": [
        "import torch\n",
        "\n",
        "def next_token_probabilities(prefix, token):\n",
        "    inp = dictionary.encode_token_seq(prefix.split(' '))\n",
        "    with torch.no_grad():\n",
        "        model.eval()\n",
        "        logits = model(\n",
        "            torch.tensor([inp], dtype=torch.long).to(current_device)\n",
        "        )\n",
        "    token_id = dictionary.get_id(token)\n",
        "    p_next_token = torch.softmax(logits, dim=-1)\n",
        "    return p_next_token[0, token_id]\n",
        "\n",
        "prefix = '<bos> my pet'\n",
        "\n",
        "for w in ['dog', 'zebra', 'lion', 'donut', 'velociraptor']:\n",
        "    prob = next_token_probabilities(prefix, w)\n",
        "    print('p( %s  | %s )\\t= %.3E' % (w, prefix, prob))\n",
        "    "
      ],
      "metadata": {
        "id": "sdHKl2SQCjvZ",
        "colab": {
          "base_uri": "https://localhost:8080/"
        },
        "outputId": "cc0d178c-5344-40df-ce58-6f1c8fb5dc88"
      },
      "execution_count": null,
      "outputs": [
        {
          "output_type": "stream",
          "name": "stdout",
          "text": [
            "p( dog  | <bos> my pet )\t= 9.364E-03\n",
            "p( zebra  | <bos> my pet )\t= 7.752E-03\n",
            "p( lion  | <bos> my pet )\t= 9.483E-06\n",
            "p( donut  | <bos> my pet )\t= 1.429E-07\n",
            "p( velociraptor  | <bos> my pet )\t= 1.200E-07\n"
          ]
        }
      ]
    },
    {
      "cell_type": "markdown",
      "source": [
        "\n",
        "\n",
        "And sort by the highest probability next-tokens:\n",
        "\n",
        "$\\large \\texttt{sort}(p(\\cdot|\\underbrace{x_{<t}}_{\\text{prefix}}))$"
      ],
      "metadata": {
        "id": "iFrEGdX1Cl5C"
      }
    },
    {
      "cell_type": "code",
      "source": [
        "def get_top_token_given_prefix(prefix, top=10):\n",
        "    inp = dictionary.encode_token_seq(prefix.split(' '))\n",
        "    with torch.no_grad():\n",
        "        model.eval()\n",
        "        logits = model(\n",
        "            torch.tensor([inp], dtype=torch.long).to(current_device)\n",
        "        )\n",
        "        \n",
        "    p_next_token = torch.softmax(logits, dim=-1)\n",
        "    sorted_probs, sorted_token_ids = torch.topk(p_next_token[0], top)\n",
        "\n",
        "    for i in range(sorted_token_ids.size(0)):\n",
        "        print('p( %s  | %s )\\t= %.5f' % \n",
        "              (dictionary.decode_idx_seq([sorted_token_ids[i]])[0], \n",
        "               prefix, \n",
        "               sorted_probs[i])\n",
        "        )\n",
        "\n",
        "get_top_token_given_prefix('<bos> my pet')  # 'the weather is'  '<bos> <bos> hello'"
      ],
      "metadata": {
        "id": "AHjowIckCoNr",
        "colab": {
          "base_uri": "https://localhost:8080/"
        },
        "outputId": "812ec6cf-722b-4794-ee20-c80855b61dc4"
      },
      "execution_count": null,
      "outputs": [
        {
          "output_type": "stream",
          "name": "stdout",
          "text": [
            "p( panda  | <bos> my pet )\t= 0.10494\n",
            "p( snake  | <bos> my pet )\t= 0.07481\n",
            "p( is  | <bos> my pet )\t= 0.06312\n",
            "p( lizard  | <bos> my pet )\t= 0.05560\n",
            "p( beta  | <bos> my pet )\t= 0.04612\n",
            "p( iguana  | <bos> my pet )\t= 0.03953\n",
            "p( cat  | <bos> my pet )\t= 0.03552\n",
            "p( skunk  | <bos> my pet )\t= 0.03324\n",
            "p( iguanas  | <bos> my pet )\t= 0.02227\n",
            "p( dogs  | <bos> my pet )\t= 0.01664\n"
          ]
        }
      ]
    },
    {
      "cell_type": "markdown",
      "metadata": {
        "id": "Eb9Va-p4bj96"
      },
      "source": [
        "# Recurrent neural network language model\n",
        "Recall that in **language modeling**, we want to model the probability of variable length sequences, $$p(x_1,\\ldots,x_T)=\\prod_{t=1}^T p(x_t|x_{<t}).$$\n",
        "\n",
        "*Unlike n-gram models*, we will now define a model that allows a **full history** $x_{<t}$.\n",
        "\n",
        "To do so, we will use a function called a **recurrent neural network** to compute each distribution $p(x_t|x_{<t})$:\n",
        "\\begin{align}\n",
        "h_t &= f^{\\text{RNN}}_{\\theta}(x_{t-1}, h_{t-1}) & \\mathbb{R}^d\\\\\n",
        "s_t &= Wh_t & \\mathbb{R}^{\\text{|vocab|}}\\\\\n",
        "p_{\\theta}(x_t|x_{<t}) &= \\text{softmax}(s_t) & [0,1]^{\\text{|vocab|}}\n",
        "\\end{align}\n",
        "\n",
        "where $h_t$ is an internal (hidden) state of the model at time step $t$, and $x_t$ is an input at time step $t$.\n",
        "\n",
        "<img src=\"https://i.stack.imgur.com/SjnTl.png\" style=\"width:20%\">"
      ]
    },
    {
      "cell_type": "markdown",
      "metadata": {
        "id": "tKflqMtfEMEW"
      },
      "source": [
        "\n",
        "In the simplest form used in practice, $f_{\\theta}^{\\text{RNN}}$ is defined as:\n",
        " $$f_{\\theta}^{\\text{RNN}}(x_{t-1}, h_{t-1}) = \\text{tanh}(a_t)\\\\ a_t = b + W \\cdot h_{t-1} + U \\cdot x_{t-1},$$\n",
        " \n",
        "but there are other variants (e.g. [GRU](https://arxiv.org/pdf/1406.1078.pdf), [LSTM](https://www.bioinf.jku.at/publications/older/2604.pdf)).\n",
        "\n",
        "Similar to the n-gram neural network above, the goal at time $t$ is to **predict the next token $x_t$**."
      ]
    },
    {
      "cell_type": "markdown",
      "metadata": {
        "id": "gQAwYSOMEMEY"
      },
      "source": [
        "### Pytorch implementation: `RNNCell`"
      ]
    },
    {
      "cell_type": "code",
      "metadata": {
        "id": "z9tYnhzWEMEY"
      },
      "source": [
        "import torch\n",
        "from torch.nn import RNNCell"
      ],
      "execution_count": null,
      "outputs": []
    },
    {
      "cell_type": "code",
      "metadata": {
        "id": "MkhWUxAFEMEZ"
      },
      "source": [
        "hidden_size = 16\n",
        "embedding_dim = 8\n",
        "\n",
        "rnn_cell = RNNCell(embedding_dim, hidden_size)"
      ],
      "execution_count": null,
      "outputs": []
    },
    {
      "cell_type": "code",
      "metadata": {
        "colab": {
          "base_uri": "https://localhost:8080/"
        },
        "outputId": "f54990d1-12f8-42f4-9ad5-0c1da8d2ee1c",
        "id": "1exsiXy5EMEZ"
      },
      "source": [
        "hidden = torch.zeros(1, hidden_size)\n",
        "print(hidden)\n",
        "print(hidden.size())"
      ],
      "execution_count": null,
      "outputs": [
        {
          "output_type": "stream",
          "name": "stdout",
          "text": [
            "tensor([[0., 0., 0., 0., 0., 0., 0., 0., 0., 0., 0., 0., 0., 0., 0., 0.]])\n",
            "torch.Size([1, 16])\n"
          ]
        }
      ]
    },
    {
      "cell_type": "code",
      "metadata": {
        "colab": {
          "base_uri": "https://localhost:8080/"
        },
        "outputId": "6407a57f-e8ce-4aa6-955f-225d25a8f16c",
        "id": "8KeouUvVEMEb"
      },
      "source": [
        "random_input = torch.rand(1, embedding_dim)\n",
        "print(random_input)\n",
        "print(random_input.size())"
      ],
      "execution_count": null,
      "outputs": [
        {
          "output_type": "stream",
          "name": "stdout",
          "text": [
            "tensor([[0.4745, 0.1031, 0.1341, 0.0335, 0.5836, 0.4065, 0.1655, 0.6238]])\n",
            "torch.Size([1, 8])\n"
          ]
        }
      ]
    },
    {
      "cell_type": "code",
      "metadata": {
        "colab": {
          "base_uri": "https://localhost:8080/"
        },
        "outputId": "008347ad-ed27-4171-c765-e866acfef2c2",
        "id": "Yu66uSOEEMEc"
      },
      "source": [
        "hidden = rnn_cell(random_input, hidden)\n",
        "print(hidden)\n",
        "print(hidden.size())"
      ],
      "execution_count": null,
      "outputs": [
        {
          "output_type": "stream",
          "name": "stdout",
          "text": [
            "tensor([[-0.1456,  0.2750,  0.0725, -0.4433,  0.0156,  0.3660,  0.1260,  0.1363,\n",
            "          0.4479,  0.1303,  0.0950, -0.1724,  0.4570, -0.0273, -0.2500,  0.1275]],\n",
            "       grad_fn=<TanhBackward0>)\n",
            "torch.Size([1, 16])\n"
          ]
        }
      ]
    },
    {
      "cell_type": "markdown",
      "metadata": {
        "id": "L4QaNlS2bj-O"
      },
      "source": [
        "### Pytorch implementation: `RNN`\n",
        "\n",
        "`RNNCell` is a building block of an RNN model. The Pytorch `RNN` model supports multi-layer networks by creating separate `RNNCell`s for every layer. \n",
        "\n",
        "`RNN` can also process a whole sequence of data by iteratively applying `RNNCell`."
      ]
    },
    {
      "cell_type": "code",
      "metadata": {
        "id": "FCvackw4bj-O"
      },
      "source": [
        "from torch.nn import RNNBase, RNN"
      ],
      "execution_count": null,
      "outputs": []
    },
    {
      "cell_type": "markdown",
      "metadata": {
        "id": "LHqYjtCYbj--"
      },
      "source": [
        "### 1. Define the model"
      ]
    },
    {
      "cell_type": "code",
      "metadata": {
        "id": "IdlUbyiybj_A"
      },
      "source": [
        "import torch.nn as nn\n",
        "\n",
        "class RNNLanguageModel(nn.Module):\n",
        "    def __init__(self, options):\n",
        "        super().__init__()\n",
        "        \n",
        "        self.lookup = nn.Embedding(\n",
        "            num_embeddings=options['num_embeddings'], \n",
        "            embedding_dim=options['embedding_dim'], \n",
        "            padding_idx=options['padding_idx']\n",
        "        )\n",
        "        self.rnn = nn.RNN(\n",
        "            options['input_size'], \n",
        "            options['hidden_size'], \n",
        "            options['num_layers'], \n",
        "            dropout=options['rnn_dropout'], \n",
        "            batch_first=True\n",
        "        )\n",
        "        self.projection = nn.Linear(\n",
        "            options['hidden_size'], \n",
        "            options['num_embeddings']\n",
        "        )\n",
        "        \n",
        "    def forward(self, token_ids):\n",
        "        embeddings = self.lookup(token_ids)\n",
        "        output, hidden = self.rnn(embeddings)\n",
        "        logits = self.projection(output) \n",
        "        return logits"
      ],
      "execution_count": null,
      "outputs": []
    },
    {
      "cell_type": "markdown",
      "metadata": {
        "id": "dNa76QS89rKd"
      },
      "source": [
        "### 2. Prepare the data"
      ]
    },
    {
      "cell_type": "markdown",
      "metadata": {
        "id": "lto4BASI9rKd"
      },
      "source": [
        "#### Dataset and Dataloader\n",
        "\n",
        "See `data_utils.py` for the implementation. "
      ]
    },
    {
      "cell_type": "code",
      "metadata": {
        "colab": {
          "base_uri": "https://localhost:8080/"
        },
        "id": "lFvJKaJn9rKe",
        "outputId": "c59c35ea-1ffc-4f6d-de15-5e58156b221d"
      },
      "source": [
        "datasets_ = data_utils.load_personachat('./')\n",
        "dictionary = data_utils.Dictionary(datasets_, include_valid=True)\n",
        "datasets_ = data_utils.tokenize_dataset(datasets_, dictionary)\n",
        "\n",
        "datasets = {}\n",
        "for split, dataset in datasets_.items():\n",
        "    datasets[split] = data_utils.TensoredDataset(dataset, dictionary.get_id('<pad>'))"
      ],
      "execution_count": null,
      "outputs": [
        {
          "output_type": "stream",
          "name": "stderr",
          "text": [
            "100%|██████████| 133176/133176 [00:21<00:00, 6209.83it/s]\n",
            "100%|██████████| 16181/16181 [00:03<00:00, 4783.84it/s]\n"
          ]
        }
      ]
    },
    {
      "cell_type": "markdown",
      "metadata": {
        "id": "uBfyzGrds2oo"
      },
      "source": [
        "\n",
        "Remember that for model, we want to tackle the following prediction problem:\n",
        "\n",
        "- The **input** is now a **full sequence**.\n",
        "- The **output** is the **next token** for each position of the input:\n",
        "\n"
      ]
    },
    {
      "cell_type": "markdown",
      "metadata": {
        "id": "cppZ7lr0vVte"
      },
      "source": [
        "![image.png](data:image/png;base64,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)"
      ]
    },
    {
      "cell_type": "markdown",
      "metadata": {
        "id": "73knpjdqvXgJ"
      },
      "source": [
        "We see that language modeling has a nice property where the labels are simply a 1-shifted version of our input. As long as we ensure that the model has no way of cheating and making use of future labels, it will not be an issue.\n",
        "\n",
        "In the case of RNNs, there is no cheating because the inputs are processed sequentially. We will see in the case of later models like Transformers that we will need special handling to prevent this."
      ]
    },
    {
      "cell_type": "code",
      "metadata": {
        "colab": {
          "base_uri": "https://localhost:8080/"
        },
        "id": "H-DNzuTa9rKe",
        "outputId": "17fd8bcd-3513-4f80-adb0-c97d4b5bbc73"
      },
      "source": [
        "inp, out = datasets['train'][0]\n",
        "\n",
        "print(\"Input: \\n\\t%s\\n\\t(%s)\" %\n",
        "      (inp.data[0], dictionary.decode_idx_seq(inp.data[0])))\n",
        "\n",
        "print(\"Output: \\n\\t%s\\n\\t(%s)\" %\n",
        "      (out.data[0], dictionary.decode_idx_seq(out.data[0])))"
      ],
      "execution_count": null,
      "outputs": [
        {
          "output_type": "stream",
          "name": "stdout",
          "text": [
            "Input: \n",
            "\ttensor([ 0,  4,  5,  6,  7,  8,  9, 10, 11, 12])\n",
            "\t(['<bos>', 'i', 'am', 'doing', 'great', 'except', 'for', 'the', 'allergies', '.'])\n",
            "Output: \n",
            "\ttensor([ 4,  5,  6,  7,  8,  9, 10, 11, 12,  1])\n",
            "\t(['i', 'am', 'doing', 'great', 'except', 'for', 'the', 'allergies', '.', '<eos>'])\n"
          ]
        }
      ]
    },
    {
      "cell_type": "markdown",
      "metadata": {
        "id": "hCr4299Y9rKe"
      },
      "source": [
        "#### Pytorch dataloader"
      ]
    },
    {
      "cell_type": "code",
      "metadata": {
        "id": "du7DfjTR9rKe"
      },
      "source": [
        "dataloaders = {}\n",
        "batch_size = 128\n",
        "\n",
        "for split, dataset in datasets.items():\n",
        "    dataloaders[split] = DataLoader(\n",
        "        dataset, \n",
        "        batch_size=batch_size, \n",
        "        shuffle=True, \n",
        "        collate_fn=dataset.pad_collate_fn  # pads the sequences in the batch\n",
        "    )"
      ],
      "execution_count": null,
      "outputs": []
    },
    {
      "cell_type": "markdown",
      "metadata": {
        "id": "kftuYCqE9rKe"
      },
      "source": [
        "#### Padding to handle variable sequence lengths:"
      ]
    },
    {
      "cell_type": "code",
      "metadata": {
        "colab": {
          "base_uri": "https://localhost:8080/"
        },
        "id": "gitvpXaE9rKe",
        "outputId": "1d26ef5f-1420-45e3-9530-3b2c0e8a9e37"
      },
      "source": [
        "inp, target = next(dataloaders['train'].__iter__())\n",
        "\n",
        "print(\"Batch size %s\" % str(inp.shape))\n",
        "print(\"Batch element 1: \\n\\t%s\\n\\t(%s)\" %\n",
        "      (inp.data[0], ' '.join(dictionary.decode_idx_seq(inp.data[0]))))\n",
        "print(\"Batch element 2: \\n\\t%s\\n\\t(%s)\" %\n",
        "      (inp.data[1], ' '.join(dictionary.decode_idx_seq(inp.data[1]))))"
      ],
      "execution_count": null,
      "outputs": [
        {
          "output_type": "stream",
          "name": "stdout",
          "text": [
            "Batch size torch.Size([128, 20])\n",
            "Batch element 1: \n",
            "\ttensor([   0,    4,  130,   13,  269,  135,  466,  390,   35,  169, 1386,   12,\n",
            "           2,    2,    2,    2,    2,    2,    2,    2])\n",
            "\t(<bos> i have a lot of cats 10 to be exact . <pad> <pad> <pad> <pad> <pad> <pad> <pad> <pad>)\n",
            "Batch element 2: \n",
            "\ttensor([   0,  108, 2177,  252,  915,   12,    2,    2,    2,    2,    2,    2,\n",
            "           2,    2,    2,    2,    2,    2,    2,    2])\n",
            "\t(<bos> professional halo 3 player . <pad> <pad> <pad> <pad> <pad> <pad> <pad> <pad> <pad> <pad> <pad> <pad> <pad> <pad>)\n"
          ]
        }
      ]
    },
    {
      "cell_type": "markdown",
      "metadata": {
        "id": "8OUW5bVw9rKf"
      },
      "source": [
        "### 3. Train the model\n",
        "\n",
        "#### Initializing model, criterion, and optimizer (similar to the feedforward model)"
      ]
    },
    {
      "cell_type": "code",
      "metadata": {
        "id": "zQB-RbIhbj_B"
      },
      "source": [
        "import torch\n",
        "import torch.nn as nn\n",
        "import torch.optim as optim\n",
        "\n",
        "load_pretrained = True\n",
        "\n",
        "num_gpus = torch.cuda.device_count()\n",
        "if num_gpus > 0:\n",
        "    current_device = 'cuda'\n",
        "else:\n",
        "    current_device = 'cpu'\n",
        "\n",
        "if load_pretrained:\n",
        "    if not os.path.exists('personachat_rnn_lm.pt'):\n",
        "        raise EOFError('Download pretrained model!')\n",
        "    model_dict = torch.load(\n",
        "        'personachat_rnn_lm.pt',\n",
        "        map_location=torch.device(current_device)\n",
        "    )\n",
        "    \n",
        "    options = model_dict['options']\n",
        "    model = RNNLanguageModel(options).to(current_device)\n",
        "    model.load_state_dict(model_dict['model_dict'])\n",
        "    \n",
        "else:\n",
        "    embedding_size = 256\n",
        "    hidden_size = 512\n",
        "    num_layers = 3\n",
        "    rnn_dropout = 0.3\n",
        "\n",
        "    options = {\n",
        "        'num_embeddings': len(dictionary),\n",
        "        'embedding_dim': embedding_size,\n",
        "        'padding_idx': dictionary.get_id('<pad>'),\n",
        "        'input_size': embedding_size,\n",
        "        'hidden_size': hidden_size,\n",
        "        'num_layers': num_layers,\n",
        "        'rnn_dropout': rnn_dropout,\n",
        "    }\n",
        "    model = RNNLanguageModel(options).to(current_device)\n",
        "    \n",
        "\n",
        "criterion = nn.CrossEntropyLoss(\n",
        "    ignore_index=dictionary.get_id('<pad>'), \n",
        "    reduction='sum'\n",
        ")\n",
        "\n",
        "model_parameters = [p for p in model.parameters() if p.requires_grad]\n",
        "optimizer = optim.SGD(model_parameters, lr=0.001, momentum=0.999)"
      ],
      "execution_count": null,
      "outputs": []
    },
    {
      "cell_type": "code",
      "metadata": {
        "colab": {
          "base_uri": "https://localhost:8080/"
        },
        "id": "qmMLIrhjbj_D",
        "outputId": "e514c935-f7ee-47c5-ec01-b847242bdbf7"
      },
      "source": [
        "model"
      ],
      "execution_count": null,
      "outputs": [
        {
          "output_type": "execute_result",
          "data": {
            "text/plain": [
              "RNNLanguageModel(\n",
              "  (lookup): Embedding(20089, 256, padding_idx=2)\n",
              "  (rnn): RNN(256, 512, num_layers=3, batch_first=True, dropout=0.3)\n",
              "  (projection): Linear(in_features=512, out_features=20089, bias=True)\n",
              ")"
            ]
          },
          "metadata": {},
          "execution_count": 61
        }
      ]
    },
    {
      "cell_type": "code",
      "metadata": {
        "id": "qwBqO3z7bj_L"
      },
      "source": [
        "#### Training loop (same as the feedforward model)"
      ],
      "execution_count": null,
      "outputs": []
    },
    {
      "cell_type": "code",
      "metadata": {
        "id": "Fw28_6qXbj_M"
      },
      "source": [
        "plot_cache = []\n",
        "\n",
        "if not load_pretrained:\n",
        "    for epoch_number in range(100):\n",
        "        avg_loss = 0\n",
        "        model.train()\n",
        "\n",
        "        train_loss_cache = 0\n",
        "        train_non_pad_tokens_cache = 0\n",
        "\n",
        "        for i, (inp, target) in enumerate(dataloaders['train']):\n",
        "            optimizer.zero_grad()\n",
        "            inp = inp.to(current_device)\n",
        "            target = target.to(current_device)\n",
        "            logits = model(inp)\n",
        "\n",
        "            loss = criterion(logits.view(-1, logits.size(-1)), target.view(-1))\n",
        "            train_loss_cache += loss.item()  # still sum here\n",
        "\n",
        "            non_pad_tokens = target.view(-1).ne(dictionary.get_id('<pad>')).sum().item()            \n",
        "            train_non_pad_tokens_cache += non_pad_tokens\n",
        "\n",
        "            loss /= non_pad_tokens \n",
        "\n",
        "            loss.backward()\n",
        "            optimizer.step()\n",
        "\n",
        "            if i % 100 == 0:\n",
        "                avg_loss = train_loss_cache / train_non_pad_tokens_cache\n",
        "                print('Step {} avg train loss = {:.{prec}f}'.format(i, avg_loss, prec=4))\n",
        "                train_log_cache = []\n",
        "\n",
        "        valid_loss_cache = 0\n",
        "        valid_non_pad_tokens_cache = 0\n",
        "\n",
        "        model.eval()\n",
        "        with torch.no_grad():\n",
        "            for i, (inp, target) in enumerate(dataloaders['valid']):\n",
        "                inp = inp.to(current_device)\n",
        "                target = target.to(current_device)\n",
        "                logits = model(inp)\n",
        "\n",
        "                loss = criterion(logits.view(-1, logits.size(-1)), target.view(-1))\n",
        "                valid_loss_cache += loss.item()  # still sum here\n",
        "                non_pad_tokens = target.view(-1).ne(dictionary.get_id('<pad>')).sum().item()\n",
        "\n",
        "                valid_non_pad_tokens_cache += non_pad_tokens\n",
        "\n",
        "            avg_val_loss = valid_loss_cache / valid_non_pad_tokens_cache\n",
        "\n",
        "            print('Validation loss after {} epoch = {:.{prec}f}'.format(epoch_number, avg_val_loss, prec=4))\n",
        "\n",
        "        plot_cache.append((avg_loss, avg_val_loss))\n"
      ],
      "execution_count": null,
      "outputs": []
    },
    {
      "cell_type": "code",
      "metadata": {
        "id": "KAV_hzMvbj_O"
      },
      "source": [
        "if load_pretrained:\n",
        "    plot_cache = model_dict['loss_cache']"
      ],
      "execution_count": null,
      "outputs": []
    },
    {
      "cell_type": "markdown",
      "metadata": {
        "id": "ESfQXpXm9rKf"
      },
      "source": [
        "### 4. Evaluation"
      ]
    },
    {
      "cell_type": "code",
      "metadata": {
        "colab": {
          "base_uri": "https://localhost:8080/",
          "height": 281
        },
        "id": "fhTtmqBfufyE",
        "outputId": "70ac09db-5111-455c-c11f-d12a276040f4"
      },
      "source": [
        "import matplotlib.pyplot as plt\n",
        "import numpy\n",
        "\n",
        "epochs = numpy.array(list(range(len(plot_cache))))\n",
        "plt.plot(epochs, [i[0] for i in plot_cache], label='Train loss')\n",
        "plt.plot(epochs, [i[1] for i in plot_cache], label='Valid loss')\n",
        "\n",
        "plt.legend()\n",
        "plt.title('Loss curves')\n",
        "plt.show()"
      ],
      "execution_count": null,
      "outputs": [
        {
          "output_type": "display_data",
          "data": {
            "text/plain": [
              "<Figure size 432x288 with 1 Axes>"
            ],
            "image/png": "[encoded data removed]"
          },
          "metadata": {
            "needs_background": "light"
          }
        }
      ]
    },
    {
      "cell_type": "code",
      "metadata": {
        "colab": {
          "base_uri": "https://localhost:8080/",
          "height": 280
        },
        "id": "R_A4w1QFufyN",
        "outputId": "10ac2d5f-41ea-4470-b61f-e366b5b9c0ca"
      },
      "source": [
        "import matplotlib.pyplot as plt\n",
        "import numpy\n",
        "\n",
        "epochs = numpy.array(list(range(len(plot_cache))))\n",
        "plt.plot(epochs, [2**(i[0]/numpy.log(2)) for i in plot_cache], label='Train ppl')\n",
        "plt.plot(epochs, [2**(i[1]/numpy.log(2)) for i in plot_cache], label='Valid ppl')\n",
        "\n",
        "plt.legend()\n",
        "plt.title('PPL curves')\n",
        "plt.show()"
      ],
      "execution_count": null,
      "outputs": [
        {
          "output_type": "display_data",
          "data": {
            "text/plain": [
              "<Figure size 432x288 with 1 Axes>"
            ],
            "image/png": "[encoded data removed]"
          },
          "metadata": {
            "needs_background": "light"
          }
        }
      ]
    },
    {
      "cell_type": "code",
      "source": [
        "val_ppl = np.min([2**(i[1]/numpy.log(2)) for i in plot_cache])\n",
        "k = np.argmin([2**(i[1]/numpy.log(2)) for i in plot_cache])\n",
        "train_ppl = 2**(plot_cache[k][0]/numpy.log(2))\n",
        "\n",
        "val_df = val_df.append({'model': 'rnn ', 'ppl': val_ppl}, ignore_index=True)\n",
        "train_df = train_df.append({'model': 'rnn ', 'ppl': train_ppl}, ignore_index=True)\n",
        "\n",
        "print('===== Train ======')\n",
        "print(train_df)\n",
        "print('==== Validation ======')\n",
        "print(val_df)"
      ],
      "metadata": {
        "colab": {
          "base_uri": "https://localhost:8080/"
        },
        "id": "aqpJr19oz4PO",
        "outputId": "903a0b2a-64e2-4469-ae50-9270c59c8cb7"
      },
      "execution_count": null,
      "outputs": [
        {
          "output_type": "stream",
          "name": "stdout",
          "text": [
            "===== Train ======\n",
            "         model        ppl\n",
            "0  kenlm (n=2)  39.924842\n",
            "1  kenlm (n=3)  15.462037\n",
            "2  kenlm (n=4)   8.919611\n",
            "3   ffnn (n=4)  29.426679\n",
            "4         rnn   29.582432\n",
            "==== Validation ======\n",
            "         model        ppl\n",
            "0  kenlm (n=2)  59.187973\n",
            "1  kenlm (n=3)  44.977117\n",
            "2  kenlm (n=4)  43.218831\n",
            "3   ffnn (n=4)  43.649380\n",
            "4         rnn   38.204541\n"
          ]
        }
      ]
    },
    {
      "cell_type": "markdown",
      "metadata": {
        "id": "zAvP_FXgbj_W"
      },
      "source": [
        "### Conditional probability queries\n",
        "\n",
        "We can query different probabilities:\n",
        "\n",
        "$\\large p(\\underbrace{x_t}_{\\text{token}}|\\underbrace{x_{<t}}_{\\text{prefix}})$"
      ]
    },
    {
      "cell_type": "code",
      "metadata": {
        "colab": {
          "base_uri": "https://localhost:8080/"
        },
        "id": "TMG0r9zwbj_X",
        "outputId": "65641c65-874c-47f7-d19f-a2906524fc32"
      },
      "source": [
        "import torch\n",
        "\n",
        "def next_token_probabilities(prefix, token):\n",
        "    inp = dictionary.encode_token_seq(prefix.split(' '))\n",
        "    with torch.no_grad():\n",
        "        model.eval()\n",
        "        logits = model(\n",
        "            torch.tensor([inp], dtype=torch.long).to(current_device)\n",
        "        )\n",
        "        \n",
        "    token_id = dictionary.get_id(token)\n",
        "    p_next_token = torch.softmax(logits[0, -1], dim=-1)\n",
        "    return p_next_token[token_id]\n",
        "\n",
        "prefix = '<bos> i have a'\n",
        "\n",
        "for w in ['dog', 'zebra', 'donut', 'velociraptor']:\n",
        "    prob = next_token_probabilities(prefix, w)\n",
        "    print('p( %s  | %s )\\t= %.3E' % (w, prefix, prob))\n",
        "    "
      ],
      "execution_count": null,
      "outputs": [
        {
          "output_type": "stream",
          "name": "stdout",
          "text": [
            "p( dog  | <bos> i have a )\t= 6.960E-02\n",
            "p( zebra  | <bos> i have a )\t= 1.633E-04\n",
            "p( donut  | <bos> i have a )\t= 1.039E-05\n",
            "p( velociraptor  | <bos> i have a )\t= 2.267E-07\n"
          ]
        }
      ]
    },
    {
      "cell_type": "markdown",
      "metadata": {
        "id": "8OSlmrRx9rKg"
      },
      "source": [
        "\n",
        "\n",
        "And sort by the highest probability next-tokens:\n",
        "\n",
        "$\\large \\texttt{sort}(p(\\cdot|\\underbrace{x_{<t}}_{\\text{prefix}}))$"
      ]
    },
    {
      "cell_type": "code",
      "metadata": {
        "colab": {
          "base_uri": "https://localhost:8080/"
        },
        "id": "rcPkhI4z9rKg",
        "outputId": "b5e28c9d-a2ad-4100-e508-97077474b916"
      },
      "source": [
        "def get_top_token_given_prefix(prefix, top=10):\n",
        "    inp = dictionary.encode_token_seq(prefix.split(' '))\n",
        "    with torch.no_grad():\n",
        "        model.eval()\n",
        "        logits = model(\n",
        "            torch.tensor([inp], dtype=torch.long).to(current_device)\n",
        "        )\n",
        "        \n",
        "    p_next_token = torch.softmax(logits[0, -1], dim=-1)\n",
        "    sorted_probs, sorted_token_ids = torch.topk(p_next_token, top)\n",
        "\n",
        "    for i in range(sorted_token_ids.size(0)):\n",
        "        print('p( %s  | %s )\\t= %.5f' % \n",
        "              (dictionary.decode_idx_seq([sorted_token_ids[i]])[0], \n",
        "               prefix, \n",
        "               sorted_probs[i])\n",
        "        )\n",
        "\n",
        "get_top_token_given_prefix('<bos> the weather is')"
      ],
      "execution_count": null,
      "outputs": [
        {
          "output_type": "stream",
          "name": "stdout",
          "text": [
            "p( great  | <bos> the weather is )\t= 0.09953\n",
            "p( nice  | <bos> the weather is )\t= 0.07860\n",
            "p( beautiful  | <bos> the weather is )\t= 0.06185\n",
            "p( fun  | <bos> the weather is )\t= 0.05039\n",
            "p( good  | <bos> the weather is )\t= 0.04573\n",
            "p( awesome  | <bos> the weather is )\t= 0.04308\n",
            "p( cool  | <bos> the weather is )\t= 0.04212\n",
            "p( my  | <bos> the weather is )\t= 0.03604\n",
            "p( a  | <bos> the weather is )\t= 0.02892\n",
            "p( so  | <bos> the weather is )\t= 0.02230\n"
          ]
        }
      ]
    },
    {
      "cell_type": "markdown",
      "metadata": {
        "id": "px0qqnMc9rKh"
      },
      "source": [
        "### Generation (Sampling)\n",
        "\n",
        "Finally, we can generate sentences using the model's conditional distribution:\n",
        "\n",
        "            context = [<bos>]\n",
        "            until <eos> is generated:\n",
        "                wt ~ p(wt | context)\n",
        "                context += [wt]\n",
        "                \n",
        "                \n",
        "Here, the `~` symbol stands for sampling from a categorical distribution. "
      ]
    },
    {
      "cell_type": "code",
      "metadata": {
        "colab": {
          "base_uri": "https://localhost:8080/"
        },
        "id": "Qk0-uRZa9rKh",
        "outputId": "28fe2112-1d8c-4290-bd5d-6ddc3273a2be"
      },
      "source": [
        "import torch\n",
        "\n",
        "def sample(model, prefix, num_samples, temperature=1.0, max_len=50):\n",
        "    inp = torch.tensor([\n",
        "        dictionary.encode_token_seq(prefix.split(' '))\n",
        "    ], dtype=torch.long).to(current_device).repeat([num_samples, 1])\n",
        "\n",
        "    sampled = [prefix.split(' ') for _ in range(num_samples)]\n",
        "    done = torch.tensor([False for _ in range(num_samples)])\n",
        "    hidden = None\n",
        "    \n",
        "    with torch.no_grad():\n",
        "        model.eval()\n",
        "        for t in range(max_len):\n",
        "            logits, hidden = step(model, inp, hidden)\n",
        "            logits_ = (logits[:, -1, :] / temperature)\n",
        "            inp = logits_.softmax(-1).multinomial(1)            \n",
        "            for i in range(num_samples):\n",
        "                tok_ti = dictionary.get_token(inp[i, 0].item())\n",
        "                if tok_ti == '<eos>' and not done[i]:\n",
        "                    done[i] = True\n",
        "                    sampled[i].append(tok_ti)\n",
        "                elif not done[i]:\n",
        "                    sampled[i].append(tok_ti)\n",
        "                else:\n",
        "                    pass\n",
        "            if done.sum() == num_samples:\n",
        "                break\n",
        "        \n",
        "    return sampled\n",
        "\n",
        "def step(rnn, token_ids, hidden):\n",
        "    embeddings = rnn.lookup(token_ids)\n",
        "    output, hidden = rnn.rnn(embeddings, hidden)\n",
        "    logits = rnn.projection(output) \n",
        "    return logits, hidden\n",
        "\n",
        "\n",
        "prefix = '<bos> i have a'\n",
        "\n",
        "for temp in [1.0, 0.5, 0.1]:\n",
        "    print(\"Temperature %.2f\" % temp)\n",
        "    samples = sample(model, prefix, 5, temperature=temp)\n",
        "    for s in samples:\n",
        "        print(' '.join(s))\n",
        "    print()"
      ],
      "execution_count": null,
      "outputs": [
        {
          "output_type": "stream",
          "name": "stdout",
          "text": [
            "Temperature 1.00\n",
            "<bos> i have a wired in my backyard wife and a grandma of 3 toes an top . <eos>\n",
            "<bos> i have a guilty in allergy . <eos>\n",
            "<bos> i have a prius . <eos>\n",
            "<bos> i have a couple that allow years . <eos>\n",
            "<bos> i have a type car car ! how about you ? no . i need to look for extra life much . <eos>\n",
            "\n",
            "Temperature 0.50\n",
            "<bos> i have a sister . i was in the army . <eos>\n",
            "<bos> i have a lot of friends . <eos>\n",
            "<bos> i have a dog , he is my best friend . <eos>\n",
            "<bos> i have a dog named cow . <eos>\n",
            "<bos> i have a cat . he is a great cook . <eos>\n",
            "\n",
            "Temperature 0.10\n",
            "<bos> i have a cat named cow . <eos>\n",
            "<bos> i have a dog named toto . <eos>\n",
            "<bos> i have a dog named toto . <eos>\n",
            "<bos> i have a cat named cow . <eos>\n",
            "<bos> i have a dog named toto . <eos>\n",
            "\n"
          ]
        }
      ]
    },
    {
      "cell_type": "code",
      "metadata": {
        "id": "uzGqlrKhbj_g"
      },
      "source": [
        "# Saving the model\n",
        "if False:\n",
        "    torch.save({\n",
        "        'options': options,\n",
        "        'loss_cache': plot_cache,\n",
        "        'model_dict': model.state_dict()\n",
        "    }, './persona_rnn_lm.pt')"
      ],
      "execution_count": null,
      "outputs": []
    },
    {
      "cell_type": "markdown",
      "metadata": {
        "id": "PNwDlMsL9rKh"
      },
      "source": [
        "# Large-scale Language Modeling.\n",
        "\n",
        "The language model above is relatively small in terms of the number of parameters, and is trained on a (very) small dataset.\n",
        "\n",
        "Recently, researchers have trained **large-scale language models** on **large amounts of data**, resulting in improved language modeling and generation ability. \n",
        "\n",
        "We take one from FAIR's recently published Open Pretrained Transformers (OPT) [[paper]([[paper](https://arxiv.org/pdf/2205.01068.pdf)] as an example here. OPT is a suite of decoder-only pre-trained transformers ranging from 125M to 175B parameters. We won't currently discuss the details of this model, but we can easily **use a pre-trained version to generate text**,"
      ]
    },
    {
      "cell_type": "markdown",
      "source": [
        "### [facebook/opt-350m](https://huggingface.co/facebook/opt-350m)"
      ],
      "metadata": {
        "id": "FifYNm9XUbZ2"
      }
    },
    {
      "cell_type": "code",
      "metadata": {
        "colab": {
          "base_uri": "https://localhost:8080/"
        },
        "id": "Bsh0TBqd9rKh",
        "outputId": "7e8890f9-5a96-466c-8b52-fce3571bc2f1"
      },
      "source": [
        "\n",
        "!pip install transformers"
      ],
      "execution_count": null,
      "outputs": [
        {
          "output_type": "stream",
          "name": "stdout",
          "text": [
            "Requirement already satisfied: transformers in /usr/local/lib/python3.7/dist-packages (4.19.2)\n",
            "Requirement already satisfied: huggingface-hub<1.0,>=0.1.0 in /usr/local/lib/python3.7/dist-packages (from transformers) (0.6.0)\n",
            "Requirement already satisfied: numpy>=1.17 in /usr/local/lib/python3.7/dist-packages (from transformers) (1.21.6)\n",
            "Requirement already satisfied: importlib-metadata in /usr/local/lib/python3.7/dist-packages (from transformers) (4.11.3)\n",
            "Requirement already satisfied: tokenizers!=0.11.3,<0.13,>=0.11.1 in /usr/local/lib/python3.7/dist-packages (from transformers) (0.12.1)\n",
            "Requirement already satisfied: requests in /usr/local/lib/python3.7/dist-packages (from transformers) (2.23.0)\n",
            "Requirement already satisfied: pyyaml>=5.1 in /usr/local/lib/python3.7/dist-packages (from transformers) (6.0)\n",
            "Requirement already satisfied: regex!=2019.12.17 in /usr/local/lib/python3.7/dist-packages (from transformers) (2019.12.20)\n",
            "Requirement already satisfied: tqdm>=4.27 in /usr/local/lib/python3.7/dist-packages (from transformers) (4.64.0)\n",
            "Requirement already satisfied: packaging>=20.0 in /usr/local/lib/python3.7/dist-packages (from transformers) (21.3)\n",
            "Requirement already satisfied: filelock in /usr/local/lib/python3.7/dist-packages (from transformers) (3.6.0)\n",
            "Requirement already satisfied: typing-extensions>=3.7.4.3 in /usr/local/lib/python3.7/dist-packages (from huggingface-hub<1.0,>=0.1.0->transformers) (4.2.0)\n",
            "Requirement already satisfied: pyparsing!=3.0.5,>=2.0.2 in /usr/local/lib/python3.7/dist-packages (from packaging>=20.0->transformers) (3.0.8)\n",
            "Requirement already satisfied: zipp>=0.5 in /usr/local/lib/python3.7/dist-packages (from importlib-metadata->transformers) (3.8.0)\n",
            "Requirement already satisfied: urllib3!=1.25.0,!=1.25.1,<1.26,>=1.21.1 in /usr/local/lib/python3.7/dist-packages (from requests->transformers) (1.24.3)\n",
            "Requirement already satisfied: certifi>=2017.4.17 in /usr/local/lib/python3.7/dist-packages (from requests->transformers) (2021.10.8)\n",
            "Requirement already satisfied: idna<3,>=2.5 in /usr/local/lib/python3.7/dist-packages (from requests->transformers) (2.10)\n",
            "Requirement already satisfied: chardet<4,>=3.0.2 in /usr/local/lib/python3.7/dist-packages (from requests->transformers) (3.0.4)\n"
          ]
        }
      ]
    },
    {
      "cell_type": "code",
      "source": [
        "from transformers import pipeline, set_seed\n",
        "\n",
        "set_seed(32)\n",
        "generator = pipeline('text-generation', \n",
        "                     model=\"facebook/opt-350m\", \n",
        "                     do_sample=True, \n",
        "                     num_return_sequences=5, max_length = 30)\n",
        "generator(\"My favorite food is\")"
      ],
      "metadata": {
        "colab": {
          "base_uri": "https://localhost:8080/"
        },
        "id": "dprAK8ZZNwvR",
        "outputId": "b5538a1c-14c2-4bc9-b9cc-5dca1ddaddb2"
      },
      "execution_count": null,
      "outputs": [
        {
          "output_type": "execute_result",
          "data": {
            "text/plain": [
              "[{'generated_text': 'My favorite food is bacon cheeseburgers.'},\n",
              " {'generated_text': 'My favorite food is chocolate covered pretzels. And I’m afraid of chocolate so I have to eat chocolate covered pretzels occasionally at'},\n",
              " {'generated_text': \"My favorite food is pizza. Also, I like the chocolate. I don't like it so much but I try to eat it all the time.\"},\n",
              " {'generated_text': 'My favorite food is fried chicken.\\nHow about fried shrimp?  I miss seafood.  The only good thing I made in my old apartment was'},\n",
              " {'generated_text': \"My favorite food is bacon but sometimes they taste too much like something else, but I've made homemade bajada with it, too.  \"}]"
            ]
          },
          "metadata": {},
          "execution_count": 16
        }
      ]
    },
    {
      "cell_type": "markdown",
      "source": [
        "### [facebook/opt-2.7b](https://huggingface.co/facebook/opt-2.7b)"
      ],
      "metadata": {
        "id": "WLAr9in1Uo6p"
      }
    },
    {
      "cell_type": "markdown",
      "source": [
        "We can also load even very large checkpoints by leveraging the dispatching utility in colab. This should handle up to 11B in Colab Free, and 30B in colab Pro. We will demonstrate how to load the **facebook/opt-2.7b** checkpoint here.\n",
        "\n",
        "\n",
        "Ref: https://colab.research.google.com/drive/14wnxMvD9zsiBQo2FtTpxn6w2cpXCcb-7#scrollTo=R94R2YaeQMQS&uniqifier=1"
      ],
      "metadata": {
        "id": "a0PHVvqPS1Ou"
      }
    },
    {
      "cell_type": "code",
      "source": [
        "! pip install transformers accelerate"
      ],
      "metadata": {
        "id": "zSn6mDbqM5O4",
        "colab": {
          "base_uri": "https://localhost:8080/"
        },
        "outputId": "ff1644ed-6b38-42d0-c061-a4d56c033758"
      },
      "execution_count": null,
      "outputs": [
        {
          "output_type": "stream",
          "name": "stdout",
          "text": [
            "Requirement already satisfied: transformers in /usr/local/lib/python3.7/dist-packages (4.19.2)\n",
            "Requirement already satisfied: accelerate in /usr/local/lib/python3.7/dist-packages (0.8.0)\n",
            "Requirement already satisfied: packaging>=20.0 in /usr/local/lib/python3.7/dist-packages (from transformers) (21.3)\n",
            "Requirement already satisfied: importlib-metadata in /usr/local/lib/python3.7/dist-packages (from transformers) (4.11.3)\n",
            "Requirement already satisfied: regex!=2019.12.17 in /usr/local/lib/python3.7/dist-packages (from transformers) (2019.12.20)\n",
            "Requirement already satisfied: tqdm>=4.27 in /usr/local/lib/python3.7/dist-packages (from transformers) (4.64.0)\n",
            "Requirement already satisfied: huggingface-hub<1.0,>=0.1.0 in /usr/local/lib/python3.7/dist-packages (from transformers) (0.6.0)\n",
            "Requirement already satisfied: numpy>=1.17 in /usr/local/lib/python3.7/dist-packages (from transformers) (1.21.6)\n",
            "Requirement already satisfied: tokenizers!=0.11.3,<0.13,>=0.11.1 in /usr/local/lib/python3.7/dist-packages (from transformers) (0.12.1)\n",
            "Requirement already satisfied: pyyaml>=5.1 in /usr/local/lib/python3.7/dist-packages (from transformers) (6.0)\n",
            "Requirement already satisfied: filelock in /usr/local/lib/python3.7/dist-packages (from transformers) (3.6.0)\n",
            "Requirement already satisfied: requests in /usr/local/lib/python3.7/dist-packages (from transformers) (2.23.0)\n",
            "Requirement already satisfied: typing-extensions>=3.7.4.3 in /usr/local/lib/python3.7/dist-packages (from huggingface-hub<1.0,>=0.1.0->transformers) (4.2.0)\n",
            "Requirement already satisfied: pyparsing!=3.0.5,>=2.0.2 in /usr/local/lib/python3.7/dist-packages (from packaging>=20.0->transformers) (3.0.8)\n",
            "Requirement already satisfied: torch>=1.4.0 in /usr/local/lib/python3.7/dist-packages (from accelerate) (1.11.0+cu113)\n",
            "Requirement already satisfied: zipp>=0.5 in /usr/local/lib/python3.7/dist-packages (from importlib-metadata->transformers) (3.8.0)\n",
            "Requirement already satisfied: chardet<4,>=3.0.2 in /usr/local/lib/python3.7/dist-packages (from requests->transformers) (3.0.4)\n",
            "Requirement already satisfied: urllib3!=1.25.0,!=1.25.1,<1.26,>=1.21.1 in /usr/local/lib/python3.7/dist-packages (from requests->transformers) (1.24.3)\n",
            "Requirement already satisfied: idna<3,>=2.5 in /usr/local/lib/python3.7/dist-packages (from requests->transformers) (2.10)\n",
            "Requirement already satisfied: certifi>=2017.4.17 in /usr/local/lib/python3.7/dist-packages (from requests->transformers) (2021.10.8)\n"
          ]
        }
      ]
    },
    {
      "cell_type": "code",
      "source": [
        "from huggingface_hub import snapshot_download\n",
        "\n",
        "checkpoint = 'facebook/opt-2.7b'\n",
        "weights_path = snapshot_download(checkpoint)\n",
        "\n",
        "# If the folder contains a checkpoint that isn't sharded, it needs to point to the state dict directly\n",
        "# otherwise point to the directory containing the shard\n",
        "import os\n",
        "files = os.listdir(weights_path)\n",
        "weights_path = os.path.join(weights_path, 'pytorch_model.bin') if 'pytorch_model.bin' in files else weights_path"
      ],
      "metadata": {
        "colab": {
          "base_uri": "https://localhost:8080/",
          "height": 273,
          "referenced_widgets": [
            "ea9c8029a3ef411187d4d164258a1bc1",
            "c0146294296b4f5589118ccf646e5d6c",
            "0814312beb4b4401936e941bf5efb4c7",
            "08a5efe1aa94420ba1810499d5fbffbd",
            "ae327ab333b94f99bfbad7a8a6f75c59",
            "b0b25c991ff9422e9f7b987bb503546a",
            "8084320f670c469e8cb2b9cb242ad105",
            "e5eed2c6a66d40e1af6ba8127517d87b",
            "84b293cd0cac475e94f7cf96fa94bc97",
            "66c5d881f9404336a5bc445a91cdd6c9",
            "f2cfe3dcaeed471197dc95f0664dc833",
            "73522b15fb9d450398b237a2b11b2d5e",
            "90b993dd171449f685ae15751ab71e73",
            "3ae160e0f7a64ecdb4a77d6c10d5dd23",
            "2669b67fa26b475499d773dc71ffc46f",
            "cbdc3a12da034d86b9dc2798cc0b8004",
            "c012e8e9ac674449a36a5644536e77a4",
            "77f73e8a2257406cb5b08c7d50988fcf",
            "3077410608624fe98d9c2af2454f6ab2",
            "873b4c9def97428a877e06edd64a323d",
            "0b8f59bb9e47431b90cd4cd703566d47",
            "3fb2ab459d8841b2b30df8036dc0ff0a",
            "5e771cd0d69042698ca933e48c14feaa",
            "2e88805dd0344fd6a35eab4e0b5988fe",
            "5916aac1c1a5423c84478e99582b4a78",
            "ccdec35f93654ebcae84f4ced374d830",
            "202667956aad4e6b8455e8558d3017be",
            "e1b7e15b231f4b709ea3fe4cf4d0b299",
            "dbfa43ec4f89495f9c88ce11b9cb1747",
            "ca70a95dc2c3402c9e3ee4bceb74ef26",
            "faa9becc03844a43b1533dbb630f4ee3",
            "730525513d3e47d19af56f5953b005a2",
            "660ab3ec7cc54157ac1a9b7fdc0a779d",
            "68156ca5fdef4fd3835b1c59e2d7d71e",
            "288fbc977b764f94b3d4b57744858865",
            "d4ebde9a95214192bd709183325d4aa4",
            "10c1330c655a41d08f471ba950cdf3e4",
            "020578eebc62411e90ca96b25d3df573",
            "00739b18eb7c4e6fbce5399a8313785f",
            "24e84fa3da6d454983a96038fb2cdea5",
            "1b63bc9800924208864c70647effc762",
            "e8d087b751c14e7eaae96ff54a424717",
            "2061e1f8dba546f48490f5817497d6f7",
            "30102fdc9a3641638d96152f38757554",
            "9d41963cc9244446a46b0443dbcfec17",
            "d2bfa95cbc6d412f932705c4653674cb",
            "b170499e989e4633b9e21f0ba5576c31",
            "21bdfd6a4c134434add067dc746b8dd9",
            "2980d857fea7448293bbd7f459e4f1dd",
            "fa83701a005b4881b7c7f040252dc13f",
            "856669584c554b1d9ac82ea857b3c091",
            "7fff7454f5b348f88bbb17ac46bcd3c9",
            "e1ec71f405414550af80b315941e09aa",
            "fba290038c6c4920b69545e12047ef90",
            "f67493eaeb7f4c38bac971fe13e82dc4",
            "9d87c6b033de4548a66435603dd5b959",
            "b3727f491c25438e9bba06d52cad92f7",
            "254735b4cdc243a0b9e377f397e701fd",
            "f765d0cb93614773804ad178d8bc2983",
            "1be6ab8b9ca24258afb17646d53e22d7",
            "9275a0135e3340b89cd9ad085173fefb",
            "47cecd2144d64ee6affecf203a81309b",
            "b983e73dade34a47b2a9d0ce65948783",
            "a47f7e4072cf4b28b24b0fe9d4e1c4ab",
            "1e8486bebe014be9a4599fd72e711d59",
            "c01a3a0176f44362a34a1d0ee852eb5c",
            "8f1d0945c5fb456ab2ba3d2dcdae69cf",
            "2463f7c95a374b52a09a975658b1d21c",
            "944103be941149ffaf6a63eddc7f3eef",
            "12c1e82ea65c46c3989cd2215b0eaf05",
            "8181210eaa1042028679dae42d572592",
            "0564653050b74665bea39dfc9e9cee4c",
            "d29a6e4ab9da41ecadcfde844dedb854",
            "4567ae6c286c4c159dc9df4ab1a0ee7c",
            "595b5be65d144e92bf9b10689636ac34",
            "00265afd58614e96b5035e850919af6f",
            "fb918c470e5248edacb29e19c4197721",
            "44a527403fd2429abd2ee03e1e6999b8",
            "de5be11f4c3b4994abd3e7f0ca77a6a8",
            "d79c49e37069401bbc0c305b03279e9d",
            "4845a0bc513b4d48b853a54d6cc67703",
            "50f93ffc41dc4d3a9d460642db16fecc",
            "853da941ae2241f3ae96df5b0c7397dc",
            "f56113c91dcc43eb89184461697111d2",
            "b99598ef705e49c190c745f066e80bf9",
            "e7c3373b5ff6403386ba6c433a26d795",
            "c10331b5d4b8481b83e5eda94abccad5",
            "4e405606de584b76b81ef56f7601a38a"
          ]
        },
        "id": "mm7yttuNTMZo",
        "outputId": "badabd5b-5b0e-4993-8220-791f6a1de758"
      },
      "execution_count": null,
      "outputs": [
        {
          "output_type": "display_data",
          "data": {
            "text/plain": [
              "Downloading:   0%|          | 0.00/1.17k [00:00<?, ?B/s]"
            ],
            "application/vnd.jupyter.widget-view+json": {
              "version_major": 2,
              "version_minor": 0,
              "model_id": "ea9c8029a3ef411187d4d164258a1bc1"
            }
          },
          "metadata": {}
        },
        {
          "output_type": "display_data",
          "data": {
            "text/plain": [
              "Downloading:   0%|          | 0.00/9.06k [00:00<?, ?B/s]"
            ],
            "application/vnd.jupyter.widget-view+json": {
              "version_major": 2,
              "version_minor": 0,
              "model_id": "73522b15fb9d450398b237a2b11b2d5e"
            }
          },
          "metadata": {}
        },
        {
          "output_type": "display_data",
          "data": {
            "text/plain": [
              "Downloading:   0%|          | 0.00/614 [00:00<?, ?B/s]"
            ],
            "application/vnd.jupyter.widget-view+json": {
              "version_major": 2,
              "version_minor": 0,
              "model_id": "5e771cd0d69042698ca933e48c14feaa"
            }
          },
          "metadata": {}
        },
        {
          "output_type": "display_data",
          "data": {
            "text/plain": [
              "Downloading:   0%|          | 0.00/456k [00:00<?, ?B/s]"
            ],
            "application/vnd.jupyter.widget-view+json": {
              "version_major": 2,
              "version_minor": 0,
              "model_id": "68156ca5fdef4fd3835b1c59e2d7d71e"
            }
          },
          "metadata": {}
        },
        {
          "output_type": "display_data",
          "data": {
            "text/plain": [
              "Downloading:   0%|          | 0.00/5.30G [00:00<?, ?B/s]"
            ],
            "application/vnd.jupyter.widget-view+json": {
              "version_major": 2,
              "version_minor": 0,
              "model_id": "9d41963cc9244446a46b0443dbcfec17"
            }
          },
          "metadata": {}
        },
        {
          "output_type": "display_data",
          "data": {
            "text/plain": [
              "Downloading:   0%|          | 0.00/441 [00:00<?, ?B/s]"
            ],
            "application/vnd.jupyter.widget-view+json": {
              "version_major": 2,
              "version_minor": 0,
              "model_id": "9d87c6b033de4548a66435603dd5b959"
            }
          },
          "metadata": {}
        },
        {
          "output_type": "display_data",
          "data": {
            "text/plain": [
              "Downloading:   0%|          | 0.00/721 [00:00<?, ?B/s]"
            ],
            "application/vnd.jupyter.widget-view+json": {
              "version_major": 2,
              "version_minor": 0,
              "model_id": "8f1d0945c5fb456ab2ba3d2dcdae69cf"
            }
          },
          "metadata": {}
        },
        {
          "output_type": "display_data",
          "data": {
            "text/plain": [
              "Downloading:   0%|          | 0.00/899k [00:00<?, ?B/s]"
            ],
            "application/vnd.jupyter.widget-view+json": {
              "version_major": 2,
              "version_minor": 0,
              "model_id": "44a527403fd2429abd2ee03e1e6999b8"
            }
          },
          "metadata": {}
        }
      ]
    },
    {
      "cell_type": "markdown",
      "metadata": {
        "id": "kWdYkXxblJLh"
      },
      "source": [
        "We then instantiate a configuration, and we load the model from the config inside the `init_empty_weights` decorator. \n",
        "\n",
        "This decorate instantiates an empty shell with the model. This does not actually load or instantiate any weight, only the shapes.\n",
        "\n",
        "This unties the weights, so we manually retie the weights afterwards."
      ]
    },
    {
      "cell_type": "code",
      "execution_count": null,
      "metadata": {
        "colab": {
          "base_uri": "https://localhost:8080/",
          "height": 49,
          "referenced_widgets": [
            "234e929ea85f4acba9bf7480e69f812e",
            "037a31f382d548029faa31da8c4db812",
            "9573a8a615b34652b7d76c0ff59aa8e1",
            "e28994fbc57f4989a262d612d79c380b",
            "8cdc25a994d748ffa9bd1b89f313dc68",
            "0b5069b2f4f44d16b4323125d4f32a44",
            "90952eea1cf947958e3af64ae4d45639",
            "1ac8350ecea44cf8aeb505b48c001bae",
            "82d612ad2a4e4b118adb26ff12f1efc4",
            "a4f52b18d14a42aeaca26ad8386ca25a",
            "53a6773ad5ca4862a09dcc6f5b19f30a"
          ]
        },
        "id": "y8Ne7jJdaF9F",
        "outputId": "b4541e46-e81b-4ef6-b36b-237c7c43655a"
      },
      "outputs": [
        {
          "output_type": "display_data",
          "data": {
            "text/plain": [
              "Downloading:   0%|          | 0.00/614 [00:00<?, ?B/s]"
            ],
            "application/vnd.jupyter.widget-view+json": {
              "version_major": 2,
              "version_minor": 0,
              "model_id": "234e929ea85f4acba9bf7480e69f812e"
            }
          },
          "metadata": {}
        }
      ],
      "source": [
        "from accelerate import init_empty_weights, dispatch_model, infer_auto_device_map, load_checkpoint_and_dispatch\n",
        "from transformers import AutoConfig, AutoModelForCausalLM, AutoTokenizer, AutoModelForSeq2SeqLM\n",
        "\n",
        "config = AutoConfig.from_pretrained(checkpoint)\n",
        "\n",
        "# Initializes an empty shell with the model. This is instant and does not take any RAM.\n",
        "with init_empty_weights():\n",
        "    model = AutoModelForCausalLM.from_config(config)\n",
        "# Initialize the model under the previous context manager breaks the tied weights.\n",
        "model.tie_weights()"
      ]
    },
    {
      "cell_type": "markdown",
      "metadata": {
        "id": "c4vNLf02lbKZ"
      },
      "source": [
        "Finally, we infer an a device map automatically from the model. It will place all the layers to disk, CPU RAM and GPU ram according to the available memory in each device."
      ]
    },
    {
      "cell_type": "code",
      "execution_count": null,
      "metadata": {
        "id": "1ltXPR7-izUX",
        "colab": {
          "base_uri": "https://localhost:8080/"
        },
        "outputId": "ac9a0a73-7d51-4189-9c68-0123e9dc4f07"
      },
      "outputs": [
        {
          "output_type": "execute_result",
          "data": {
            "text/plain": [
              "{'decoder': 0}"
            ]
          },
          "metadata": {},
          "execution_count": 7
        }
      ],
      "source": [
        "# Infer device map automatically\n",
        "device_map = infer_auto_device_map(model.model, no_split_module_classes=[\"OPTDecoderLayer\"], dtype='float16')\n",
        "\n",
        "if any([k == 'disk' for k in device_map.values()]):\n",
        "    offload_folder = 'offload_folder'\n",
        "else:\n",
        "    offload_folder = None\n",
        "\n",
        "device_map"
      ]
    },
    {
      "cell_type": "markdown",
      "metadata": {
        "id": "0OujQRPal_jJ"
      },
      "source": [
        "We load the checkpoint that is saved on disk and we dispatch it to the devices. At no point is the checkpoint fully loaded in RAM; only parts of it to be dispatched to each device.\n",
        "\n",
        "We load it as float16 so that we may load more layers at a time on each device for a faster execution time.\n",
        "\n",
        "\n",
        "\n",
        "\n"
      ]
    },
    {
      "cell_type": "code",
      "execution_count": null,
      "metadata": {
        "id": "ZeA_LQJ3cGbL"
      },
      "outputs": [],
      "source": [
        "load_checkpoint_and_dispatch(\n",
        "    model.model, \n",
        "    weights_path, \n",
        "    device_map=device_map, \n",
        "    offload_folder=offload_folder, \n",
        "    dtype='float16', \n",
        "    offload_state_dict=True\n",
        ")\n",
        "model.tie_weights()"
      ]
    },
    {
      "cell_type": "markdown",
      "metadata": {
        "id": "MoGXqv_lmVhN"
      },
      "source": [
        "Finally, we create a prompt to generate from and we generate a text from it."
      ]
    },
    {
      "cell_type": "code",
      "execution_count": null,
      "metadata": {
        "id": "3ysaqGruhbf2"
      },
      "outputs": [],
      "source": [
        "tokenizer = AutoTokenizer.from_pretrained('facebook/opt-6.7b')\n",
        "inputs = tokenizer(\"My favorite food is\", return_tensors=\"pt\")\n",
        "\n",
        "output = model.generate(inputs[\"input_ids\"].to(0), \n",
        "                        num_return_sequences=5, \n",
        "                        max_length = 30, \n",
        "                        do_sample=True)\n"
      ]
    },
    {
      "cell_type": "code",
      "execution_count": null,
      "metadata": {
        "id": "SGS9OW5qnaUH",
        "colab": {
          "base_uri": "https://localhost:8080/"
        },
        "outputId": "0cfad20a-a89a-4628-d98a-e0bdfa0148cf"
      },
      "outputs": [
        {
          "output_type": "stream",
          "name": "stdout",
          "text": [
            "My favorite food is sushi! Favorite drink is vodka soda! Favorite tv show is Dexter!! Favorite movie is Titanic!! Favorite dessert is cheesecake!! Favorite\n",
            "My favorite food is sushi! Favorite dessert is tiramisu! Favorite drink is espresso martinis!\"\n",
            "Favorite foods include sushi, tiramisu,\n",
            "My favorite food is tacos!! Favorite dessert is chocolate cake!! Favorite drink is soda!! Favorite movie is Frozen!! Favorite book is Diary of Anne Frank!!\n",
            "My favorite food is tacos tacos tacos tacos tacos tacos tacos tacos tacos tacos tacos tacos tacos tacos tacos tacos tacos tacos tacos tacos tacos tacos tacos tacos tacos tacos\n",
            "My favorite food is sushi!! Favorite dessert would probably be cheesecake :) Favorite drink would probably be cider :) Favorite dessert would probably be cheesecake :) Favorite\n"
          ]
        }
      ],
      "source": [
        "for out in output:\n",
        "  print(tokenizer.decode(out.tolist()))"
      ]
    },
    {
      "cell_type": "code",
      "source": [
        ""
      ],
      "metadata": {
        "id": "Qw-cqXzIZwuk"
      },
      "execution_count": null,
      "outputs": []
    }
  ]
}